{
 "cells": [
  {
   "cell_type": "code",
   "execution_count": 1,
   "id": "9d89c4c3",
   "metadata": {},
   "outputs": [],
   "source": [
    "# pip install opencv-python"
   ]
  },
  {
   "cell_type": "code",
   "execution_count": 2,
   "id": "34b30226",
   "metadata": {},
   "outputs": [
    {
     "name": "stdout",
     "output_type": "stream",
     "text": [
      "Versions of key libraries\n",
      "---\n",
      "tensorflow:  2.6.0\n",
      "numpy:       1.22.3\n",
      "matplotlib:  3.5.2\n",
      "sklearn:     1.1.1\n"
     ]
    }
   ],
   "source": [
    "import matplotlib\n",
    "import sklearn\n",
    "import numpy as np\n",
    "import pandas as pd\n",
    "import sklearn.metrics as metrics\n",
    "import matplotlib.pyplot as plt\n",
    "import pathlib\n",
    "import os\n",
    "import cv2\n",
    "import datetime\n",
    "\n",
    "import tensorflow as tf\n",
    "from tensorflow import keras\n",
    "from tensorflow.keras import layers\n",
    "from tensorflow.keras.callbacks import ModelCheckpoint,CSVLogger\n",
    "from tensorflow.keras.models import Sequential\n",
    "from tensorflow.keras.models import Model\n",
    "from tensorflow.keras.layers import Input\n",
    "from tensorflow.keras.layers import Dense\n",
    "from tensorflow.keras.layers import Dropout\n",
    "from tensorflow.keras.layers import Flatten\n",
    "from tensorflow.keras.layers import Conv2D\n",
    "from tensorflow.keras.layers import MaxPooling2D\n",
    "from tensorflow.keras.layers import concatenate\n",
    "from tensorflow.keras.utils import to_categorical\n",
    "from tensorflow.keras.utils import plot_model\n",
    "from tensorflow.keras import optimizers\n",
    "from tensorflow.keras import regularizers\n",
    "\n",
    "print(\"Versions of key libraries\")\n",
    "print(\"---\")\n",
    "print(\"tensorflow: \", tf.__version__)\n",
    "print(\"numpy:      \", np.__version__)\n",
    "print(\"matplotlib: \", matplotlib.__version__)\n",
    "print(\"sklearn:    \", sklearn.__version__)"
   ]
  },
  {
   "cell_type": "code",
   "execution_count": 3,
   "id": "84658303",
   "metadata": {},
   "outputs": [],
   "source": [
    "modelname   = 'compare'\n",
    "\n",
    "IMGSIZE = 128\n",
    "EPOCHS = 50\n",
    "BATCH_SIXE = 16\n",
    "OPT_IDX = 1\n",
    "\n",
    "modelname = modelname+\"_\"+str(IMGSIZE)+\"_\"+str(EPOCHS)+\"_\"+str(BATCH_SIXE)+\"_\"+str(OPT_IDX)\n",
    "optmzs = ['adam', optimizers.RMSprop(learning_rate=0.0001), 'rmsprop']\n",
    "optmz = optmzs[OPT_IDX]"
   ]
  },
  {
   "cell_type": "code",
   "execution_count": 4,
   "id": "f0487832",
   "metadata": {},
   "outputs": [
    {
     "name": "stdout",
     "output_type": "stream",
     "text": [
      "Model: \"model\"\n",
      "__________________________________________________________________________________________________\n",
      "Layer (type)                    Output Shape         Param #     Connected to                     \n",
      "==================================================================================================\n",
      "input_1 (InputLayer)            [(None, 128, 128, 3) 0                                            \n",
      "__________________________________________________________________________________________________\n",
      "input_2 (InputLayer)            [(None, 128, 128, 3) 0                                            \n",
      "__________________________________________________________________________________________________\n",
      "conv2d (Conv2D)                 (None, 128, 128, 64) 1792        input_1[0][0]                    \n",
      "__________________________________________________________________________________________________\n",
      "conv2d_1 (Conv2D)               (None, 128, 128, 64) 1792        input_2[0][0]                    \n",
      "__________________________________________________________________________________________________\n",
      "SharedLyr (Conv2D)              (None, 128, 128, 32) 18464       conv2d[0][0]                     \n",
      "                                                                 conv2d_1[0][0]                   \n",
      "__________________________________________________________________________________________________\n",
      "max_pooling2d (MaxPooling2D)    (None, 64, 64, 32)   0           SharedLyr[0][0]                  \n",
      "__________________________________________________________________________________________________\n",
      "max_pooling2d_1 (MaxPooling2D)  (None, 64, 64, 32)   0           SharedLyr[1][0]                  \n",
      "__________________________________________________________________________________________________\n",
      "SharedLyr2 (Conv2D)             (None, 64, 64, 16)   4624        max_pooling2d[0][0]              \n",
      "                                                                 max_pooling2d_1[0][0]            \n",
      "__________________________________________________________________________________________________\n",
      "max_pooling2d_2 (MaxPooling2D)  (None, 32, 32, 16)   0           SharedLyr2[0][0]                 \n",
      "__________________________________________________________________________________________________\n",
      "max_pooling2d_3 (MaxPooling2D)  (None, 32, 32, 16)   0           SharedLyr2[1][0]                 \n",
      "__________________________________________________________________________________________________\n",
      "concatenate (Concatenate)       (None, 32, 32, 32)   0           max_pooling2d_2[0][0]            \n",
      "                                                                 max_pooling2d_3[0][0]            \n",
      "__________________________________________________________________________________________________\n",
      "flatten (Flatten)               (None, 32768)        0           concatenate[0][0]                \n",
      "__________________________________________________________________________________________________\n",
      "dense (Dense)                   (None, 64)           2097216     flatten[0][0]                    \n",
      "__________________________________________________________________________________________________\n",
      "dense_1 (Dense)                 (None, 10)           650         dense[0][0]                      \n",
      "__________________________________________________________________________________________________\n",
      "dense_2 (Dense)                 (None, 1)            11          dense_1[0][0]                    \n",
      "==================================================================================================\n",
      "Total params: 2,124,549\n",
      "Trainable params: 2,124,549\n",
      "Non-trainable params: 0\n",
      "__________________________________________________________________________________________________\n"
     ]
    }
   ],
   "source": [
    "def createDualTwModel():\n",
    "    Lin = Input(shape=(IMGSIZE,IMGSIZE,3))\n",
    "    Lx = Conv2D(64,(3,3),padding='same',activation='relu')(Lin)\n",
    "    Rin = Input(shape=(IMGSIZE,IMGSIZE,3))\n",
    "    Rx = Conv2D(64,(3,3),padding='same',activation='relu')(Rin)\n",
    "    \n",
    "    shared = Conv2D(32,(3,3), padding='same', activation='relu', name='SharedLyr')\n",
    "    Lx = shared(Lx)\n",
    "    Rx = shared(Rx)\n",
    "    \n",
    "    Lx = MaxPooling2D(pool_size=(2,2))(Lx)\n",
    "    Rx = MaxPooling2D(pool_size=(2,2))(Rx)\n",
    "\n",
    "    shared2 = Conv2D(16,(3,3), padding='same', activation='relu', name='SharedLyr2')\n",
    "    Lx = shared2(Lx)\n",
    "    Rx = shared2(Rx)\n",
    "\n",
    "    Lx = MaxPooling2D(pool_size=(2,2))(Lx)\n",
    "    Rx = MaxPooling2D(pool_size=(2,2))(Rx)\n",
    "    \n",
    "    x = concatenate([Lx,Rx],axis=-1)\n",
    "    x = Flatten()(x)\n",
    "    x = Dense(64,activation='relu')(x)\n",
    "    x = Dense(10,activation='relu')(x)\n",
    "    x = Dense(1,activation='sigmoid')(x)\n",
    "\n",
    "    model = Model(inputs=[Lin,Rin],outputs=x)\n",
    "    model.compile(loss='binary_crossentropy', \n",
    "                  optimizer=optmz, \n",
    "                  metrics=['accuracy'])\n",
    "    \n",
    "    return model\n",
    "\n",
    "model       = createDualTwModel() # This is meant for training\n",
    "modelGo     = createDualTwModel() # This is used for final testing\n",
    "\n",
    "model.summary()"
   ]
  },
  {
   "cell_type": "code",
   "execution_count": 5,
   "id": "dced975a",
   "metadata": {},
   "outputs": [
    {
     "name": "stdout",
     "output_type": "stream",
     "text": [
      "Path to model: models/compare_128_50_16_1_2022-09-20_20-57-50.hdf5\n",
      "Path to log:   models/compare_128_50_16_1_2022-09-20_20-57-50.csv\n"
     ]
    }
   ],
   "source": [
    "                                                                                # Step 1\n",
    "modelname       = modelname+\"_\"+str(datetime.datetime.now())[:-7].replace(' ','_').replace(\":\",'-')\n",
    "folderpath      = 'models/'\n",
    "filepath        = folderpath + modelname + \".hdf5\"\n",
    "checkpoint      = ModelCheckpoint(filepath, \n",
    "                                  monitor='val_accuracy', \n",
    "                                  verbose=0, \n",
    "                                  save_best_only=True, \n",
    "                                  mode='max')\n",
    "\n",
    "csv_logger      = CSVLogger(folderpath+modelname +'.csv')                       # Step 2\n",
    "callbacks_list  = [checkpoint,csv_logger]                                       # Step 3\n",
    "\n",
    "print(\"Path to model:\", filepath)\n",
    "print(\"Path to log:  \", folderpath+modelname+'.csv')"
   ]
  },
  {
   "cell_type": "code",
   "execution_count": 6,
   "id": "6b8e5e56",
   "metadata": {},
   "outputs": [
    {
     "name": "stdout",
     "output_type": "stream",
     "text": [
      "Path to plot: models/compare_128_50_16_1_2022-09-20_20-57-50_plot.png\n"
     ]
    }
   ],
   "source": [
    "plotpath  = folderpath+modelname+'_plot.png'\n",
    "plot_model(model, \n",
    "           to_file=plotpath, \n",
    "           show_shapes=True, \n",
    "           show_layer_names=False,\n",
    "           rankdir='TB')\n",
    "print(\"Path to plot:\", plotpath)"
   ]
  },
  {
   "cell_type": "code",
   "execution_count": 7,
   "id": "9ca1b24f",
   "metadata": {},
   "outputs": [],
   "source": [
    "data_dir = pathlib.Path(\"dataset\")\n",
    "fish_images_dict = {\n",
    "    'arowana': list(data_dir.glob('arowana/*.jpg')),\n",
    "    'betta': list(data_dir.glob('betta/*.jpg')),\n",
    "    'goldfish': list(data_dir.glob('goldfish/*.jpg')),\n",
    "    'luohan': list(data_dir.glob('luohan/*.jpg'))\n",
    "}\n",
    "labelname = ['arowana','betta','goldfish','luohan']"
   ]
  },
  {
   "cell_type": "code",
   "execution_count": 8,
   "id": "32744a7a",
   "metadata": {},
   "outputs": [
    {
     "name": "stdout",
     "output_type": "stream",
     "text": [
      "dataset/samples/arowana.jpg\n",
      "dataset/samples/betta.jpg\n",
      "dataset/samples/goldfish.jpg\n",
      "dataset/samples/luohan.jpg\n"
     ]
    }
   ],
   "source": [
    "sampleFiles = ['dataset/samples/arowana.jpg', 'dataset/samples/betta.jpg', 'dataset/samples/goldfish.jpg', 'dataset/samples/luohan.jpg']\n",
    "samples = []\n",
    "for image in sampleFiles:\n",
    "    print(str(image))\n",
    "    img = cv2.imread(str(image))\n",
    "    resized_img = cv2.resize(img,(IMGSIZE,IMGSIZE))\n",
    "    samples.append(resized_img)"
   ]
  },
  {
   "cell_type": "code",
   "execution_count": 9,
   "id": "e62ba204",
   "metadata": {},
   "outputs": [],
   "source": [
    "X, y, z = [], [], []\n",
    "\n",
    "for fish_name, images in fish_images_dict.items():\n",
    "    for image in images:\n",
    "        img = cv2.imread(str(image))\n",
    "        resized_img = cv2.resize(img,(IMGSIZE,IMGSIZE))\n",
    "        for (i, sample) in enumerate(samples):\n",
    "            X.append(resized_img)\n",
    "            z.append(sample)\n",
    "            res = 1 if labelname.index(fish_name)==i else 0\n",
    "            y.append(res)"
   ]
  },
  {
   "cell_type": "code",
   "execution_count": 10,
   "id": "ad75350e",
   "metadata": {},
   "outputs": [],
   "source": [
    "X = np.array(X)\n",
    "y = np.array(y)\n",
    "z = np.array(z)\n",
    "# y = to_categorical(oy)\n",
    "from sklearn.model_selection import train_test_split\n",
    "X_train, X_test, y_train, y_test, z_train, z_test = train_test_split(X, y, z, random_state=42)\n",
    "X_train  = X_train / 255\n",
    "X_test   = X_test / 255\n",
    "z_train  = z_train / 255\n",
    "z_test   = z_test / 255"
   ]
  },
  {
   "cell_type": "code",
   "execution_count": 11,
   "id": "b0b245d2",
   "metadata": {},
   "outputs": [
    {
     "name": "stdout",
     "output_type": "stream",
     "text": [
      "Epoch 1/50\n",
      "577/577 [==============================] - 33s 33ms/step - loss: 0.4572 - accuracy: 0.7691 - val_loss: 0.3990 - val_accuracy: 0.8041\n",
      "Epoch 2/50\n",
      "577/577 [==============================] - 18s 31ms/step - loss: 0.3520 - accuracy: 0.8456 - val_loss: 0.3269 - val_accuracy: 0.8562\n",
      "Epoch 3/50\n",
      "577/577 [==============================] - 18s 30ms/step - loss: 0.2956 - accuracy: 0.8694 - val_loss: 0.3366 - val_accuracy: 0.8451\n",
      "Epoch 4/50\n",
      "577/577 [==============================] - 18s 30ms/step - loss: 0.2619 - accuracy: 0.8886 - val_loss: 0.2785 - val_accuracy: 0.8796\n",
      "Epoch 5/50\n",
      "577/577 [==============================] - 18s 31ms/step - loss: 0.2373 - accuracy: 0.9000 - val_loss: 0.2620 - val_accuracy: 0.8929\n",
      "Epoch 6/50\n",
      "577/577 [==============================] - 18s 31ms/step - loss: 0.2191 - accuracy: 0.9089 - val_loss: 0.2521 - val_accuracy: 0.8913\n",
      "Epoch 7/50\n",
      "577/577 [==============================] - 18s 31ms/step - loss: 0.2015 - accuracy: 0.9180 - val_loss: 0.2218 - val_accuracy: 0.9128\n",
      "Epoch 8/50\n",
      "577/577 [==============================] - 18s 31ms/step - loss: 0.1896 - accuracy: 0.9218 - val_loss: 0.2624 - val_accuracy: 0.8835\n",
      "Epoch 9/50\n",
      "577/577 [==============================] - 18s 31ms/step - loss: 0.1756 - accuracy: 0.9286 - val_loss: 0.2945 - val_accuracy: 0.8874\n",
      "Epoch 10/50\n",
      "577/577 [==============================] - 18s 31ms/step - loss: 0.1678 - accuracy: 0.9305 - val_loss: 0.2076 - val_accuracy: 0.9134\n",
      "Epoch 11/50\n",
      "577/577 [==============================] - 18s 31ms/step - loss: 0.1531 - accuracy: 0.9397 - val_loss: 0.2034 - val_accuracy: 0.9177\n",
      "Epoch 12/50\n",
      "577/577 [==============================] - 18s 31ms/step - loss: 0.1435 - accuracy: 0.9440 - val_loss: 0.2095 - val_accuracy: 0.9196\n",
      "Epoch 13/50\n",
      "577/577 [==============================] - 18s 31ms/step - loss: 0.1357 - accuracy: 0.9479 - val_loss: 0.2086 - val_accuracy: 0.9212\n",
      "Epoch 14/50\n",
      "577/577 [==============================] - 18s 31ms/step - loss: 0.1224 - accuracy: 0.9521 - val_loss: 0.2770 - val_accuracy: 0.8916\n",
      "Epoch 15/50\n",
      "577/577 [==============================] - 18s 31ms/step - loss: 0.1177 - accuracy: 0.9564 - val_loss: 0.2120 - val_accuracy: 0.9138\n",
      "Epoch 16/50\n",
      "577/577 [==============================] - 18s 31ms/step - loss: 0.1088 - accuracy: 0.9598 - val_loss: 0.2745 - val_accuracy: 0.9082\n",
      "Epoch 17/50\n",
      "577/577 [==============================] - 18s 31ms/step - loss: 0.0993 - accuracy: 0.9631 - val_loss: 0.3317 - val_accuracy: 0.9007\n",
      "Epoch 18/50\n",
      "577/577 [==============================] - 18s 31ms/step - loss: 0.0912 - accuracy: 0.9657 - val_loss: 0.2107 - val_accuracy: 0.9245\n",
      "Epoch 19/50\n",
      "577/577 [==============================] - 18s 31ms/step - loss: 0.0857 - accuracy: 0.9680 - val_loss: 0.2751 - val_accuracy: 0.9108\n",
      "Epoch 20/50\n",
      "577/577 [==============================] - 18s 31ms/step - loss: 0.0771 - accuracy: 0.9717 - val_loss: 0.2456 - val_accuracy: 0.9157\n",
      "Epoch 21/50\n",
      "577/577 [==============================] - 18s 31ms/step - loss: 0.0698 - accuracy: 0.9767 - val_loss: 0.2290 - val_accuracy: 0.9180\n",
      "Epoch 22/50\n",
      "577/577 [==============================] - 18s 31ms/step - loss: 0.0660 - accuracy: 0.9767 - val_loss: 0.2346 - val_accuracy: 0.9255\n",
      "Epoch 23/50\n",
      "577/577 [==============================] - 18s 31ms/step - loss: 0.0598 - accuracy: 0.9819 - val_loss: 0.2691 - val_accuracy: 0.9151\n",
      "Epoch 24/50\n",
      "577/577 [==============================] - 18s 31ms/step - loss: 0.0549 - accuracy: 0.9817 - val_loss: 0.2669 - val_accuracy: 0.9219\n",
      "Epoch 25/50\n",
      "577/577 [==============================] - 18s 31ms/step - loss: 0.0511 - accuracy: 0.9829 - val_loss: 0.2621 - val_accuracy: 0.9304\n",
      "Epoch 26/50\n",
      "577/577 [==============================] - 18s 31ms/step - loss: 0.0470 - accuracy: 0.9839 - val_loss: 0.2684 - val_accuracy: 0.9255\n",
      "Epoch 27/50\n",
      "577/577 [==============================] - 18s 31ms/step - loss: 0.0390 - accuracy: 0.9867 - val_loss: 0.2984 - val_accuracy: 0.9261\n",
      "Epoch 28/50\n",
      "577/577 [==============================] - 18s 31ms/step - loss: 0.0348 - accuracy: 0.9886 - val_loss: 0.2968 - val_accuracy: 0.9219\n",
      "Epoch 29/50\n",
      "577/577 [==============================] - 18s 31ms/step - loss: 0.0333 - accuracy: 0.9896 - val_loss: 0.3075 - val_accuracy: 0.9219\n",
      "Epoch 30/50\n",
      "577/577 [==============================] - 20s 34ms/step - loss: 0.0304 - accuracy: 0.9901 - val_loss: 0.3237 - val_accuracy: 0.9183\n",
      "Epoch 31/50\n",
      "577/577 [==============================] - 27s 47ms/step - loss: 0.0246 - accuracy: 0.9925 - val_loss: 0.3538 - val_accuracy: 0.9134\n",
      "Epoch 32/50\n",
      "577/577 [==============================] - 26s 46ms/step - loss: 0.0234 - accuracy: 0.9928 - val_loss: 0.3372 - val_accuracy: 0.9271\n",
      "Epoch 33/50\n",
      "577/577 [==============================] - 22s 38ms/step - loss: 0.0215 - accuracy: 0.9937 - val_loss: 0.3311 - val_accuracy: 0.9245\n",
      "Epoch 34/50\n",
      "577/577 [==============================] - 18s 30ms/step - loss: 0.0184 - accuracy: 0.9941 - val_loss: 0.3275 - val_accuracy: 0.9222\n",
      "Epoch 35/50\n",
      "577/577 [==============================] - 18s 31ms/step - loss: 0.0169 - accuracy: 0.9947 - val_loss: 0.4250 - val_accuracy: 0.9226\n",
      "Epoch 36/50\n",
      "577/577 [==============================] - 18s 31ms/step - loss: 0.0159 - accuracy: 0.9952 - val_loss: 0.5015 - val_accuracy: 0.9186\n",
      "Epoch 37/50\n",
      "577/577 [==============================] - 18s 31ms/step - loss: 0.0134 - accuracy: 0.9954 - val_loss: 0.3855 - val_accuracy: 0.9317\n",
      "Epoch 38/50\n",
      "577/577 [==============================] - 18s 31ms/step - loss: 0.0132 - accuracy: 0.9961 - val_loss: 0.3924 - val_accuracy: 0.9258\n",
      "Epoch 39/50\n",
      "577/577 [==============================] - 18s 31ms/step - loss: 0.0090 - accuracy: 0.9977 - val_loss: 0.4752 - val_accuracy: 0.9239\n",
      "Epoch 40/50\n",
      "577/577 [==============================] - 18s 31ms/step - loss: 0.0076 - accuracy: 0.9975 - val_loss: 0.4615 - val_accuracy: 0.9245\n",
      "Epoch 41/50\n",
      "577/577 [==============================] - 18s 31ms/step - loss: 0.0108 - accuracy: 0.9962 - val_loss: 0.4808 - val_accuracy: 0.9278\n",
      "Epoch 42/50\n",
      "577/577 [==============================] - 18s 31ms/step - loss: 0.0067 - accuracy: 0.9977 - val_loss: 0.5283 - val_accuracy: 0.9151\n",
      "Epoch 43/50\n",
      "577/577 [==============================] - 18s 31ms/step - loss: 0.0074 - accuracy: 0.9972 - val_loss: 0.5303 - val_accuracy: 0.9281\n",
      "Epoch 44/50\n",
      "577/577 [==============================] - 18s 31ms/step - loss: 0.0064 - accuracy: 0.9975 - val_loss: 0.5141 - val_accuracy: 0.9226\n",
      "Epoch 45/50\n",
      "577/577 [==============================] - 18s 31ms/step - loss: 0.0064 - accuracy: 0.9975 - val_loss: 0.5494 - val_accuracy: 0.9281\n",
      "Epoch 46/50\n",
      "577/577 [==============================] - 23s 40ms/step - loss: 0.0071 - accuracy: 0.9976 - val_loss: 0.5763 - val_accuracy: 0.9248\n",
      "Epoch 47/50\n",
      "577/577 [==============================] - 26s 46ms/step - loss: 0.0044 - accuracy: 0.9987 - val_loss: 0.5839 - val_accuracy: 0.9284\n",
      "Epoch 48/50\n",
      "577/577 [==============================] - 26s 45ms/step - loss: 0.0047 - accuracy: 0.9985 - val_loss: 0.6840 - val_accuracy: 0.9239\n",
      "Epoch 49/50\n",
      "577/577 [==============================] - 19s 33ms/step - loss: 0.0034 - accuracy: 0.9991 - val_loss: 0.5511 - val_accuracy: 0.9248\n",
      "Epoch 50/50\n",
      "577/577 [==============================] - 18s 30ms/step - loss: 0.0033 - accuracy: 0.9989 - val_loss: 0.6027 - val_accuracy: 0.9216\n"
     ]
    }
   ],
   "source": [
    "history = model.fit([X_train,z_train],                            # Training data\n",
    "          y_train,                            # Training label\n",
    "          validation_data=([X_test,z_test], y_test),   # Validation data and label\n",
    "          epochs=EPOCHS,                       # The amount of epochs to be trained\n",
    "          batch_size=BATCH_SIXE,                   \n",
    "          shuffle=True,                     # To shuffle the training data\n",
    "          callbacks=callbacks_list)         # Callbacks to execute the checkpoints"
   ]
  },
  {
   "cell_type": "code",
   "execution_count": 12,
   "id": "f7ea6f75",
   "metadata": {},
   "outputs": [
    {
     "data": {
      "image/png": "[encoded data removed]",
      "text/plain": [
       "<Figure size 576x576 with 2 Axes>"
      ]
     },
     "metadata": {
      "needs_background": "light"
     },
     "output_type": "display_data"
    }
   ],
   "source": [
    "# Plot the accuracy and error on training and test sets\n",
    "\n",
    "acc = history.history['accuracy']\n",
    "val_acc = history.history['val_accuracy']\n",
    "\n",
    "loss = history.history['loss']\n",
    "val_loss = history.history['val_loss']\n",
    "\n",
    "epochs_range = range(EPOCHS)\n",
    "\n",
    "plt.figure(figsize=(8, 8))\n",
    "plt.subplot(1, 2, 1)\n",
    "plt.plot(epochs_range, acc, label='Training Accuracy')\n",
    "plt.plot(epochs_range, val_acc, label='Validation Accuracy')\n",
    "plt.legend(loc='lower right')\n",
    "plt.title('Training and Validation Accuracy')\n",
    "\n",
    "plt.subplot(1, 2, 2)\n",
    "plt.plot(epochs_range, loss, label='Training Loss')\n",
    "plt.plot(epochs_range, val_loss, label='Validation Loss')\n",
    "plt.legend(loc='upper right')\n",
    "plt.title('Training and Validation Loss')\n",
    "plt.savefig(folderpath+modelname+'_accuracy_plot.png')\n",
    "plt.show()"
   ]
  },
  {
   "cell_type": "code",
   "execution_count": 14,
   "id": "298b829c",
   "metadata": {},
   "outputs": [
    {
     "name": "stdout",
     "output_type": "stream",
     "text": [
      "Prediction completes.\n"
     ]
    }
   ],
   "source": [
    "                                                                                # Step 1\n",
    "modelGo.load_weights(filepath)\n",
    "modelGo.compile(loss='binary_crossentropy', \n",
    "                optimizer=optmz, \n",
    "                metrics=['accuracy'])\n",
    "\n",
    "predicts    = modelGo.predict([X_test,z_test])                                            # Step 2\n",
    "print(\"Prediction completes.\")"
   ]
  },
  {
   "cell_type": "code",
   "execution_count": null,
   "id": "1a828a8d",
   "metadata": {},
   "outputs": [],
   "source": [
    "                                                                                # Step 1\n",
    "                                                                                # Step 2\n",
    "predout     = np.argmax(predicts,axis=1)\n",
    "testout     = np.argmax(y_test,axis=1)\n",
    "\n",
    "testScores  = metrics.accuracy_score(testout,predout)                           # Step 3\n",
    "\n",
    "                                                                                # Step 4\n",
    "print(\"Best accuracy (on testing dataset): %.2f%%\" % (testScores*100))\n",
    "print(metrics.classification_report(testout,\n",
    "                                    predout,\n",
    "                                    target_names=[\"false\",\"true\"],\n",
    "                                    digits=4))\n",
    "\n",
    "report = metrics.classification_report(testout,\n",
    "                                    predout,\n",
    "                                    target_names=[\"false\",\"true\"],\n",
    "                                    digits=4,\n",
    "                                      output_dict=True)\n",
    "\n",
    "df = pd.DataFrame(report).transpose()\n",
    "df.to_csv(folderpath+modelname+'_report.csv')"
   ]
  },
  {
   "cell_type": "code",
   "execution_count": null,
   "id": "42557859",
   "metadata": {},
   "outputs": [],
   "source": []
  }
 ],
 "metadata": {
  "kernelspec": {
   "display_name": "Python 3 (ipykernel)",
   "language": "python",
   "name": "python3"
  },
  "language_info": {
   "codemirror_mode": {
    "name": "ipython",
    "version": 3
   },
   "file_extension": ".py",
   "mimetype": "text/x-python",
   "name": "python",
   "nbconvert_exporter": "python",
   "pygments_lexer": "ipython3",
   "version": "3.9.12"
  }
 },
 "nbformat": 4,
 "nbformat_minor": 5
}
