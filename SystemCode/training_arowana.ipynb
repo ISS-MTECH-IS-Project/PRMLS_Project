{
 "cells": [
  {
   "cell_type": "code",
   "execution_count": 1,
   "id": "9d89c4c3",
   "metadata": {},
   "outputs": [],
   "source": [
    "# pip install opencv-python"
   ]
  },
  {
   "cell_type": "code",
   "execution_count": 2,
   "id": "34b30226",
   "metadata": {},
   "outputs": [
    {
     "name": "stdout",
     "output_type": "stream",
     "text": [
      "Versions of key libraries\n",
      "---\n",
      "tensorflow:  2.6.0\n",
      "numpy:       1.22.3\n",
      "matplotlib:  3.5.2\n",
      "sklearn:     1.1.1\n"
     ]
    },
    {
     "data": {
      "text/plain": [
       "[PhysicalDevice(name='/physical_device:CPU:0', device_type='CPU'),\n",
       " PhysicalDevice(name='/physical_device:GPU:0', device_type='GPU')]"
      ]
     },
     "execution_count": 2,
     "metadata": {},
     "output_type": "execute_result"
    }
   ],
   "source": [
    "import matplotlib\n",
    "import sklearn\n",
    "import numpy as np\n",
    "import pandas as pd\n",
    "import sklearn.metrics as metrics\n",
    "import matplotlib.pyplot as plt\n",
    "import pathlib\n",
    "import os\n",
    "import cv2\n",
    "import datetime\n",
    "\n",
    "import tensorflow as tf\n",
    "from tensorflow import keras\n",
    "from tensorflow.keras import layers\n",
    "from tensorflow.keras.callbacks import ModelCheckpoint,CSVLogger\n",
    "from tensorflow.keras.models import Sequential\n",
    "from tensorflow.keras.layers import Dense\n",
    "from tensorflow.keras.layers import Dropout\n",
    "from tensorflow.keras.layers import Flatten\n",
    "from tensorflow.keras.layers import Conv2D\n",
    "from tensorflow.keras.layers import MaxPooling2D\n",
    "from tensorflow.keras.utils import to_categorical\n",
    "from tensorflow.keras.utils import plot_model\n",
    "from tensorflow.keras import optimizers\n",
    "from tensorflow.keras import regularizers\n",
    "\n",
    "print(\"Versions of key libraries\")\n",
    "print(\"---\")\n",
    "print(\"tensorflow: \", tf.__version__)\n",
    "print(\"numpy:      \", np.__version__)\n",
    "print(\"matplotlib: \", matplotlib.__version__)\n",
    "print(\"sklearn:    \", sklearn.__version__)\n",
    "tf.config.list_physical_devices()"
   ]
  },
  {
   "cell_type": "code",
   "execution_count": 3,
   "id": "84658303",
   "metadata": {},
   "outputs": [],
   "source": [
    "modelname   = 'arowana'\n",
    "\n",
    "fishType = modelname\n",
    "IMGSIZE = 128\n",
    "EPOCHS = 20\n",
    "BATCH_SIZE = 64\n",
    "OPT_IDX = 1\n",
    "ACTIVATION = 'softmax'\n",
    "N_LABELS = 2\n",
    "\n",
    "modelname = modelname+\"_\"+ACTIVATION+\"_\"+str(IMGSIZE)+\"_\"+str(EPOCHS)+\"_\"+str(BATCH_SIZE)+\"_\"+str(OPT_IDX)\n",
    "optmzs = ['adam', optimizers.RMSprop(learning_rate=0.0001)]\n",
    "optmz = optmzs[OPT_IDX]"
   ]
  },
  {
   "cell_type": "code",
   "execution_count": 4,
   "id": "f0487832",
   "metadata": {},
   "outputs": [
    {
     "name": "stdout",
     "output_type": "stream",
     "text": [
      "Model: \"sequential\"\n",
      "_________________________________________________________________\n",
      "Layer (type)                 Output Shape              Param #   \n",
      "=================================================================\n",
      "conv2d (Conv2D)              (None, 128, 128, 32)      896       \n",
      "_________________________________________________________________\n",
      "max_pooling2d (MaxPooling2D) (None, 64, 64, 32)        0         \n",
      "_________________________________________________________________\n",
      "conv2d_1 (Conv2D)            (None, 64, 64, 16)        4624      \n",
      "_________________________________________________________________\n",
      "max_pooling2d_1 (MaxPooling2 (None, 32, 32, 16)        0         \n",
      "_________________________________________________________________\n",
      "dropout (Dropout)            (None, 32, 32, 16)        0         \n",
      "_________________________________________________________________\n",
      "flatten (Flatten)            (None, 16384)             0         \n",
      "_________________________________________________________________\n",
      "dense (Dense)                (None, 10)                163850    \n",
      "_________________________________________________________________\n",
      "dense_1 (Dense)              (None, 2)                 22        \n",
      "=================================================================\n",
      "Total params: 169,392\n",
      "Trainable params: 169,392\n",
      "Non-trainable params: 0\n",
      "_________________________________________________________________\n"
     ]
    }
   ],
   "source": [
    "def createModel():\n",
    "    model = Sequential()\n",
    "    model.add(Conv2D(32, (3,3), padding='same', input_shape=(IMGSIZE,IMGSIZE,3), activation='relu'))\n",
    "    model.add(MaxPooling2D(pool_size=(2,2)))\n",
    "    model.add(Conv2D(16, (3,3), padding='same', activation='relu'))\n",
    "    model.add(MaxPooling2D(pool_size=(2,2)))\n",
    "    model.add(Dropout(0.2))\n",
    "    model.add(Flatten())\n",
    "    model.add(Dense(10, activation='relu'))\n",
    "    model.add(Dense(N_LABELS, activation=ACTIVATION))\n",
    "    model.compile(loss='categorical_crossentropy', optimizer=optmz, metrics=['accuracy'])\n",
    "    return model\n",
    "\n",
    "model       = createModel() # This is meant for training\n",
    "modelGo     = createModel() # This is used for final testing\n",
    "\n",
    "model.summary()"
   ]
  },
  {
   "cell_type": "code",
   "execution_count": 5,
   "id": "dced975a",
   "metadata": {},
   "outputs": [
    {
     "name": "stdout",
     "output_type": "stream",
     "text": [
      "Path to model: models/arowana_softmax_128_20_64_1_2022-09-25_16-46-01.hdf5\n",
      "Path to log:   models/arowana_softmax_128_20_64_1_2022-09-25_16-46-01.csv\n"
     ]
    }
   ],
   "source": [
    "                                                                                # Step 1\n",
    "modelname       = modelname+\"_\"+str(datetime.datetime.now())[:-7].replace(' ','_').replace(\":\",'-')\n",
    "folderpath      = 'models/'\n",
    "filepath        = folderpath + modelname + \".hdf5\"\n",
    "checkpoint      = ModelCheckpoint(filepath, \n",
    "                                  monitor='val_accuracy', \n",
    "                                  verbose=0, \n",
    "                                  save_best_only=True, \n",
    "                                  mode='max')\n",
    "\n",
    "csv_logger      = CSVLogger(folderpath+modelname +'.csv')                       # Step 2\n",
    "callbacks_list  = [checkpoint,csv_logger]                                       # Step 3\n",
    "\n",
    "print(\"Path to model:\", filepath)\n",
    "print(\"Path to log:  \", folderpath+modelname+'.csv')"
   ]
  },
  {
   "cell_type": "code",
   "execution_count": 6,
   "id": "6b8e5e56",
   "metadata": {},
   "outputs": [
    {
     "name": "stdout",
     "output_type": "stream",
     "text": [
      "Path to plot: models/arowana_softmax_128_20_64_1_2022-09-25_16-46-01_plot.png\n"
     ]
    }
   ],
   "source": [
    "plotpath  = folderpath+modelname+'_plot.png'\n",
    "plot_model(model, \n",
    "           to_file=plotpath, \n",
    "           show_shapes=True, \n",
    "           show_layer_names=False,\n",
    "           rankdir='TB')\n",
    "print(\"Path to plot:\", plotpath)"
   ]
  },
  {
   "cell_type": "code",
   "execution_count": 7,
   "id": "9ca1b24f",
   "metadata": {},
   "outputs": [],
   "source": [
    "data_dir = pathlib.Path(\"dataset\")\n",
    "fish_images_dict = {\n",
    "    'arowana': list(data_dir.glob('arowana/*.jpg')),\n",
    "    'betta': list(data_dir.glob('betta/*.jpg')),\n",
    "    'goldfish': list(data_dir.glob('goldfish/*.jpg')),\n",
    "    'luohan': list(data_dir.glob('luohan/*.jpg'))\n",
    "}\n",
    "# labelname = ['arowana','betta','goldfish','luohan']\n",
    "labelname = ['not '+fishType, fishType]"
   ]
  },
  {
   "cell_type": "code",
   "execution_count": 8,
   "id": "e62ba204",
   "metadata": {},
   "outputs": [],
   "source": [
    "X, y = [], []\n",
    "\n",
    "for fish_name, images in fish_images_dict.items():\n",
    "    for image in images:\n",
    "        img = cv2.imread(str(image))\n",
    "        resized_img = cv2.resize(img,(IMGSIZE,IMGSIZE))\n",
    "        X.append(resized_img)\n",
    "        y.append(1 if fish_name==fishType else 0)"
   ]
  },
  {
   "cell_type": "code",
   "execution_count": 9,
   "id": "ad75350e",
   "metadata": {},
   "outputs": [],
   "source": [
    "X = np.array(X)\n",
    "oy = np.array(y)\n",
    "y = to_categorical(oy)\n",
    "from sklearn.model_selection import train_test_split\n",
    "X_train, X_test, y_train, y_test = train_test_split(X, y, random_state=42)\n",
    "X_train  = X_train / 255\n",
    "X_test   = X_test / 255"
   ]
  },
  {
   "cell_type": "code",
   "execution_count": 10,
   "id": "b0b245d2",
   "metadata": {},
   "outputs": [
    {
     "name": "stdout",
     "output_type": "stream",
     "text": [
      "Epoch 1/20\n",
      "39/39 [==============================] - 8s 33ms/step - loss: 0.5680 - accuracy: 0.7013 - val_loss: 0.5525 - val_accuracy: 0.7150\n",
      "Epoch 2/20\n",
      "39/39 [==============================] - 1s 16ms/step - loss: 0.5023 - accuracy: 0.7403 - val_loss: 0.4966 - val_accuracy: 0.7295\n",
      "Epoch 3/20\n",
      "39/39 [==============================] - 1s 17ms/step - loss: 0.4521 - accuracy: 0.7886 - val_loss: 0.4558 - val_accuracy: 0.7548\n",
      "Epoch 4/20\n",
      "39/39 [==============================] - 1s 17ms/step - loss: 0.4103 - accuracy: 0.8128 - val_loss: 0.4088 - val_accuracy: 0.8092\n",
      "Epoch 5/20\n",
      "39/39 [==============================] - 1s 17ms/step - loss: 0.3739 - accuracy: 0.8362 - val_loss: 0.3859 - val_accuracy: 0.8092\n",
      "Epoch 6/20\n",
      "39/39 [==============================] - 1s 17ms/step - loss: 0.3514 - accuracy: 0.8454 - val_loss: 0.3762 - val_accuracy: 0.8104\n",
      "Epoch 7/20\n",
      "39/39 [==============================] - 1s 17ms/step - loss: 0.3342 - accuracy: 0.8539 - val_loss: 0.3501 - val_accuracy: 0.8249\n",
      "Epoch 8/20\n",
      "39/39 [==============================] - 1s 17ms/step - loss: 0.3217 - accuracy: 0.8575 - val_loss: 0.3373 - val_accuracy: 0.8454\n",
      "Epoch 9/20\n",
      "39/39 [==============================] - 1s 17ms/step - loss: 0.3084 - accuracy: 0.8680 - val_loss: 0.3625 - val_accuracy: 0.8309\n",
      "Epoch 10/20\n",
      "39/39 [==============================] - 1s 17ms/step - loss: 0.2991 - accuracy: 0.8756 - val_loss: 0.3275 - val_accuracy: 0.8539\n",
      "Epoch 11/20\n",
      "39/39 [==============================] - 1s 17ms/step - loss: 0.2914 - accuracy: 0.8760 - val_loss: 0.3272 - val_accuracy: 0.8708\n",
      "Epoch 12/20\n",
      "39/39 [==============================] - 1s 17ms/step - loss: 0.2851 - accuracy: 0.8804 - val_loss: 0.3140 - val_accuracy: 0.8635\n",
      "Epoch 13/20\n",
      "39/39 [==============================] - 1s 17ms/step - loss: 0.2716 - accuracy: 0.8877 - val_loss: 0.3378 - val_accuracy: 0.8357\n",
      "Epoch 14/20\n",
      "39/39 [==============================] - 1s 17ms/step - loss: 0.2650 - accuracy: 0.8877 - val_loss: 0.3444 - val_accuracy: 0.8333\n",
      "Epoch 15/20\n",
      "39/39 [==============================] - 1s 18ms/step - loss: 0.2595 - accuracy: 0.8909 - val_loss: 0.3227 - val_accuracy: 0.8635\n",
      "Epoch 16/20\n",
      "39/39 [==============================] - 1s 18ms/step - loss: 0.2586 - accuracy: 0.8921 - val_loss: 0.3148 - val_accuracy: 0.8671\n",
      "Epoch 17/20\n",
      "39/39 [==============================] - 1s 18ms/step - loss: 0.2439 - accuracy: 0.9006 - val_loss: 0.3041 - val_accuracy: 0.8732\n",
      "Epoch 18/20\n",
      "39/39 [==============================] - 1s 17ms/step - loss: 0.2450 - accuracy: 0.8965 - val_loss: 0.3535 - val_accuracy: 0.8321\n",
      "Epoch 19/20\n",
      "39/39 [==============================] - 1s 18ms/step - loss: 0.2390 - accuracy: 0.9062 - val_loss: 0.3008 - val_accuracy: 0.8829\n",
      "Epoch 20/20\n",
      "39/39 [==============================] - 1s 18ms/step - loss: 0.2338 - accuracy: 0.9054 - val_loss: 0.3266 - val_accuracy: 0.8647\n"
     ]
    }
   ],
   "source": [
    "history = model.fit(X_train,                            # Training data\n",
    "          y_train,                            # Training label\n",
    "          validation_data=(X_test, y_test),   # Validation data and label\n",
    "          epochs=EPOCHS,                       # The amount of epochs to be trained\n",
    "          batch_size=BATCH_SIZE,                   \n",
    "          shuffle=True,                     # To shuffle the training data\n",
    "          callbacks=callbacks_list)         # Callbacks to execute the checkpoints"
   ]
  },
  {
   "cell_type": "code",
   "execution_count": 11,
   "id": "f7ea6f75",
   "metadata": {},
   "outputs": [
    {
     "data": {
      "image/png": "[encoded data removed]",
      "text/plain": [
       "<Figure size 576x576 with 2 Axes>"
      ]
     },
     "metadata": {
      "needs_background": "light"
     },
     "output_type": "display_data"
    }
   ],
   "source": [
    "# Plot the accuracy and error on training and test sets\n",
    "\n",
    "acc = history.history['accuracy']\n",
    "val_acc = history.history['val_accuracy']\n",
    "\n",
    "loss = history.history['loss']\n",
    "val_loss = history.history['val_loss']\n",
    "\n",
    "epochs_range = range(EPOCHS)\n",
    "\n",
    "plt.figure(figsize=(8, 8))\n",
    "plt.subplot(1, 2, 1)\n",
    "plt.plot(epochs_range, acc, label='Training Accuracy')\n",
    "plt.plot(epochs_range, val_acc, label='Validation Accuracy')\n",
    "plt.legend(loc='lower right')\n",
    "plt.title('Training and Validation Accuracy')\n",
    "\n",
    "plt.subplot(1, 2, 2)\n",
    "plt.plot(epochs_range, loss, label='Training Loss')\n",
    "plt.plot(epochs_range, val_loss, label='Validation Loss')\n",
    "plt.legend(loc='upper right')\n",
    "plt.title('Training and Validation Loss')\n",
    "plt.savefig(folderpath+modelname+'_accuracy_plot.png')\n",
    "plt.show()"
   ]
  },
  {
   "cell_type": "code",
   "execution_count": 12,
   "id": "298b829c",
   "metadata": {},
   "outputs": [
    {
     "name": "stdout",
     "output_type": "stream",
     "text": [
      "Prediction completes.\n"
     ]
    }
   ],
   "source": [
    "                                                                                # Step 1\n",
    "modelGo.load_weights(filepath)\n",
    "modelGo.compile(loss='categorical_crossentropy', \n",
    "                optimizer=optmz, \n",
    "                metrics=['accuracy'])\n",
    "\n",
    "predicts    = modelGo.predict(X_test)                                            # Step 2\n",
    "print(\"Prediction completes.\")"
   ]
  },
  {
   "cell_type": "code",
   "execution_count": 13,
   "id": "1a828a8d",
   "metadata": {},
   "outputs": [
    {
     "name": "stdout",
     "output_type": "stream",
     "text": [
      "Best accuracy (on testing dataset): 88.29%\n",
      "              precision    recall  f1-score   support\n",
      "\n",
      " not arowana     0.8933    0.9368    0.9145       554\n",
      "     arowana     0.8583    0.7737    0.8138       274\n",
      "\n",
      "    accuracy                         0.8829       828\n",
      "   macro avg     0.8758    0.8553    0.8642       828\n",
      "weighted avg     0.8817    0.8829    0.8812       828\n",
      "\n"
     ]
    }
   ],
   "source": [
    "                                                                                # Step 1\n",
    "                                                                                # Step 2\n",
    "predout     = np.argmax(predicts,axis=1)\n",
    "testout     = np.argmax(y_test,axis=1)\n",
    "\n",
    "testScores  = metrics.accuracy_score(testout,predout)                           # Step 3\n",
    "\n",
    "                                                                                # Step 4\n",
    "print(\"Best accuracy (on testing dataset): %.2f%%\" % (testScores*100))\n",
    "print(metrics.classification_report(testout,\n",
    "                                    predout,\n",
    "                                    target_names=labelname,\n",
    "                                    digits=4))\n",
    "\n",
    "report = metrics.classification_report(testout,\n",
    "                                    predout,\n",
    "                                    target_names=labelname,\n",
    "                                    digits=4,\n",
    "                                      output_dict=True)\n",
    "\n",
    "df = pd.DataFrame(report).transpose()\n",
    "df.to_csv(folderpath+modelname+'_report.csv')"
   ]
  },
  {
   "cell_type": "code",
   "execution_count": null,
   "id": "42557859",
   "metadata": {},
   "outputs": [],
   "source": []
  }
 ],
 "metadata": {
  "kernelspec": {
   "display_name": "Python 3 (ipykernel)",
   "language": "python",
   "name": "python3"
  },
  "language_info": {
   "codemirror_mode": {
    "name": "ipython",
    "version": 3
   },
   "file_extension": ".py",
   "mimetype": "text/x-python",
   "name": "python",
   "nbconvert_exporter": "python",
   "pygments_lexer": "ipython3",
   "version": "3.9.12"
  }
 },
 "nbformat": 4,
 "nbformat_minor": 5
}
