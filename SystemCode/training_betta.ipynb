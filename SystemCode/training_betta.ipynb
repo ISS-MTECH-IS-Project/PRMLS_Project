{
 "cells": [
  {
   "cell_type": "code",
   "execution_count": 1,
   "id": "9d89c4c3",
   "metadata": {},
   "outputs": [],
   "source": [
    "# pip install opencv-python"
   ]
  },
  {
   "cell_type": "code",
   "execution_count": 2,
   "id": "34b30226",
   "metadata": {},
   "outputs": [
    {
     "name": "stdout",
     "output_type": "stream",
     "text": [
      "Versions of key libraries\n",
      "---\n",
      "tensorflow:  2.9.0\n",
      "numpy:       1.22.3\n",
      "matplotlib:  3.5.2\n",
      "sklearn:     1.1.1\n"
     ]
    },
    {
     "data": {
      "text/plain": [
       "[PhysicalDevice(name='/physical_device:CPU:0', device_type='CPU'),\n",
       " PhysicalDevice(name='/physical_device:GPU:0', device_type='GPU')]"
      ]
     },
     "execution_count": 2,
     "metadata": {},
     "output_type": "execute_result"
    }
   ],
   "source": [
    "import matplotlib\n",
    "import sklearn\n",
    "import numpy as np\n",
    "import pandas as pd\n",
    "import sklearn.metrics as metrics\n",
    "import matplotlib.pyplot as plt\n",
    "import pathlib\n",
    "import os\n",
    "import cv2\n",
    "import datetime\n",
    "\n",
    "import tensorflow as tf\n",
    "from tensorflow import keras\n",
    "from tensorflow.keras import layers\n",
    "from tensorflow.keras.callbacks import ModelCheckpoint,CSVLogger\n",
    "from tensorflow.keras.models import Sequential\n",
    "from tensorflow.keras.layers import Dense\n",
    "from tensorflow.keras.layers import Dropout\n",
    "from tensorflow.keras.layers import Flatten\n",
    "from tensorflow.keras.layers import Conv2D\n",
    "from tensorflow.keras.layers import MaxPooling2D\n",
    "from tensorflow.keras.utils import to_categorical\n",
    "from tensorflow.keras.utils import plot_model\n",
    "from tensorflow.keras import optimizers\n",
    "from tensorflow.keras import regularizers\n",
    "\n",
    "print(\"Versions of key libraries\")\n",
    "print(\"---\")\n",
    "print(\"tensorflow: \", tf.__version__)\n",
    "print(\"numpy:      \", np.__version__)\n",
    "print(\"matplotlib: \", matplotlib.__version__)\n",
    "print(\"sklearn:    \", sklearn.__version__)\n",
    "tf.config.list_physical_devices()"
   ]
  },
  {
   "cell_type": "code",
   "execution_count": 3,
   "id": "84658303",
   "metadata": {},
   "outputs": [],
   "source": [
    "modelname   = 'betta'\n",
    "\n",
    "fishType = modelname\n",
    "IMGSIZE = 128\n",
    "EPOCHS = 50\n",
    "BATCH_SIZE = 64\n",
    "OPT_IDX = 1\n",
    "ACTIVATION = 'softmax'\n",
    "N_LABELS = 2\n",
    "\n",
    "modelname = modelname+\"_\"+ACTIVATION+\"_\"+str(IMGSIZE)+\"_\"+str(EPOCHS)+\"_\"+str(BATCH_SIZE)+\"_\"+str(OPT_IDX)\n",
    "optmzs = ['adam', optimizers.RMSprop(learning_rate=0.0001)]\n",
    "optmz = optmzs[OPT_IDX]"
   ]
  },
  {
   "cell_type": "code",
   "execution_count": 4,
   "id": "f0487832",
   "metadata": {},
   "outputs": [
    {
     "name": "stdout",
     "output_type": "stream",
     "text": [
      "Model: \"sequential\"\n",
      "_________________________________________________________________\n",
      " Layer (type)                Output Shape              Param #   \n",
      "=================================================================\n",
      " conv2d (Conv2D)             (None, 128, 128, 32)      896       \n",
      "                                                                 \n",
      " max_pooling2d (MaxPooling2D  (None, 64, 64, 32)       0         \n",
      " )                                                               \n",
      "                                                                 \n",
      " conv2d_1 (Conv2D)           (None, 64, 64, 16)        4624      \n",
      "                                                                 \n",
      " max_pooling2d_1 (MaxPooling  (None, 32, 32, 16)       0         \n",
      " 2D)                                                             \n",
      "                                                                 \n",
      " dropout (Dropout)           (None, 32, 32, 16)        0         \n",
      "                                                                 \n",
      " flatten (Flatten)           (None, 16384)             0         \n",
      "                                                                 \n",
      " dense (Dense)               (None, 10)                163850    \n",
      "                                                                 \n",
      " dense_1 (Dense)             (None, 2)                 22        \n",
      "                                                                 \n",
      "=================================================================\n",
      "Total params: 169,392\n",
      "Trainable params: 169,392\n",
      "Non-trainable params: 0\n",
      "_________________________________________________________________\n"
     ]
    }
   ],
   "source": [
    "def createModel():\n",
    "    model = Sequential()\n",
    "    model.add(Conv2D(32, (3,3), padding='same', input_shape=(IMGSIZE,IMGSIZE,3), activation='relu'))\n",
    "    model.add(MaxPooling2D(pool_size=(2,2)))\n",
    "    model.add(Conv2D(16, (3,3), padding='same', activation='relu'))\n",
    "    model.add(MaxPooling2D(pool_size=(2,2)))\n",
    "    model.add(Dropout(0.2))\n",
    "    model.add(Flatten())\n",
    "    model.add(Dense(10, activation='relu'))\n",
    "    model.add(Dense(N_LABELS, activation=ACTIVATION))\n",
    "    model.compile(loss='categorical_crossentropy', optimizer=optmz, metrics=['accuracy'])\n",
    "    return model\n",
    "\n",
    "model       = createModel() # This is meant for training\n",
    "modelGo     = createModel() # This is used for final testing\n",
    "\n",
    "model.summary()"
   ]
  },
  {
   "cell_type": "code",
   "execution_count": 5,
   "id": "dced975a",
   "metadata": {},
   "outputs": [
    {
     "name": "stdout",
     "output_type": "stream",
     "text": [
      "Path to model: models/betta_softmax_128_50_64_1_2022-09-26_17-51-39.hdf5\n",
      "Path to log:   models/betta_softmax_128_50_64_1_2022-09-26_17-51-39.csv\n"
     ]
    }
   ],
   "source": [
    "                                                                                # Step 1\n",
    "modelname       = modelname+\"_\"+str(datetime.datetime.now())[:-7].replace(' ','_').replace(\":\",'-')\n",
    "folderpath      = 'models/'\n",
    "filepath        = folderpath + modelname + \".hdf5\"\n",
    "checkpoint      = ModelCheckpoint(filepath, \n",
    "                                  monitor='val_accuracy', \n",
    "                                  verbose=0, \n",
    "                                  save_best_only=True, \n",
    "                                  mode='max')\n",
    "\n",
    "csv_logger      = CSVLogger(folderpath+modelname +'.csv')                       # Step 2\n",
    "callbacks_list  = [checkpoint,csv_logger]                                       # Step 3\n",
    "\n",
    "print(\"Path to model:\", filepath)\n",
    "print(\"Path to log:  \", folderpath+modelname+'.csv')"
   ]
  },
  {
   "cell_type": "code",
   "execution_count": 6,
   "id": "6b8e5e56",
   "metadata": {},
   "outputs": [
    {
     "name": "stdout",
     "output_type": "stream",
     "text": [
      "Path to plot: models/betta_softmax_128_50_64_1_2022-09-26_17-51-39_plot.png\n"
     ]
    }
   ],
   "source": [
    "plotpath  = folderpath+modelname+'_plot.png'\n",
    "plot_model(model, \n",
    "           to_file=plotpath, \n",
    "           show_shapes=True, \n",
    "           show_layer_names=False,\n",
    "           rankdir='TB')\n",
    "print(\"Path to plot:\", plotpath)"
   ]
  },
  {
   "cell_type": "code",
   "execution_count": 7,
   "id": "9ca1b24f",
   "metadata": {},
   "outputs": [],
   "source": [
    "data_dir = pathlib.Path(\"dataset\")\n",
    "fish_images_dict = {\n",
    "    'arowana': list(data_dir.glob('arowana/*.jpg')),\n",
    "    'betta': list(data_dir.glob('betta/*.jpg')),\n",
    "    'goldfish': list(data_dir.glob('goldfish/*.jpg')),\n",
    "    'luohan': list(data_dir.glob('luohan/*.jpg'))\n",
    "}\n",
    "# labelname = ['arowana','betta','goldfish','luohan']\n",
    "labelname = ['not '+fishType, fishType]"
   ]
  },
  {
   "cell_type": "code",
   "execution_count": 8,
   "id": "fb677a74",
   "metadata": {},
   "outputs": [],
   "source": [
    "def process_image(img_file, h=IMGSIZE, w=IMGSIZE):\n",
    "    img = tf.keras.utils.load_img(\n",
    "        img_file, target_size=None, keep_aspect_ratio=True\n",
    "    )\n",
    "    img_array = tf.keras.utils.img_to_array(img)\n",
    "    img_array = tf.keras.preprocessing.image.smart_resize(\n",
    "        img_array, size=(h, w))\n",
    "#     img_array = tf.expand_dims(img_array, 0)  # Create a batch\n",
    "    img_array = img_array / 255.0\n",
    "    return img_array\n"
   ]
  },
  {
   "cell_type": "code",
   "execution_count": 9,
   "id": "e62ba204",
   "metadata": {},
   "outputs": [
    {
     "name": "stderr",
     "output_type": "stream",
     "text": [
      "C:\\Users\\song\\anaconda3\\envs\\tfgpu\\lib\\site-packages\\PIL\\Image.py:959: UserWarning: Palette images with Transparency expressed in bytes should be converted to RGBA images\n",
      "  warnings.warn(\n"
     ]
    }
   ],
   "source": [
    "X, y = [], []\n",
    "\n",
    "for fish_name, images in fish_images_dict.items():\n",
    "    for image in images:\n",
    "        X.append(process_image(image))\n",
    "        y.append(1 if fish_name==fishType else 0)"
   ]
  },
  {
   "cell_type": "code",
   "execution_count": 10,
   "id": "ad75350e",
   "metadata": {},
   "outputs": [],
   "source": [
    "X = np.array(X)\n",
    "oy = np.array(y)\n",
    "y = to_categorical(oy)\n",
    "from sklearn.model_selection import train_test_split\n",
    "X_train, X_test, y_train, y_test = train_test_split(X, y, random_state=42)"
   ]
  },
  {
   "cell_type": "code",
   "execution_count": 11,
   "id": "b0b245d2",
   "metadata": {
    "scrolled": true
   },
   "outputs": [
    {
     "name": "stdout",
     "output_type": "stream",
     "text": [
      "Epoch 1/50\n",
      "39/39 [==============================] - 19s 34ms/step - loss: 0.5396 - accuracy: 0.7774 - val_loss: 0.4880 - val_accuracy: 0.8019\n",
      "Epoch 2/50\n",
      "39/39 [==============================] - 1s 21ms/step - loss: 0.4290 - accuracy: 0.8317 - val_loss: 0.3986 - val_accuracy: 0.8418\n",
      "Epoch 3/50\n",
      "39/39 [==============================] - 1s 21ms/step - loss: 0.3526 - accuracy: 0.8559 - val_loss: 0.3472 - val_accuracy: 0.8575\n",
      "Epoch 4/50\n",
      "39/39 [==============================] - 1s 20ms/step - loss: 0.3062 - accuracy: 0.8800 - val_loss: 0.3216 - val_accuracy: 0.8732\n",
      "Epoch 5/50\n",
      "39/39 [==============================] - 1s 20ms/step - loss: 0.2914 - accuracy: 0.8788 - val_loss: 0.2975 - val_accuracy: 0.8901\n",
      "Epoch 6/50\n",
      "39/39 [==============================] - 1s 20ms/step - loss: 0.2750 - accuracy: 0.8885 - val_loss: 0.2864 - val_accuracy: 0.8925\n",
      "Epoch 7/50\n",
      "39/39 [==============================] - 1s 20ms/step - loss: 0.2642 - accuracy: 0.8941 - val_loss: 0.2794 - val_accuracy: 0.8961\n",
      "Epoch 8/50\n",
      "39/39 [==============================] - 1s 20ms/step - loss: 0.2536 - accuracy: 0.8969 - val_loss: 0.2807 - val_accuracy: 0.8913\n",
      "Epoch 9/50\n",
      "39/39 [==============================] - 1s 20ms/step - loss: 0.2463 - accuracy: 0.9046 - val_loss: 0.2662 - val_accuracy: 0.8961\n",
      "Epoch 10/50\n",
      "39/39 [==============================] - 1s 20ms/step - loss: 0.2414 - accuracy: 0.8986 - val_loss: 0.2737 - val_accuracy: 0.8901\n",
      "Epoch 11/50\n",
      "39/39 [==============================] - 1s 20ms/step - loss: 0.2324 - accuracy: 0.9074 - val_loss: 0.2742 - val_accuracy: 0.8961\n",
      "Epoch 12/50\n",
      "39/39 [==============================] - 1s 20ms/step - loss: 0.2225 - accuracy: 0.9147 - val_loss: 0.2521 - val_accuracy: 0.8986\n",
      "Epoch 13/50\n",
      "39/39 [==============================] - 1s 20ms/step - loss: 0.2159 - accuracy: 0.9155 - val_loss: 0.2485 - val_accuracy: 0.8961\n",
      "Epoch 14/50\n",
      "39/39 [==============================] - 1s 21ms/step - loss: 0.2100 - accuracy: 0.9215 - val_loss: 0.2596 - val_accuracy: 0.9022\n",
      "Epoch 15/50\n",
      "39/39 [==============================] - 1s 20ms/step - loss: 0.2099 - accuracy: 0.9179 - val_loss: 0.2469 - val_accuracy: 0.9070\n",
      "Epoch 16/50\n",
      "39/39 [==============================] - 1s 20ms/step - loss: 0.1984 - accuracy: 0.9251 - val_loss: 0.2360 - val_accuracy: 0.9082\n",
      "Epoch 17/50\n",
      "39/39 [==============================] - 1s 20ms/step - loss: 0.1984 - accuracy: 0.9207 - val_loss: 0.2349 - val_accuracy: 0.9094\n",
      "Epoch 18/50\n",
      "39/39 [==============================] - 1s 20ms/step - loss: 0.1944 - accuracy: 0.9235 - val_loss: 0.2328 - val_accuracy: 0.9046\n",
      "Epoch 19/50\n",
      "39/39 [==============================] - 1s 20ms/step - loss: 0.1869 - accuracy: 0.9287 - val_loss: 0.2348 - val_accuracy: 0.9094\n",
      "Epoch 20/50\n",
      "39/39 [==============================] - 1s 20ms/step - loss: 0.1816 - accuracy: 0.9300 - val_loss: 0.2453 - val_accuracy: 0.9070\n",
      "Epoch 21/50\n",
      "39/39 [==============================] - 1s 20ms/step - loss: 0.1799 - accuracy: 0.9304 - val_loss: 0.2228 - val_accuracy: 0.9094\n",
      "Epoch 22/50\n",
      "39/39 [==============================] - 1s 20ms/step - loss: 0.1726 - accuracy: 0.9364 - val_loss: 0.2218 - val_accuracy: 0.9143\n",
      "Epoch 23/50\n",
      "39/39 [==============================] - 1s 20ms/step - loss: 0.1684 - accuracy: 0.9376 - val_loss: 0.2164 - val_accuracy: 0.9167\n",
      "Epoch 24/50\n",
      "39/39 [==============================] - 1s 20ms/step - loss: 0.1662 - accuracy: 0.9376 - val_loss: 0.2150 - val_accuracy: 0.9191\n",
      "Epoch 25/50\n",
      "39/39 [==============================] - 1s 20ms/step - loss: 0.1585 - accuracy: 0.9432 - val_loss: 0.2153 - val_accuracy: 0.9155\n",
      "Epoch 26/50\n",
      "39/39 [==============================] - 1s 20ms/step - loss: 0.1575 - accuracy: 0.9424 - val_loss: 0.2105 - val_accuracy: 0.9215\n",
      "Epoch 27/50\n",
      "39/39 [==============================] - 1s 20ms/step - loss: 0.1510 - accuracy: 0.9452 - val_loss: 0.2237 - val_accuracy: 0.9118\n",
      "Epoch 28/50\n",
      "39/39 [==============================] - 1s 20ms/step - loss: 0.1485 - accuracy: 0.9457 - val_loss: 0.2414 - val_accuracy: 0.9118\n",
      "Epoch 29/50\n",
      "39/39 [==============================] - 1s 20ms/step - loss: 0.1477 - accuracy: 0.9457 - val_loss: 0.2352 - val_accuracy: 0.9058\n",
      "Epoch 30/50\n",
      "39/39 [==============================] - 1s 20ms/step - loss: 0.1420 - accuracy: 0.9517 - val_loss: 0.2223 - val_accuracy: 0.9106\n",
      "Epoch 31/50\n",
      "39/39 [==============================] - 1s 20ms/step - loss: 0.1378 - accuracy: 0.9533 - val_loss: 0.2036 - val_accuracy: 0.9251\n",
      "Epoch 32/50\n",
      "39/39 [==============================] - 1s 20ms/step - loss: 0.1356 - accuracy: 0.9497 - val_loss: 0.2064 - val_accuracy: 0.9275\n",
      "Epoch 33/50\n",
      "39/39 [==============================] - 1s 20ms/step - loss: 0.1332 - accuracy: 0.9505 - val_loss: 0.2246 - val_accuracy: 0.9143\n",
      "Epoch 34/50\n",
      "39/39 [==============================] - 1s 20ms/step - loss: 0.1291 - accuracy: 0.9601 - val_loss: 0.2073 - val_accuracy: 0.9191\n",
      "Epoch 35/50\n",
      "39/39 [==============================] - 1s 20ms/step - loss: 0.1299 - accuracy: 0.9545 - val_loss: 0.1930 - val_accuracy: 0.9287\n",
      "Epoch 36/50\n",
      "39/39 [==============================] - 1s 20ms/step - loss: 0.1235 - accuracy: 0.9585 - val_loss: 0.1944 - val_accuracy: 0.9300\n",
      "Epoch 37/50\n",
      "39/39 [==============================] - 1s 20ms/step - loss: 0.1211 - accuracy: 0.9593 - val_loss: 0.2049 - val_accuracy: 0.9203\n",
      "Epoch 38/50\n",
      "39/39 [==============================] - 1s 20ms/step - loss: 0.1196 - accuracy: 0.9622 - val_loss: 0.1969 - val_accuracy: 0.9324\n",
      "Epoch 39/50\n",
      "39/39 [==============================] - 1s 20ms/step - loss: 0.1194 - accuracy: 0.9589 - val_loss: 0.1888 - val_accuracy: 0.9348\n",
      "Epoch 40/50\n",
      "39/39 [==============================] - 1s 20ms/step - loss: 0.1117 - accuracy: 0.9658 - val_loss: 0.2107 - val_accuracy: 0.9215\n",
      "Epoch 41/50\n",
      "39/39 [==============================] - 1s 20ms/step - loss: 0.1094 - accuracy: 0.9674 - val_loss: 0.1929 - val_accuracy: 0.9263\n",
      "Epoch 42/50\n",
      "39/39 [==============================] - 1s 20ms/step - loss: 0.1112 - accuracy: 0.9597 - val_loss: 0.2027 - val_accuracy: 0.9312\n",
      "Epoch 43/50\n",
      "39/39 [==============================] - 1s 20ms/step - loss: 0.1059 - accuracy: 0.9658 - val_loss: 0.1863 - val_accuracy: 0.9348\n",
      "Epoch 44/50\n",
      "39/39 [==============================] - 1s 20ms/step - loss: 0.1084 - accuracy: 0.9614 - val_loss: 0.1869 - val_accuracy: 0.9324\n",
      "Epoch 45/50\n",
      "39/39 [==============================] - 1s 20ms/step - loss: 0.1001 - accuracy: 0.9670 - val_loss: 0.2071 - val_accuracy: 0.9263\n",
      "Epoch 46/50\n",
      "39/39 [==============================] - 1s 20ms/step - loss: 0.0994 - accuracy: 0.9678 - val_loss: 0.1888 - val_accuracy: 0.9324\n",
      "Epoch 47/50\n",
      "39/39 [==============================] - 1s 20ms/step - loss: 0.0999 - accuracy: 0.9686 - val_loss: 0.1851 - val_accuracy: 0.9372\n",
      "Epoch 48/50\n",
      "39/39 [==============================] - 1s 20ms/step - loss: 0.0919 - accuracy: 0.9710 - val_loss: 0.1826 - val_accuracy: 0.9372\n",
      "Epoch 49/50\n",
      "39/39 [==============================] - 1s 20ms/step - loss: 0.0909 - accuracy: 0.9698 - val_loss: 0.2054 - val_accuracy: 0.9275\n",
      "Epoch 50/50\n",
      "39/39 [==============================] - 1s 20ms/step - loss: 0.0953 - accuracy: 0.9698 - val_loss: 0.1854 - val_accuracy: 0.9384\n"
     ]
    }
   ],
   "source": [
    "history = model.fit(X_train,                            # Training data\n",
    "          y_train,                            # Training label\n",
    "          validation_data=(X_test, y_test),   # Validation data and label\n",
    "          epochs=EPOCHS,                       # The amount of epochs to be trained\n",
    "          batch_size=BATCH_SIZE,                   \n",
    "          shuffle=True,                     # To shuffle the training data\n",
    "          callbacks=callbacks_list)         # Callbacks to execute the checkpoints"
   ]
  },
  {
   "cell_type": "code",
   "execution_count": 12,
   "id": "f7ea6f75",
   "metadata": {},
   "outputs": [
    {
     "data": {
      "image/png": "[encoded data removed]",
      "text/plain": [
       "<Figure size 576x576 with 2 Axes>"
      ]
     },
     "metadata": {
      "needs_background": "light"
     },
     "output_type": "display_data"
    }
   ],
   "source": [
    "# Plot the accuracy and error on training and test sets\n",
    "\n",
    "acc = history.history['accuracy']\n",
    "val_acc = history.history['val_accuracy']\n",
    "\n",
    "loss = history.history['loss']\n",
    "val_loss = history.history['val_loss']\n",
    "\n",
    "epochs_range = range(EPOCHS)\n",
    "\n",
    "plt.figure(figsize=(8, 8))\n",
    "plt.subplot(1, 2, 1)\n",
    "plt.plot(epochs_range, acc, label='Training Accuracy')\n",
    "plt.plot(epochs_range, val_acc, label='Validation Accuracy')\n",
    "plt.legend(loc='lower right')\n",
    "plt.title('Training and Validation Accuracy')\n",
    "\n",
    "plt.subplot(1, 2, 2)\n",
    "plt.plot(epochs_range, loss, label='Training Loss')\n",
    "plt.plot(epochs_range, val_loss, label='Validation Loss')\n",
    "plt.legend(loc='upper right')\n",
    "plt.title('Training and Validation Loss')\n",
    "plt.savefig(folderpath+modelname+'_accuracy_plot.png')\n",
    "plt.show()"
   ]
  },
  {
   "cell_type": "code",
   "execution_count": 13,
   "id": "298b829c",
   "metadata": {},
   "outputs": [
    {
     "name": "stdout",
     "output_type": "stream",
     "text": [
      "26/26 [==============================] - 0s 7ms/step\n",
      "Prediction completes.\n"
     ]
    }
   ],
   "source": [
    "                                                                                # Step 1\n",
    "modelGo.load_weights(filepath)\n",
    "modelGo.compile(loss='categorical_crossentropy', \n",
    "                optimizer=optmz, \n",
    "                metrics=['accuracy'])\n",
    "\n",
    "predicts    = modelGo.predict(X_test)                                            # Step 2\n",
    "print(\"Prediction completes.\")"
   ]
  },
  {
   "cell_type": "code",
   "execution_count": 14,
   "id": "1a828a8d",
   "metadata": {},
   "outputs": [
    {
     "name": "stdout",
     "output_type": "stream",
     "text": [
      "Best accuracy (on testing dataset): 93.84%\n",
      "              precision    recall  f1-score   support\n",
      "\n",
      "   not betta     0.9589    0.9540    0.9564       587\n",
      "       betta     0.8893    0.9004    0.8948       241\n",
      "\n",
      "    accuracy                         0.9384       828\n",
      "   macro avg     0.9241    0.9272    0.9256       828\n",
      "weighted avg     0.9387    0.9384    0.9385       828\n",
      "\n"
     ]
    }
   ],
   "source": [
    "                                                                                # Step 1\n",
    "                                                                                # Step 2\n",
    "predout     = np.argmax(predicts,axis=1)\n",
    "testout     = np.argmax(y_test,axis=1)\n",
    "\n",
    "testScores  = metrics.accuracy_score(testout,predout)                           # Step 3\n",
    "\n",
    "                                                                                # Step 4\n",
    "print(\"Best accuracy (on testing dataset): %.2f%%\" % (testScores*100))\n",
    "print(metrics.classification_report(testout,\n",
    "                                    predout,\n",
    "                                    target_names=labelname,\n",
    "                                    digits=4))\n",
    "\n",
    "report = metrics.classification_report(testout,\n",
    "                                    predout,\n",
    "                                    target_names=labelname,\n",
    "                                    digits=4,\n",
    "                                      output_dict=True)\n",
    "\n",
    "df = pd.DataFrame(report).transpose()\n",
    "df.to_csv(folderpath+modelname+'_report.csv')"
   ]
  },
  {
   "cell_type": "code",
   "execution_count": null,
   "id": "42557859",
   "metadata": {},
   "outputs": [],
   "source": []
  }
 ],
 "metadata": {
  "kernelspec": {
   "display_name": "Python 3 (ipykernel)",
   "language": "python",
   "name": "python3"
  },
  "language_info": {
   "codemirror_mode": {
    "name": "ipython",
    "version": 3
   },
   "file_extension": ".py",
   "mimetype": "text/x-python",
   "name": "python",
   "nbconvert_exporter": "python",
   "pygments_lexer": "ipython3",
   "version": "3.9.12"
  }
 },
 "nbformat": 4,
 "nbformat_minor": 5
}
