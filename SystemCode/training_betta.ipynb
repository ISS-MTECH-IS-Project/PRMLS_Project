{
 "cells": [
  {
   "cell_type": "code",
   "execution_count": 1,
   "id": "9d89c4c3",
   "metadata": {},
   "outputs": [],
   "source": [
    "# pip install opencv-python"
   ]
  },
  {
   "cell_type": "code",
   "execution_count": 2,
   "id": "34b30226",
   "metadata": {},
   "outputs": [
    {
     "name": "stdout",
     "output_type": "stream",
     "text": [
      "Versions of key libraries\n",
      "---\n",
      "tensorflow:  2.9.0\n",
      "numpy:       1.22.3\n",
      "matplotlib:  3.5.2\n",
      "sklearn:     1.1.1\n"
     ]
    },
    {
     "data": {
      "text/plain": [
       "[PhysicalDevice(name='/physical_device:CPU:0', device_type='CPU'),\n",
       " PhysicalDevice(name='/physical_device:GPU:0', device_type='GPU')]"
      ]
     },
     "execution_count": 2,
     "metadata": {},
     "output_type": "execute_result"
    }
   ],
   "source": [
    "import matplotlib\n",
    "import sklearn\n",
    "import numpy as np\n",
    "import pandas as pd\n",
    "import sklearn.metrics as metrics\n",
    "import matplotlib.pyplot as plt\n",
    "import pathlib\n",
    "import os\n",
    "import cv2\n",
    "import datetime\n",
    "\n",
    "import tensorflow as tf\n",
    "from tensorflow import keras\n",
    "from tensorflow.keras import layers\n",
    "from tensorflow.keras.callbacks import ModelCheckpoint,CSVLogger\n",
    "from tensorflow.keras.models import Sequential\n",
    "from tensorflow.keras.layers import Dense\n",
    "from tensorflow.keras.layers import Dropout\n",
    "from tensorflow.keras.layers import Flatten\n",
    "from tensorflow.keras.layers import Conv2D\n",
    "from tensorflow.keras.layers import MaxPooling2D\n",
    "from tensorflow.keras.utils import to_categorical\n",
    "from tensorflow.keras.utils import plot_model\n",
    "from tensorflow.keras import optimizers\n",
    "from tensorflow.keras import regularizers\n",
    "\n",
    "print(\"Versions of key libraries\")\n",
    "print(\"---\")\n",
    "print(\"tensorflow: \", tf.__version__)\n",
    "print(\"numpy:      \", np.__version__)\n",
    "print(\"matplotlib: \", matplotlib.__version__)\n",
    "print(\"sklearn:    \", sklearn.__version__)\n",
    "tf.config.list_physical_devices()"
   ]
  },
  {
   "cell_type": "code",
   "execution_count": 3,
   "id": "84658303",
   "metadata": {},
   "outputs": [],
   "source": [
    "modelname   = 'betta'\n",
    "\n",
    "fishType = modelname\n",
    "IMGSIZE = 128\n",
    "EPOCHS = 50\n",
    "BATCH_SIZE = 64\n",
    "OPT_IDX = 1\n",
    "ACTIVATION = 'softmax'\n",
    "N_LABELS = 2\n",
    "\n",
    "modelname = modelname+\"_\"+ACTIVATION+\"_\"+str(IMGSIZE)+\"_\"+str(EPOCHS)+\"_\"+str(BATCH_SIZE)+\"_\"+str(OPT_IDX)\n",
    "optmzs = ['adam', optimizers.RMSprop(learning_rate=0.0001)]\n",
    "optmz = optmzs[OPT_IDX]"
   ]
  },
  {
   "cell_type": "code",
   "execution_count": 4,
   "id": "f0487832",
   "metadata": {},
   "outputs": [
    {
     "name": "stdout",
     "output_type": "stream",
     "text": [
      "Model: \"sequential\"\n",
      "_________________________________________________________________\n",
      " Layer (type)                Output Shape              Param #   \n",
      "=================================================================\n",
      " conv2d (Conv2D)             (None, 128, 128, 32)      896       \n",
      "                                                                 \n",
      " max_pooling2d (MaxPooling2D  (None, 64, 64, 32)       0         \n",
      " )                                                               \n",
      "                                                                 \n",
      " conv2d_1 (Conv2D)           (None, 64, 64, 16)        4624      \n",
      "                                                                 \n",
      " max_pooling2d_1 (MaxPooling  (None, 32, 32, 16)       0         \n",
      " 2D)                                                             \n",
      "                                                                 \n",
      " dropout (Dropout)           (None, 32, 32, 16)        0         \n",
      "                                                                 \n",
      " flatten (Flatten)           (None, 16384)             0         \n",
      "                                                                 \n",
      " dense (Dense)               (None, 10)                163850    \n",
      "                                                                 \n",
      " dense_1 (Dense)             (None, 2)                 22        \n",
      "                                                                 \n",
      "=================================================================\n",
      "Total params: 169,392\n",
      "Trainable params: 169,392\n",
      "Non-trainable params: 0\n",
      "_________________________________________________________________\n"
     ]
    }
   ],
   "source": [
    "def createModel():\n",
    "    model = Sequential()\n",
    "    model.add(Conv2D(32, (3,3), padding='same', input_shape=(IMGSIZE,IMGSIZE,3), activation='relu'))\n",
    "    model.add(MaxPooling2D(pool_size=(2,2)))\n",
    "    model.add(Conv2D(16, (3,3), padding='same', activation='relu'))\n",
    "    model.add(MaxPooling2D(pool_size=(2,2)))\n",
    "    model.add(Dropout(0.2))\n",
    "    model.add(Flatten())\n",
    "    model.add(Dense(10, activation='relu'))\n",
    "    model.add(Dense(N_LABELS, activation=ACTIVATION))\n",
    "    model.compile(loss='categorical_crossentropy', optimizer=optmz, metrics=['accuracy'])\n",
    "    return model\n",
    "\n",
    "model       = createModel() # This is meant for training\n",
    "modelGo     = createModel() # This is used for final testing\n",
    "\n",
    "model.summary()"
   ]
  },
  {
   "cell_type": "code",
   "execution_count": 5,
   "id": "dced975a",
   "metadata": {},
   "outputs": [
    {
     "name": "stdout",
     "output_type": "stream",
     "text": [
      "Path to model: models/betta_softmax_128_50_64_1_2022-09-25_22-23-48.hdf5\n",
      "Path to log:   models/betta_softmax_128_50_64_1_2022-09-25_22-23-48.csv\n"
     ]
    }
   ],
   "source": [
    "                                                                                # Step 1\n",
    "modelname       = modelname+\"_\"+str(datetime.datetime.now())[:-7].replace(' ','_').replace(\":\",'-')\n",
    "folderpath      = 'models/'\n",
    "filepath        = folderpath + modelname + \".hdf5\"\n",
    "checkpoint      = ModelCheckpoint(filepath, \n",
    "                                  monitor='val_accuracy', \n",
    "                                  verbose=0, \n",
    "                                  save_best_only=True, \n",
    "                                  mode='max')\n",
    "\n",
    "csv_logger      = CSVLogger(folderpath+modelname +'.csv')                       # Step 2\n",
    "callbacks_list  = [checkpoint,csv_logger]                                       # Step 3\n",
    "\n",
    "print(\"Path to model:\", filepath)\n",
    "print(\"Path to log:  \", folderpath+modelname+'.csv')"
   ]
  },
  {
   "cell_type": "code",
   "execution_count": 6,
   "id": "6b8e5e56",
   "metadata": {},
   "outputs": [
    {
     "name": "stdout",
     "output_type": "stream",
     "text": [
      "Path to plot: models/betta_softmax_128_50_64_1_2022-09-25_22-23-48_plot.png\n"
     ]
    }
   ],
   "source": [
    "plotpath  = folderpath+modelname+'_plot.png'\n",
    "plot_model(model, \n",
    "           to_file=plotpath, \n",
    "           show_shapes=True, \n",
    "           show_layer_names=False,\n",
    "           rankdir='TB')\n",
    "print(\"Path to plot:\", plotpath)"
   ]
  },
  {
   "cell_type": "code",
   "execution_count": 7,
   "id": "9ca1b24f",
   "metadata": {},
   "outputs": [],
   "source": [
    "data_dir = pathlib.Path(\"dataset\")\n",
    "fish_images_dict = {\n",
    "    'arowana': list(data_dir.glob('arowana/*.jpg')),\n",
    "    'betta': list(data_dir.glob('betta/*.jpg')),\n",
    "    'goldfish': list(data_dir.glob('goldfish/*.jpg')),\n",
    "    'luohan': list(data_dir.glob('luohan/*.jpg'))\n",
    "}\n",
    "# labelname = ['arowana','betta','goldfish','luohan']\n",
    "labelname = ['not '+fishType, fishType]"
   ]
  },
  {
   "cell_type": "code",
   "execution_count": 8,
   "id": "fb677a74",
   "metadata": {},
   "outputs": [],
   "source": [
    "def process_image(img_file, h=IMGSIZE, w=IMGSIZE):\n",
    "    img = tf.keras.utils.load_img(\n",
    "        img_file, target_size=None, keep_aspect_ratio=True\n",
    "    )\n",
    "    img_array = tf.keras.utils.img_to_array(img)\n",
    "    img_array = tf.keras.preprocessing.image.smart_resize(\n",
    "        img_array, size=(h, w))\n",
    "#     img_array = tf.expand_dims(img_array, 0)  # Create a batch\n",
    "    img_array = img_array / 255.0\n",
    "    return img_array\n"
   ]
  },
  {
   "cell_type": "code",
   "execution_count": 9,
   "id": "e62ba204",
   "metadata": {},
   "outputs": [
    {
     "name": "stderr",
     "output_type": "stream",
     "text": [
      "C:\\Users\\song\\anaconda3\\envs\\tfgpu\\lib\\site-packages\\PIL\\Image.py:959: UserWarning: Palette images with Transparency expressed in bytes should be converted to RGBA images\n",
      "  warnings.warn(\n"
     ]
    }
   ],
   "source": [
    "X, y = [], []\n",
    "\n",
    "for fish_name, images in fish_images_dict.items():\n",
    "    for image in images:\n",
    "        X.append(process_image(image))\n",
    "        y.append(1 if fish_name==fishType else 0)"
   ]
  },
  {
   "cell_type": "code",
   "execution_count": 10,
   "id": "ad75350e",
   "metadata": {},
   "outputs": [],
   "source": [
    "X = np.array(X)\n",
    "oy = np.array(y)\n",
    "y = to_categorical(oy)\n",
    "from sklearn.model_selection import train_test_split\n",
    "X_train, X_test, y_train, y_test = train_test_split(X, y, random_state=42)"
   ]
  },
  {
   "cell_type": "code",
   "execution_count": 11,
   "id": "b0b245d2",
   "metadata": {
    "scrolled": true
   },
   "outputs": [
    {
     "name": "stdout",
     "output_type": "stream",
     "text": [
      "Epoch 1/50\n",
      "39/39 [==============================] - 5s 34ms/step - loss: 0.6786 - accuracy: 0.7118 - val_loss: 0.6625 - val_accuracy: 0.7693\n",
      "Epoch 2/50\n",
      "39/39 [==============================] - 1s 21ms/step - loss: 0.6458 - accuracy: 0.7738 - val_loss: 0.6393 - val_accuracy: 0.7899\n",
      "Epoch 3/50\n",
      "39/39 [==============================] - 1s 21ms/step - loss: 0.6257 - accuracy: 0.8019 - val_loss: 0.6259 - val_accuracy: 0.8261\n",
      "Epoch 4/50\n",
      "39/39 [==============================] - 1s 21ms/step - loss: 0.6115 - accuracy: 0.8261 - val_loss: 0.6197 - val_accuracy: 0.8418\n",
      "Epoch 5/50\n",
      "39/39 [==============================] - 1s 20ms/step - loss: 0.6012 - accuracy: 0.8325 - val_loss: 0.6199 - val_accuracy: 0.7862\n",
      "Epoch 6/50\n",
      "39/39 [==============================] - 1s 21ms/step - loss: 0.5948 - accuracy: 0.8366 - val_loss: 0.6074 - val_accuracy: 0.8575\n",
      "Epoch 7/50\n",
      "39/39 [==============================] - 1s 21ms/step - loss: 0.5868 - accuracy: 0.8458 - val_loss: 0.6048 - val_accuracy: 0.8647\n",
      "Epoch 8/50\n",
      "39/39 [==============================] - 1s 21ms/step - loss: 0.5804 - accuracy: 0.8555 - val_loss: 0.5963 - val_accuracy: 0.8478\n",
      "Epoch 9/50\n",
      "39/39 [==============================] - 1s 21ms/step - loss: 0.5750 - accuracy: 0.8591 - val_loss: 0.5931 - val_accuracy: 0.8466\n",
      "Epoch 10/50\n",
      "39/39 [==============================] - 1s 20ms/step - loss: 0.5688 - accuracy: 0.8655 - val_loss: 0.5893 - val_accuracy: 0.8430\n",
      "Epoch 11/50\n",
      "39/39 [==============================] - 1s 21ms/step - loss: 0.5628 - accuracy: 0.8659 - val_loss: 0.5870 - val_accuracy: 0.8478\n",
      "Epoch 12/50\n",
      "39/39 [==============================] - 1s 21ms/step - loss: 0.5576 - accuracy: 0.8744 - val_loss: 0.5860 - val_accuracy: 0.8490\n",
      "Epoch 13/50\n",
      "39/39 [==============================] - 1s 21ms/step - loss: 0.5517 - accuracy: 0.8768 - val_loss: 0.5768 - val_accuracy: 0.8684\n",
      "Epoch 14/50\n",
      "39/39 [==============================] - 1s 21ms/step - loss: 0.5451 - accuracy: 0.8897 - val_loss: 0.5637 - val_accuracy: 0.8986\n",
      "Epoch 15/50\n",
      "39/39 [==============================] - 1s 21ms/step - loss: 0.5366 - accuracy: 0.8933 - val_loss: 0.5572 - val_accuracy: 0.9058\n",
      "Epoch 16/50\n",
      "39/39 [==============================] - 1s 20ms/step - loss: 0.5303 - accuracy: 0.9066 - val_loss: 0.5684 - val_accuracy: 0.8527\n",
      "Epoch 17/50\n",
      "39/39 [==============================] - 1s 21ms/step - loss: 0.5244 - accuracy: 0.9062 - val_loss: 0.5476 - val_accuracy: 0.9010\n",
      "Epoch 18/50\n",
      "39/39 [==============================] - 1s 20ms/step - loss: 0.5194 - accuracy: 0.9134 - val_loss: 0.5429 - val_accuracy: 0.8937\n",
      "Epoch 19/50\n",
      "39/39 [==============================] - 1s 21ms/step - loss: 0.5127 - accuracy: 0.9199 - val_loss: 0.5384 - val_accuracy: 0.9070\n",
      "Epoch 20/50\n",
      "39/39 [==============================] - 1s 20ms/step - loss: 0.5073 - accuracy: 0.9235 - val_loss: 0.5352 - val_accuracy: 0.9143\n",
      "Epoch 21/50\n",
      "39/39 [==============================] - 1s 20ms/step - loss: 0.5035 - accuracy: 0.9231 - val_loss: 0.5395 - val_accuracy: 0.9022\n",
      "Epoch 22/50\n",
      "39/39 [==============================] - 1s 20ms/step - loss: 0.4983 - accuracy: 0.9316 - val_loss: 0.5281 - val_accuracy: 0.9070\n",
      "Epoch 23/50\n",
      "39/39 [==============================] - 1s 20ms/step - loss: 0.4934 - accuracy: 0.9356 - val_loss: 0.5259 - val_accuracy: 0.9143\n",
      "Epoch 24/50\n",
      "39/39 [==============================] - 1s 20ms/step - loss: 0.4878 - accuracy: 0.9364 - val_loss: 0.5256 - val_accuracy: 0.9106\n",
      "Epoch 25/50\n",
      "39/39 [==============================] - 1s 19ms/step - loss: 0.4836 - accuracy: 0.9364 - val_loss: 0.5228 - val_accuracy: 0.9046\n",
      "Epoch 26/50\n",
      "39/39 [==============================] - 1s 20ms/step - loss: 0.4794 - accuracy: 0.9436 - val_loss: 0.5179 - val_accuracy: 0.9130\n",
      "Epoch 27/50\n",
      "39/39 [==============================] - 1s 19ms/step - loss: 0.4747 - accuracy: 0.9448 - val_loss: 0.5149 - val_accuracy: 0.9118\n",
      "Epoch 28/50\n",
      "39/39 [==============================] - 1s 20ms/step - loss: 0.4714 - accuracy: 0.9481 - val_loss: 0.5119 - val_accuracy: 0.9143\n",
      "Epoch 29/50\n",
      "39/39 [==============================] - 1s 20ms/step - loss: 0.4668 - accuracy: 0.9521 - val_loss: 0.5131 - val_accuracy: 0.9118\n",
      "Epoch 30/50\n",
      "39/39 [==============================] - 1s 20ms/step - loss: 0.4626 - accuracy: 0.9469 - val_loss: 0.5328 - val_accuracy: 0.8937\n",
      "Epoch 31/50\n",
      "39/39 [==============================] - 1s 19ms/step - loss: 0.4594 - accuracy: 0.9529 - val_loss: 0.5078 - val_accuracy: 0.9094\n",
      "Epoch 32/50\n",
      "39/39 [==============================] - 1s 20ms/step - loss: 0.4547 - accuracy: 0.9561 - val_loss: 0.5029 - val_accuracy: 0.9215\n",
      "Epoch 33/50\n",
      "39/39 [==============================] - 1s 20ms/step - loss: 0.4536 - accuracy: 0.9541 - val_loss: 0.5001 - val_accuracy: 0.9143\n",
      "Epoch 34/50\n",
      "39/39 [==============================] - 1s 20ms/step - loss: 0.4481 - accuracy: 0.9557 - val_loss: 0.4954 - val_accuracy: 0.9203\n",
      "Epoch 35/50\n",
      "39/39 [==============================] - 1s 19ms/step - loss: 0.4442 - accuracy: 0.9601 - val_loss: 0.5104 - val_accuracy: 0.9118\n",
      "Epoch 36/50\n",
      "39/39 [==============================] - 1s 19ms/step - loss: 0.4416 - accuracy: 0.9614 - val_loss: 0.5011 - val_accuracy: 0.9155\n",
      "Epoch 37/50\n",
      "39/39 [==============================] - 1s 20ms/step - loss: 0.4379 - accuracy: 0.9626 - val_loss: 0.5059 - val_accuracy: 0.9118\n",
      "Epoch 38/50\n",
      "39/39 [==============================] - 1s 20ms/step - loss: 0.4340 - accuracy: 0.9658 - val_loss: 0.4924 - val_accuracy: 0.9227\n",
      "Epoch 39/50\n",
      "39/39 [==============================] - 1s 20ms/step - loss: 0.4310 - accuracy: 0.9638 - val_loss: 0.4849 - val_accuracy: 0.9263\n",
      "Epoch 40/50\n",
      "39/39 [==============================] - 1s 20ms/step - loss: 0.4276 - accuracy: 0.9698 - val_loss: 0.4884 - val_accuracy: 0.9191\n",
      "Epoch 41/50\n",
      "39/39 [==============================] - 1s 20ms/step - loss: 0.4229 - accuracy: 0.9706 - val_loss: 0.4933 - val_accuracy: 0.9191\n",
      "Epoch 42/50\n",
      "39/39 [==============================] - 1s 21ms/step - loss: 0.4205 - accuracy: 0.9710 - val_loss: 0.4827 - val_accuracy: 0.9227\n",
      "Epoch 43/50\n",
      "39/39 [==============================] - 1s 21ms/step - loss: 0.4170 - accuracy: 0.9730 - val_loss: 0.4952 - val_accuracy: 0.9106\n",
      "Epoch 44/50\n",
      "39/39 [==============================] - 1s 21ms/step - loss: 0.4145 - accuracy: 0.9734 - val_loss: 0.4850 - val_accuracy: 0.9167\n",
      "Epoch 45/50\n",
      "39/39 [==============================] - 1s 21ms/step - loss: 0.4113 - accuracy: 0.9742 - val_loss: 0.4846 - val_accuracy: 0.9130\n",
      "Epoch 46/50\n",
      "39/39 [==============================] - 1s 20ms/step - loss: 0.4089 - accuracy: 0.9726 - val_loss: 0.4777 - val_accuracy: 0.9215\n",
      "Epoch 47/50\n",
      "39/39 [==============================] - 1s 20ms/step - loss: 0.4056 - accuracy: 0.9746 - val_loss: 0.4701 - val_accuracy: 0.9239\n",
      "Epoch 48/50\n",
      "39/39 [==============================] - 1s 21ms/step - loss: 0.4019 - accuracy: 0.9783 - val_loss: 0.4694 - val_accuracy: 0.9227\n",
      "Epoch 49/50\n",
      "39/39 [==============================] - 1s 21ms/step - loss: 0.3992 - accuracy: 0.9783 - val_loss: 0.4715 - val_accuracy: 0.9251\n",
      "Epoch 50/50\n",
      "39/39 [==============================] - 1s 21ms/step - loss: 0.3971 - accuracy: 0.9771 - val_loss: 0.4588 - val_accuracy: 0.9263\n"
     ]
    }
   ],
   "source": [
    "history = model.fit(X_train,                            # Training data\n",
    "          y_train,                            # Training label\n",
    "          validation_data=(X_test, y_test),   # Validation data and label\n",
    "          epochs=EPOCHS,                       # The amount of epochs to be trained\n",
    "          batch_size=BATCH_SIZE,                   \n",
    "          shuffle=True,                     # To shuffle the training data\n",
    "          callbacks=callbacks_list)         # Callbacks to execute the checkpoints"
   ]
  },
  {
   "cell_type": "code",
   "execution_count": 12,
   "id": "f7ea6f75",
   "metadata": {},
   "outputs": [
    {
     "data": {
      "image/png": "[encoded data removed]",
      "text/plain": [
       "<Figure size 576x576 with 2 Axes>"
      ]
     },
     "metadata": {
      "needs_background": "light"
     },
     "output_type": "display_data"
    }
   ],
   "source": [
    "# Plot the accuracy and error on training and test sets\n",
    "\n",
    "acc = history.history['accuracy']\n",
    "val_acc = history.history['val_accuracy']\n",
    "\n",
    "loss = history.history['loss']\n",
    "val_loss = history.history['val_loss']\n",
    "\n",
    "epochs_range = range(EPOCHS)\n",
    "\n",
    "plt.figure(figsize=(8, 8))\n",
    "plt.subplot(1, 2, 1)\n",
    "plt.plot(epochs_range, acc, label='Training Accuracy')\n",
    "plt.plot(epochs_range, val_acc, label='Validation Accuracy')\n",
    "plt.legend(loc='lower right')\n",
    "plt.title('Training and Validation Accuracy')\n",
    "\n",
    "plt.subplot(1, 2, 2)\n",
    "plt.plot(epochs_range, loss, label='Training Loss')\n",
    "plt.plot(epochs_range, val_loss, label='Validation Loss')\n",
    "plt.legend(loc='upper right')\n",
    "plt.title('Training and Validation Loss')\n",
    "plt.savefig(folderpath+modelname+'_accuracy_plot.png')\n",
    "plt.show()"
   ]
  },
  {
   "cell_type": "code",
   "execution_count": 13,
   "id": "298b829c",
   "metadata": {},
   "outputs": [
    {
     "name": "stdout",
     "output_type": "stream",
     "text": [
      "26/26 [==============================] - 3s 10ms/step\n",
      "Prediction completes.\n"
     ]
    }
   ],
   "source": [
    "                                                                                # Step 1\n",
    "modelGo.load_weights(filepath)\n",
    "modelGo.compile(loss='categorical_crossentropy', \n",
    "                optimizer=optmz, \n",
    "                metrics=['accuracy'])\n",
    "\n",
    "predicts    = modelGo.predict(X_test)                                            # Step 2\n",
    "print(\"Prediction completes.\")"
   ]
  },
  {
   "cell_type": "code",
   "execution_count": 14,
   "id": "1a828a8d",
   "metadata": {},
   "outputs": [
    {
     "name": "stdout",
     "output_type": "stream",
     "text": [
      "Best accuracy (on testing dataset): 92.63%\n",
      "              precision    recall  f1-score   support\n",
      "\n",
      "   not betta     0.9443    0.9523    0.9483       587\n",
      "       betta     0.8814    0.8631    0.8721       241\n",
      "\n",
      "    accuracy                         0.9263       828\n",
      "   macro avg     0.9128    0.9077    0.9102       828\n",
      "weighted avg     0.9259    0.9263    0.9261       828\n",
      "\n"
     ]
    }
   ],
   "source": [
    "                                                                                # Step 1\n",
    "                                                                                # Step 2\n",
    "predout     = np.argmax(predicts,axis=1)\n",
    "testout     = np.argmax(y_test,axis=1)\n",
    "\n",
    "testScores  = metrics.accuracy_score(testout,predout)                           # Step 3\n",
    "\n",
    "                                                                                # Step 4\n",
    "print(\"Best accuracy (on testing dataset): %.2f%%\" % (testScores*100))\n",
    "print(metrics.classification_report(testout,\n",
    "                                    predout,\n",
    "                                    target_names=labelname,\n",
    "                                    digits=4))\n",
    "\n",
    "report = metrics.classification_report(testout,\n",
    "                                    predout,\n",
    "                                    target_names=labelname,\n",
    "                                    digits=4,\n",
    "                                      output_dict=True)\n",
    "\n",
    "df = pd.DataFrame(report).transpose()\n",
    "df.to_csv(folderpath+modelname+'_report.csv')"
   ]
  },
  {
   "cell_type": "code",
   "execution_count": null,
   "id": "42557859",
   "metadata": {},
   "outputs": [],
   "source": []
  }
 ],
 "metadata": {
  "kernelspec": {
   "display_name": "Python 3 (ipykernel)",
   "language": "python",
   "name": "python3"
  },
  "language_info": {
   "codemirror_mode": {
    "name": "ipython",
    "version": 3
   },
   "file_extension": ".py",
   "mimetype": "text/x-python",
   "name": "python",
   "nbconvert_exporter": "python",
   "pygments_lexer": "ipython3",
   "version": "3.9.12"
  }
 },
 "nbformat": 4,
 "nbformat_minor": 5
}
