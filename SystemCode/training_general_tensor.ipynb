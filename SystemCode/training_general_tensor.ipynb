{
 "cells": [
  {
   "cell_type": "code",
   "execution_count": 1,
   "id": "9d89c4c3",
   "metadata": {},
   "outputs": [],
   "source": [
    "# pip install opencv-python"
   ]
  },
  {
   "cell_type": "code",
   "execution_count": 111,
   "id": "34b30226",
   "metadata": {},
   "outputs": [
    {
     "name": "stdout",
     "output_type": "stream",
     "text": [
      "Versions of key libraries\n",
      "---\n",
      "tensorflow:  2.9.1\n",
      "numpy:       1.23.2\n",
      "matplotlib:  3.5.3\n",
      "sklearn:     1.1.2\n"
     ]
    }
   ],
   "source": [
    "import matplotlib\n",
    "import sklearn\n",
    "import numpy as np\n",
    "import pandas as pd\n",
    "import sklearn.metrics as metrics\n",
    "import matplotlib.pyplot as plt\n",
    "import pathlib\n",
    "import os\n",
    "import cv2\n",
    "import datetime\n",
    "\n",
    "from os import listdir\n",
    "from os.path import isfile, isdir, join\n",
    "from pathlib import Path\n",
    "\n",
    "import tensorflow as tf\n",
    "from tensorflow import keras\n",
    "from tensorflow.keras import layers\n",
    "from tensorflow.keras.callbacks import ModelCheckpoint,CSVLogger\n",
    "from tensorflow.keras.models import Sequential\n",
    "from tensorflow.keras.layers import Dense\n",
    "from tensorflow.keras.layers import Dropout\n",
    "from tensorflow.keras.layers import Flatten\n",
    "from tensorflow.keras.layers import Conv2D\n",
    "from tensorflow.keras.layers import MaxPooling2D\n",
    "from tensorflow.keras.utils import to_categorical\n",
    "from tensorflow.keras.utils import plot_model\n",
    "from tensorflow.keras import optimizers\n",
    "from tensorflow.keras import regularizers\n",
    "from keras.models import load_model\n",
    "\n",
    "from sklearn.preprocessing import LabelBinarizer\n",
    "from sklearn.model_selection import train_test_split\n",
    "\n",
    "print(\"Versions of key libraries\")\n",
    "print(\"---\")\n",
    "print(\"tensorflow: \", tf.__version__)\n",
    "print(\"numpy:      \", np.__version__)\n",
    "print(\"matplotlib: \", matplotlib.__version__)\n",
    "print(\"sklearn:    \", sklearn.__version__)"
   ]
  },
  {
   "cell_type": "code",
   "execution_count": 112,
   "id": "84658303",
   "metadata": {},
   "outputs": [],
   "source": [
    "modelname   = 'base'\n",
    "\n",
    "IMG_SIZE = 180 # Specify height and width of image to match the input format of the model\n",
    "IMG_WIDTH = IMG_SIZE\n",
    "IMG_HEIGHT = IMG_SIZE\n",
    "CHANNELS = 3 # Keep RGB color channels to match the input format of the model\n",
    "BATCH_SIZE = 64 # Big enough to measure an F1-score\n",
    "AUTOTUNE = tf.data.AUTOTUNE # Adapt preprocessing and prefetching dynamically\n",
    "SHUFFLE_BUFFER_SIZE = 1024 # Shuffle the training data by a chunck of 1024 observations\n",
    "SEED = 7\n",
    "N_LABELS = 0\n",
    "EPOCHS = 40\n",
    "OPT_IDX = 1\n",
    "ACTIVATION = 'softmax'\n",
    "\n",
    "class_names = ''\n",
    "modelname = modelname+\"_\"+str(IMG_SIZE)+\"_\"+str(EPOCHS)+\"_\"+str(BATCH_SIZE)+\"_\"+str(OPT_IDX)\n",
    "optmzs = ['adam', optimizers.RMSprop(learning_rate=0.0001)]\n",
    "optmz = optmzs[OPT_IDX]"
   ]
  },
  {
   "cell_type": "code",
   "execution_count": 113,
   "id": "48753998-ba25-4d24-bc33-bff7875a5304",
   "metadata": {},
   "outputs": [],
   "source": [
    "def readImagesFromDir(base_img_path='dataset/'):\n",
    "    dirs = [d for d in listdir(base_img_path) if isdir(join(base_img_path, d)) and not d.startswith('.')]\n",
    "\n",
    "    print(dirs)\n",
    "\n",
    "    X, y = [], []\n",
    "\n",
    "    for d in dirs:\n",
    "        img_path = base_img_path + d + \"/\"\n",
    "        files = [f for f in listdir(img_path) if isfile(join(img_path, f))]\n",
    "        X = X + [os.path.join(img_path, f) for f in files if f.lower().endswith(('.png', '.jpg', '.jpeg'))]\n",
    "        y = y + [d for f in files if f.lower().endswith(('.png', '.jpg', '.jpeg'))]\n",
    "        #print(d)\n",
    "\n",
    "    data_dir = Path(base_img_path)\n",
    "    image_count = len(list(data_dir.glob('*/*.*')))\n",
    "    \n",
    "    return X, y\n",
    "\n",
    "\n",
    "def parse_function(filename, label):\n",
    "    \"\"\"Function that returns a tuple of normalized image array and labels array.\n",
    "    Args:\n",
    "        filename: string representing path to image\n",
    "        label: 0/1 one-dimensional array of size N_LABELS\n",
    "    \"\"\"\n",
    "    # Read an image from a file\n",
    "    image_string = tf.io.read_file(filename)\n",
    "    # Decode it into a dense vector\n",
    "    image_decoded = tf.io.decode_image(image_string, channels=CHANNELS, expand_animations = False)\n",
    "    #if (filename.lower().endswith(('.jpg', '.jpeg'))):\n",
    "    #    image_decoded = tf.image.decode_jpeg(image_string, channels=CHANNELS)\n",
    "    #if (filename.lower().endswith(('.png'))):\n",
    "    #    image_decoded = tf.image.decode_png(image_string, channels=CHANNELS)\n",
    "    # Resize it to fixed shape\n",
    "    image_resized = tf.image.resize(image_decoded, [IMG_HEIGHT, IMG_WIDTH])\n",
    "    \n",
    "    image_cropped = tf.image.random_crop(image_resized, [IMG_HEIGHT, IMG_WIDTH, CHANNELS])\n",
    "    image_rotated = tf.image.rot90(image_cropped, k=3)\n",
    "    image_flip = tf.image.flip_left_right(image_rotated)\n",
    "    \n",
    "    # Normalize it from [0, 255] to [0.0, 1.0]\n",
    "    image_normalized = image_flip / 255.0\n",
    "    \n",
    "    return image_normalized, label\n",
    "\n",
    "\n",
    "def create_dataset(filenames, labels, is_training=True):\n",
    "    \"\"\"Load and parse dataset.\n",
    "    Args:\n",
    "        filenames: list of image paths\n",
    "        labels: numpy array of shape (BATCH_SIZE, N_LABELS)\n",
    "        is_training: boolean to indicate training mode\n",
    "    \"\"\"\n",
    "    \n",
    "    # Create a first dataset of file paths and labels\n",
    "    dataset = tf.data.Dataset.from_tensor_slices((filenames, labels))\n",
    "    # Parse and preprocess observations in parallel\n",
    "    dataset = dataset.map(parse_function, num_parallel_calls=AUTOTUNE)\n",
    "    \n",
    "    if is_training == True:\n",
    "        # This is a small dataset, only load it once, and keep it in memory.\n",
    "        #dataset = dataset.cache()\n",
    "        # Shuffle the data each buffer size\n",
    "        dataset = dataset.shuffle(buffer_size=SHUFFLE_BUFFER_SIZE)\n",
    "        \n",
    "    # Batch the data for multiple steps\n",
    "    dataset = dataset.batch(BATCH_SIZE)\n",
    "    # Fetch batches in the background while the model is training.\n",
    "    dataset = dataset.prefetch(buffer_size=AUTOTUNE)\n",
    "    \n",
    "    return dataset\n",
    "\n",
    "\n",
    "def predict_new_image(img_file):    \n",
    "    img = tf.keras.utils.load_img(\n",
    "        img_file, target_size=(IMG_HEIGHT, IMG_WIDTH)\n",
    "    )\n",
    "    img_array = tf.keras.utils.img_to_array(img)\n",
    "    img_array = tf.expand_dims(img_array, 0) # Create a batch\n",
    "    #img_array = np.array([img_array])\n",
    "\n",
    "    saved_model = load_model(model_file)\n",
    "\n",
    "    predictions = model.predict(img_array)\n",
    "    score = tf.nn.softmax(predictions[0])\n",
    "    #score = tf.sigmoid(predictions[0])\n",
    "    #score = tf.nn.sigmoid_cross_entropy_with_logits(labels=class_names, logits=predictions[0])\n",
    "    #score = tf.math.sigmoid(predictions[0])\n",
    "    #score = tf.tanh(predictions[0])\n",
    "\n",
    "    #model.evaluate(img_array)\n",
    "\n",
    "    print(predictions[0])\n",
    "\n",
    "    print(\n",
    "        \"This image most likely belongs to {} with a {:.2f} percent confidence.\"\n",
    "        .format(class_names[np.argmax(score)], 100 * np.max(score))\n",
    "    )"
   ]
  },
  {
   "cell_type": "code",
   "execution_count": 114,
   "id": "84a3f18d-fa06-44e8-984a-f830f8760b40",
   "metadata": {},
   "outputs": [
    {
     "name": "stdout",
     "output_type": "stream",
     "text": [
      "['oranda', 'luohan', 'arrowana', 'betta_fish', 'common_goldfish']\n",
      "0. arrowana\n",
      "1. betta_fish\n",
      "2. common_goldfish\n",
      "3. luohan\n",
      "4. oranda\n",
      "(6463, 5)\n",
      "(1616, 5)\n"
     ]
    }
   ],
   "source": [
    "X, Y = readImagesFromDir()\n",
    "\n",
    "X_train, X_val, y_train, y_val = train_test_split(X, Y, test_size=0.2, shuffle=True, random_state=SEED)\n",
    "\n",
    "lb = LabelBinarizer()\n",
    "lb.fit(y_train)\n",
    "class_names = lb.classes_\n",
    "# Loop over all labels and show them    \n",
    "N_LABELS = len(class_names)\n",
    "for (i, label) in enumerate(class_names):\n",
    "    print(\"{}. {}\".format(i, label))\n",
    "\n",
    "# transform the targets of the training and test sets\n",
    "y_train_bin = lb.transform(y_train)\n",
    "y_val_bin = lb.transform(y_val)\n",
    "\n",
    "print(y_train_bin.shape)\n",
    "print(y_val_bin.shape)"
   ]
  },
  {
   "cell_type": "code",
   "execution_count": 115,
   "id": "777e557b-6713-4bb2-a72b-94da2cdbaf86",
   "metadata": {},
   "outputs": [
    {
     "name": "stdout",
     "output_type": "stream",
     "text": [
      "dataset/luohan/240_F_491469333_0yjOsxSoDk6zKsVKfOG6CiuwMva8paSX.jpg [0 0 0 1 0]\n",
      "dataset/oranda/frame26070.jpg [0 0 0 0 1]\n",
      "dataset/oranda/frame41090.jpg [0 0 0 0 1]\n",
      "dataset/oranda/frame33120.jpg [0 0 0 0 1]\n",
      "dataset/betta_fish/betta0535.jpg [0 1 0 0 0]\n",
      "dataset/arrowana/240_F_237634033_wXtqg323lBKVZrx0zxwyZdoW9lyBWuoJ.jpg [1 0 0 0 0]\n",
      "dataset/oranda/frame36010.jpg [0 0 0 0 1]\n",
      "dataset/betta_fish/betta0585.jpg [0 1 0 0 0]\n",
      "dataset/oranda/frame27270.jpg [0 0 0 0 1]\n",
      "dataset/oranda/frame37920.jpg [0 0 0 0 1]\n"
     ]
    }
   ],
   "source": [
    "# Print examples of fish and their binary targets\n",
    "for i in range(10):\n",
    "    print(X_train[len(X_train)-1 - i], y_train_bin[len(y_train_bin)-1 - i])"
   ]
  },
  {
   "cell_type": "code",
   "execution_count": 116,
   "id": "7c02b00a-1067-4c4f-9db3-f0bc07ceef91",
   "metadata": {},
   "outputs": [
    {
     "name": "stdout",
     "output_type": "stream",
     "text": [
      "Shape of features array: (64, 180, 180, 3)\n",
      "Shape of labels array: (64, 5)\n",
      "Shape of features array: (64, 180, 180, 3)\n",
      "Shape of labels array: (64, 5)\n"
     ]
    }
   ],
   "source": [
    "train_ds = create_dataset(X_train, y_train_bin)\n",
    "val_ds = create_dataset(X_val, y_val_bin, is_training=False)\n",
    "\n",
    "for f, l in train_ds.take(1):\n",
    "    print(\"Shape of features array:\", f.numpy().shape)\n",
    "    print(\"Shape of labels array:\", l.numpy().shape)\n",
    "    \n",
    "for f, l in val_ds.take(1):\n",
    "    print(\"Shape of features array:\", f.numpy().shape)\n",
    "    print(\"Shape of labels array:\", l.numpy().shape)"
   ]
  },
  {
   "cell_type": "code",
   "execution_count": 117,
   "id": "f0487832",
   "metadata": {},
   "outputs": [
    {
     "name": "stdout",
     "output_type": "stream",
     "text": [
      "Model: \"sequential_14\"\n",
      "_________________________________________________________________\n",
      " Layer (type)                Output Shape              Param #   \n",
      "=================================================================\n",
      " conv2d_70 (Conv2D)          (None, 180, 180, 64)      4864      \n",
      "                                                                 \n",
      " max_pooling2d_70 (MaxPoolin  (None, 90, 90, 64)       0         \n",
      " g2D)                                                            \n",
      "                                                                 \n",
      " conv2d_71 (Conv2D)          (None, 90, 90, 32)        18464     \n",
      "                                                                 \n",
      " max_pooling2d_71 (MaxPoolin  (None, 45, 45, 32)       0         \n",
      " g2D)                                                            \n",
      "                                                                 \n",
      " conv2d_72 (Conv2D)          (None, 45, 45, 32)        9248      \n",
      "                                                                 \n",
      " max_pooling2d_72 (MaxPoolin  (None, 22, 22, 32)       0         \n",
      " g2D)                                                            \n",
      "                                                                 \n",
      " dropout_42 (Dropout)        (None, 22, 22, 32)        0         \n",
      "                                                                 \n",
      " conv2d_73 (Conv2D)          (None, 22, 22, 32)        9248      \n",
      "                                                                 \n",
      " max_pooling2d_73 (MaxPoolin  (None, 11, 11, 32)       0         \n",
      " g2D)                                                            \n",
      "                                                                 \n",
      " dropout_43 (Dropout)        (None, 11, 11, 32)        0         \n",
      "                                                                 \n",
      " conv2d_74 (Conv2D)          (None, 11, 11, 32)        9248      \n",
      "                                                                 \n",
      " max_pooling2d_74 (MaxPoolin  (None, 5, 5, 32)         0         \n",
      " g2D)                                                            \n",
      "                                                                 \n",
      " dropout_44 (Dropout)        (None, 5, 5, 32)          0         \n",
      "                                                                 \n",
      " flatten_14 (Flatten)        (None, 800)               0         \n",
      "                                                                 \n",
      " dense_42 (Dense)            (None, 64)                51264     \n",
      "                                                                 \n",
      " dense_43 (Dense)            (None, 10)                650       \n",
      "                                                                 \n",
      " dense_44 (Dense)            (None, 5)                 55        \n",
      "                                                                 \n",
      "=================================================================\n",
      "Total params: 103,041\n",
      "Trainable params: 103,041\n",
      "Non-trainable params: 0\n",
      "_________________________________________________________________\n"
     ]
    }
   ],
   "source": [
    "def createModel():\n",
    "    model = Sequential()\n",
    "    model.add(Conv2D(64, (5,5), padding='same', input_shape=(IMG_HEIGHT,IMG_WIDTH,CHANNELS), activation='relu'))\n",
    "    model.add(MaxPooling2D(pool_size=(2,2)))\n",
    "    model.add(Conv2D(32, (3,3), padding='same', activation='relu'))\n",
    "    model.add(MaxPooling2D(pool_size=(2,2)))\n",
    "    model.add(Conv2D(32, (3,3), padding='same', activation='relu'))\n",
    "    model.add(MaxPooling2D(pool_size=(2,2)))\n",
    "    model.add(Dropout(0.1))\n",
    "    model.add(Conv2D(32, (3,3), padding='same', activation='relu'))\n",
    "    model.add(MaxPooling2D(pool_size=(2,2)))\n",
    "    model.add(Dropout(0.15))\n",
    "    model.add(Conv2D(32, (3,3), padding='same', activation='relu'))\n",
    "    model.add(MaxPooling2D(pool_size=(2,2)))\n",
    "    model.add(Dropout(0.2))\n",
    "    model.add(Flatten())\n",
    "    model.add(Dense(64, activation='relu'))\n",
    "    model.add(Dense(10, activation='relu'))\n",
    "    model.add(Dense(N_LABELS, activation=ACTIVATION))\n",
    "    model.compile(loss='categorical_crossentropy', optimizer=optmz, metrics=['accuracy'])\n",
    "    return model\n",
    "\n",
    "model       = createModel() # This is meant for training\n",
    "modelGo     = createModel() # This is used for final testing\n",
    "\n",
    "model.summary()"
   ]
  },
  {
   "cell_type": "code",
   "execution_count": 118,
   "id": "dced975a",
   "metadata": {},
   "outputs": [
    {
     "name": "stdout",
     "output_type": "stream",
     "text": [
      "Path to model: models/base_180_40_64_1_2022-09-19_01-54-16.hdf5\n",
      "Path to log:   models/base_180_40_64_1_2022-09-19_01-54-16.csv\n"
     ]
    }
   ],
   "source": [
    "                                                                                # Step 1\n",
    "modelname       = modelname+\"_\"+str(datetime.datetime.now())[:-7].replace(' ','_').replace(\":\",'-')\n",
    "folderpath      = 'models/'\n",
    "model_file      = folderpath + modelname + \".hdf5\"\n",
    "checkpoint      = ModelCheckpoint(model_file, \n",
    "                                  monitor='val_accuracy', \n",
    "                                  verbose=0, \n",
    "                                  save_best_only=True, \n",
    "                                  mode='max')\n",
    "\n",
    "csv_logger      = CSVLogger(folderpath+modelname +'.csv')                       # Step 2\n",
    "callbacks_list  = [checkpoint,csv_logger]                                       # Step 3\n",
    "\n",
    "print(\"Path to model:\", model_file)\n",
    "print(\"Path to log:  \", folderpath+modelname+'.csv')"
   ]
  },
  {
   "cell_type": "code",
   "execution_count": 119,
   "id": "6b8e5e56",
   "metadata": {},
   "outputs": [
    {
     "name": "stdout",
     "output_type": "stream",
     "text": [
      "Path to plot: models/base_180_40_64_1_2022-09-19_01-54-16_plot.png\n"
     ]
    }
   ],
   "source": [
    "plotpath  = folderpath+modelname+'_plot.png'\n",
    "plot_model(model, \n",
    "           to_file=plotpath, \n",
    "           show_shapes=True, \n",
    "           show_layer_names=False,\n",
    "           rankdir='TB')\n",
    "print(\"Path to plot:\", plotpath)"
   ]
  },
  {
   "cell_type": "code",
   "execution_count": 120,
   "id": "b0b245d2",
   "metadata": {},
   "outputs": [
    {
     "name": "stdout",
     "output_type": "stream",
     "text": [
      "Epoch 1/40\n",
      " 15/101 [===>..........................] - ETA: 3s - loss: 1.4619 - accuracy: 0.4094"
     ]
    },
    {
     "name": "stderr",
     "output_type": "stream",
     "text": [
      "2022-09-19 01:54:27.639532: W tensorflow/core/lib/png/png_io.cc:88] PNG warning: iCCP: known incorrect sRGB profile\n"
     ]
    },
    {
     "name": "stdout",
     "output_type": "stream",
     "text": [
      "101/101 [==============================] - 6s 46ms/step - loss: 1.2210 - accuracy: 0.4595 - val_loss: 1.0175 - val_accuracy: 0.5433\n",
      "Epoch 2/40\n",
      " 15/101 [===>..........................] - ETA: 3s - loss: 0.9564 - accuracy: 0.5031"
     ]
    },
    {
     "name": "stderr",
     "output_type": "stream",
     "text": [
      "2022-09-19 01:54:32.612735: W tensorflow/core/lib/png/png_io.cc:88] PNG warning: iCCP: known incorrect sRGB profile\n"
     ]
    },
    {
     "name": "stdout",
     "output_type": "stream",
     "text": [
      "101/101 [==============================] - 5s 45ms/step - loss: 0.9069 - accuracy: 0.5208 - val_loss: 0.8332 - val_accuracy: 0.5625\n",
      "Epoch 3/40\n",
      " 16/101 [===>..........................] - ETA: 3s - loss: 0.8773 - accuracy: 0.5322"
     ]
    },
    {
     "name": "stderr",
     "output_type": "stream",
     "text": [
      "2022-09-19 01:54:37.384962: W tensorflow/core/lib/png/png_io.cc:88] PNG warning: iCCP: known incorrect sRGB profile\n"
     ]
    },
    {
     "name": "stdout",
     "output_type": "stream",
     "text": [
      "101/101 [==============================] - 5s 45ms/step - loss: 0.8274 - accuracy: 0.5940 - val_loss: 0.7350 - val_accuracy: 0.7389\n",
      "Epoch 4/40\n",
      " 15/101 [===>..........................] - ETA: 3s - loss: 0.7724 - accuracy: 0.6687"
     ]
    },
    {
     "name": "stderr",
     "output_type": "stream",
     "text": [
      "2022-09-19 01:54:42.156967: W tensorflow/core/lib/png/png_io.cc:88] PNG warning: iCCP: known incorrect sRGB profile\n"
     ]
    },
    {
     "name": "stdout",
     "output_type": "stream",
     "text": [
      "101/101 [==============================] - 4s 42ms/step - loss: 0.7420 - accuracy: 0.6842 - val_loss: 0.6469 - val_accuracy: 0.7611\n",
      "Epoch 5/40\n",
      " 15/101 [===>..........................] - ETA: 3s - loss: 0.6893 - accuracy: 0.7073"
     ]
    },
    {
     "name": "stderr",
     "output_type": "stream",
     "text": [
      "2022-09-19 01:54:46.658056: W tensorflow/core/lib/png/png_io.cc:88] PNG warning: iCCP: known incorrect sRGB profile\n"
     ]
    },
    {
     "name": "stdout",
     "output_type": "stream",
     "text": [
      "101/101 [==============================] - 4s 41ms/step - loss: 0.6624 - accuracy: 0.7230 - val_loss: 0.5707 - val_accuracy: 0.7847\n",
      "Epoch 6/40\n",
      " 17/101 [====>.........................] - ETA: 2s - loss: 0.6591 - accuracy: 0.7261"
     ]
    },
    {
     "name": "stderr",
     "output_type": "stream",
     "text": [
      "2022-09-19 01:54:51.086512: W tensorflow/core/lib/png/png_io.cc:88] PNG warning: iCCP: known incorrect sRGB profile\n"
     ]
    },
    {
     "name": "stdout",
     "output_type": "stream",
     "text": [
      "101/101 [==============================] - 4s 40ms/step - loss: 0.6178 - accuracy: 0.7337 - val_loss: 0.5258 - val_accuracy: 0.7902\n",
      "Epoch 7/40\n",
      " 15/101 [===>..........................] - ETA: 2s - loss: 0.5673 - accuracy: 0.7604"
     ]
    },
    {
     "name": "stderr",
     "output_type": "stream",
     "text": [
      "2022-09-19 01:54:55.383817: W tensorflow/core/lib/png/png_io.cc:88] PNG warning: iCCP: known incorrect sRGB profile\n"
     ]
    },
    {
     "name": "stdout",
     "output_type": "stream",
     "text": [
      "101/101 [==============================] - 4s 39ms/step - loss: 0.5701 - accuracy: 0.7642 - val_loss: 0.6054 - val_accuracy: 0.7376\n",
      "Epoch 8/40\n",
      " 15/101 [===>..........................] - ETA: 3s - loss: 0.5574 - accuracy: 0.7573"
     ]
    },
    {
     "name": "stderr",
     "output_type": "stream",
     "text": [
      "2022-09-19 01:54:59.651910: W tensorflow/core/lib/png/png_io.cc:88] PNG warning: iCCP: known incorrect sRGB profile\n"
     ]
    },
    {
     "name": "stdout",
     "output_type": "stream",
     "text": [
      "101/101 [==============================] - 4s 40ms/step - loss: 0.5370 - accuracy: 0.7778 - val_loss: 0.4770 - val_accuracy: 0.8075\n",
      "Epoch 9/40\n",
      " 15/101 [===>..........................] - ETA: 2s - loss: 0.4902 - accuracy: 0.7979"
     ]
    },
    {
     "name": "stderr",
     "output_type": "stream",
     "text": [
      "2022-09-19 01:55:03.962197: W tensorflow/core/lib/png/png_io.cc:88] PNG warning: iCCP: known incorrect sRGB profile\n"
     ]
    },
    {
     "name": "stdout",
     "output_type": "stream",
     "text": [
      "101/101 [==============================] - 4s 41ms/step - loss: 0.4934 - accuracy: 0.8037 - val_loss: 0.4071 - val_accuracy: 0.8509\n",
      "Epoch 10/40\n",
      " 17/101 [====>.........................] - ETA: 2s - loss: 0.4438 - accuracy: 0.8153"
     ]
    },
    {
     "name": "stderr",
     "output_type": "stream",
     "text": [
      "2022-09-19 01:55:08.330956: W tensorflow/core/lib/png/png_io.cc:88] PNG warning: iCCP: known incorrect sRGB profile\n"
     ]
    },
    {
     "name": "stdout",
     "output_type": "stream",
     "text": [
      "101/101 [==============================] - 4s 40ms/step - loss: 0.4581 - accuracy: 0.8207 - val_loss: 0.4206 - val_accuracy: 0.8373\n",
      "Epoch 11/40\n",
      " 15/101 [===>..........................] - ETA: 2s - loss: 0.4387 - accuracy: 0.8313"
     ]
    },
    {
     "name": "stderr",
     "output_type": "stream",
     "text": [
      "2022-09-19 01:55:12.623218: W tensorflow/core/lib/png/png_io.cc:88] PNG warning: iCCP: known incorrect sRGB profile\n"
     ]
    },
    {
     "name": "stdout",
     "output_type": "stream",
     "text": [
      "101/101 [==============================] - 4s 40ms/step - loss: 0.4381 - accuracy: 0.8293 - val_loss: 0.3685 - val_accuracy: 0.8682\n",
      "Epoch 12/40\n",
      " 15/101 [===>..........................] - ETA: 2s - loss: 0.4359 - accuracy: 0.8219"
     ]
    },
    {
     "name": "stderr",
     "output_type": "stream",
     "text": [
      "2022-09-19 01:55:16.919395: W tensorflow/core/lib/png/png_io.cc:88] PNG warning: iCCP: known incorrect sRGB profile\n"
     ]
    },
    {
     "name": "stdout",
     "output_type": "stream",
     "text": [
      "101/101 [==============================] - 4s 41ms/step - loss: 0.4236 - accuracy: 0.8358 - val_loss: 0.3575 - val_accuracy: 0.8688\n",
      "Epoch 13/40\n",
      " 15/101 [===>..........................] - ETA: 3s - loss: 0.4164 - accuracy: 0.8333"
     ]
    },
    {
     "name": "stderr",
     "output_type": "stream",
     "text": [
      "2022-09-19 01:55:21.305591: W tensorflow/core/lib/png/png_io.cc:88] PNG warning: iCCP: known incorrect sRGB profile\n"
     ]
    },
    {
     "name": "stdout",
     "output_type": "stream",
     "text": [
      "101/101 [==============================] - 4s 40ms/step - loss: 0.3999 - accuracy: 0.8467 - val_loss: 0.3578 - val_accuracy: 0.8688\n",
      "Epoch 14/40\n",
      " 15/101 [===>..........................] - ETA: 2s - loss: 0.3960 - accuracy: 0.8438"
     ]
    },
    {
     "name": "stderr",
     "output_type": "stream",
     "text": [
      "2022-09-19 01:55:25.610673: W tensorflow/core/lib/png/png_io.cc:88] PNG warning: iCCP: known incorrect sRGB profile\n"
     ]
    },
    {
     "name": "stdout",
     "output_type": "stream",
     "text": [
      "101/101 [==============================] - 4s 40ms/step - loss: 0.3930 - accuracy: 0.8460 - val_loss: 0.3373 - val_accuracy: 0.8738\n",
      "Epoch 15/40\n",
      " 15/101 [===>..........................] - ETA: 3s - loss: 0.3734 - accuracy: 0.8542"
     ]
    },
    {
     "name": "stderr",
     "output_type": "stream",
     "text": [
      "2022-09-19 01:55:29.971990: W tensorflow/core/lib/png/png_io.cc:88] PNG warning: iCCP: known incorrect sRGB profile\n"
     ]
    },
    {
     "name": "stdout",
     "output_type": "stream",
     "text": [
      "101/101 [==============================] - 4s 41ms/step - loss: 0.3867 - accuracy: 0.8491 - val_loss: 0.3315 - val_accuracy: 0.8762\n",
      "Epoch 16/40\n",
      " 15/101 [===>..........................] - ETA: 3s - loss: 0.3762 - accuracy: 0.8552"
     ]
    },
    {
     "name": "stderr",
     "output_type": "stream",
     "text": [
      "2022-09-19 01:55:34.409368: W tensorflow/core/lib/png/png_io.cc:88] PNG warning: iCCP: known incorrect sRGB profile\n"
     ]
    },
    {
     "name": "stdout",
     "output_type": "stream",
     "text": [
      "101/101 [==============================] - 4s 41ms/step - loss: 0.3703 - accuracy: 0.8580 - val_loss: 0.3393 - val_accuracy: 0.8781\n",
      "Epoch 17/40\n",
      " 15/101 [===>..........................] - ETA: 3s - loss: 0.3300 - accuracy: 0.8687"
     ]
    },
    {
     "name": "stderr",
     "output_type": "stream",
     "text": [
      "2022-09-19 01:55:38.863140: W tensorflow/core/lib/png/png_io.cc:88] PNG warning: iCCP: known incorrect sRGB profile\n"
     ]
    },
    {
     "name": "stdout",
     "output_type": "stream",
     "text": [
      "101/101 [==============================] - 4s 42ms/step - loss: 0.3659 - accuracy: 0.8601 - val_loss: 0.3163 - val_accuracy: 0.8787\n",
      "Epoch 18/40\n",
      " 15/101 [===>..........................] - ETA: 3s - loss: 0.3530 - accuracy: 0.8594"
     ]
    },
    {
     "name": "stderr",
     "output_type": "stream",
     "text": [
      "2022-09-19 01:55:43.349538: W tensorflow/core/lib/png/png_io.cc:88] PNG warning: iCCP: known incorrect sRGB profile\n"
     ]
    },
    {
     "name": "stdout",
     "output_type": "stream",
     "text": [
      "101/101 [==============================] - 4s 40ms/step - loss: 0.3648 - accuracy: 0.8606 - val_loss: 0.3173 - val_accuracy: 0.8781\n",
      "Epoch 19/40\n",
      " 15/101 [===>..........................] - ETA: 3s - loss: 0.3224 - accuracy: 0.8729"
     ]
    },
    {
     "name": "stderr",
     "output_type": "stream",
     "text": [
      "2022-09-19 01:55:47.638475: W tensorflow/core/lib/png/png_io.cc:88] PNG warning: iCCP: known incorrect sRGB profile\n"
     ]
    },
    {
     "name": "stdout",
     "output_type": "stream",
     "text": [
      "101/101 [==============================] - 4s 40ms/step - loss: 0.3461 - accuracy: 0.8643 - val_loss: 0.3248 - val_accuracy: 0.8793\n",
      "Epoch 20/40\n",
      " 15/101 [===>..........................] - ETA: 2s - loss: 0.3401 - accuracy: 0.8677"
     ]
    },
    {
     "name": "stderr",
     "output_type": "stream",
     "text": [
      "2022-09-19 01:55:51.952920: W tensorflow/core/lib/png/png_io.cc:88] PNG warning: iCCP: known incorrect sRGB profile\n"
     ]
    },
    {
     "name": "stdout",
     "output_type": "stream",
     "text": [
      "101/101 [==============================] - 4s 39ms/step - loss: 0.3466 - accuracy: 0.8657 - val_loss: 0.3013 - val_accuracy: 0.8837\n",
      "Epoch 21/40\n",
      " 15/101 [===>..........................] - ETA: 3s - loss: 0.3392 - accuracy: 0.8646"
     ]
    },
    {
     "name": "stderr",
     "output_type": "stream",
     "text": [
      "2022-09-19 01:55:56.221102: W tensorflow/core/lib/png/png_io.cc:88] PNG warning: iCCP: known incorrect sRGB profile\n"
     ]
    },
    {
     "name": "stdout",
     "output_type": "stream",
     "text": [
      "101/101 [==============================] - 4s 40ms/step - loss: 0.3395 - accuracy: 0.8716 - val_loss: 0.2954 - val_accuracy: 0.8812\n",
      "Epoch 22/40\n",
      " 15/101 [===>..........................] - ETA: 2s - loss: 0.3132 - accuracy: 0.8698"
     ]
    },
    {
     "name": "stderr",
     "output_type": "stream",
     "text": [
      "2022-09-19 01:56:00.501123: W tensorflow/core/lib/png/png_io.cc:88] PNG warning: iCCP: known incorrect sRGB profile\n"
     ]
    },
    {
     "name": "stdout",
     "output_type": "stream",
     "text": [
      "101/101 [==============================] - 4s 39ms/step - loss: 0.3346 - accuracy: 0.8713 - val_loss: 0.2925 - val_accuracy: 0.8824\n",
      "Epoch 23/40\n",
      " 15/101 [===>..........................] - ETA: 2s - loss: 0.3151 - accuracy: 0.8792"
     ]
    },
    {
     "name": "stderr",
     "output_type": "stream",
     "text": [
      "2022-09-19 01:56:04.740307: W tensorflow/core/lib/png/png_io.cc:88] PNG warning: iCCP: known incorrect sRGB profile\n"
     ]
    },
    {
     "name": "stdout",
     "output_type": "stream",
     "text": [
      "101/101 [==============================] - 4s 39ms/step - loss: 0.3310 - accuracy: 0.8716 - val_loss: 0.3041 - val_accuracy: 0.8775\n",
      "Epoch 24/40\n",
      " 17/101 [====>.........................] - ETA: 2s - loss: 0.3113 - accuracy: 0.8676"
     ]
    },
    {
     "name": "stderr",
     "output_type": "stream",
     "text": [
      "2022-09-19 01:56:08.954250: W tensorflow/core/lib/png/png_io.cc:88] PNG warning: iCCP: known incorrect sRGB profile\n"
     ]
    },
    {
     "name": "stdout",
     "output_type": "stream",
     "text": [
      "101/101 [==============================] - 4s 39ms/step - loss: 0.3273 - accuracy: 0.8697 - val_loss: 0.3771 - val_accuracy: 0.8472\n",
      "Epoch 25/40\n",
      " 15/101 [===>..........................] - ETA: 2s - loss: 0.2967 - accuracy: 0.8927"
     ]
    },
    {
     "name": "stderr",
     "output_type": "stream",
     "text": [
      "2022-09-19 01:56:13.187877: W tensorflow/core/lib/png/png_io.cc:88] PNG warning: iCCP: known incorrect sRGB profile\n"
     ]
    },
    {
     "name": "stdout",
     "output_type": "stream",
     "text": [
      "101/101 [==============================] - 4s 39ms/step - loss: 0.3208 - accuracy: 0.8788 - val_loss: 0.2848 - val_accuracy: 0.8905\n",
      "Epoch 26/40\n",
      " 17/101 [====>.........................] - ETA: 2s - loss: 0.3187 - accuracy: 0.8778"
     ]
    },
    {
     "name": "stderr",
     "output_type": "stream",
     "text": [
      "2022-09-19 01:56:17.374756: W tensorflow/core/lib/png/png_io.cc:88] PNG warning: iCCP: known incorrect sRGB profile\n"
     ]
    },
    {
     "name": "stdout",
     "output_type": "stream",
     "text": [
      "101/101 [==============================] - 4s 39ms/step - loss: 0.3149 - accuracy: 0.8840 - val_loss: 0.2863 - val_accuracy: 0.8868\n",
      "Epoch 27/40\n",
      " 17/101 [====>.........................] - ETA: 2s - loss: 0.3070 - accuracy: 0.8814"
     ]
    },
    {
     "name": "stderr",
     "output_type": "stream",
     "text": [
      "2022-09-19 01:56:21.535357: W tensorflow/core/lib/png/png_io.cc:88] PNG warning: iCCP: known incorrect sRGB profile\n"
     ]
    },
    {
     "name": "stdout",
     "output_type": "stream",
     "text": [
      "101/101 [==============================] - 4s 39ms/step - loss: 0.3069 - accuracy: 0.8826 - val_loss: 0.2700 - val_accuracy: 0.8942\n",
      "Epoch 28/40\n",
      " 15/101 [===>..........................] - ETA: 2s - loss: 0.3169 - accuracy: 0.8802"
     ]
    },
    {
     "name": "stderr",
     "output_type": "stream",
     "text": [
      "2022-09-19 01:56:25.730892: W tensorflow/core/lib/png/png_io.cc:88] PNG warning: iCCP: known incorrect sRGB profile\n"
     ]
    },
    {
     "name": "stdout",
     "output_type": "stream",
     "text": [
      "101/101 [==============================] - 4s 40ms/step - loss: 0.3050 - accuracy: 0.8827 - val_loss: 0.2663 - val_accuracy: 0.8936\n",
      "Epoch 29/40\n",
      " 15/101 [===>..........................] - ETA: 2s - loss: 0.2850 - accuracy: 0.8885"
     ]
    },
    {
     "name": "stderr",
     "output_type": "stream",
     "text": [
      "2022-09-19 01:56:30.017734: W tensorflow/core/lib/png/png_io.cc:88] PNG warning: iCCP: known incorrect sRGB profile\n"
     ]
    },
    {
     "name": "stdout",
     "output_type": "stream",
     "text": [
      "101/101 [==============================] - 4s 39ms/step - loss: 0.2988 - accuracy: 0.8866 - val_loss: 0.2799 - val_accuracy: 0.8973\n",
      "Epoch 30/40\n",
      " 17/101 [====>.........................] - ETA: 2s - loss: 0.3089 - accuracy: 0.8787"
     ]
    },
    {
     "name": "stderr",
     "output_type": "stream",
     "text": [
      "2022-09-19 01:56:34.241866: W tensorflow/core/lib/png/png_io.cc:88] PNG warning: iCCP: known incorrect sRGB profile\n"
     ]
    },
    {
     "name": "stdout",
     "output_type": "stream",
     "text": [
      "101/101 [==============================] - 4s 39ms/step - loss: 0.2965 - accuracy: 0.8883 - val_loss: 0.2682 - val_accuracy: 0.9010\n",
      "Epoch 31/40\n",
      " 17/101 [====>.........................] - ETA: 2s - loss: 0.2803 - accuracy: 0.8897"
     ]
    },
    {
     "name": "stderr",
     "output_type": "stream",
     "text": [
      "2022-09-19 01:56:38.456770: W tensorflow/core/lib/png/png_io.cc:88] PNG warning: iCCP: known incorrect sRGB profile\n"
     ]
    },
    {
     "name": "stdout",
     "output_type": "stream",
     "text": [
      "101/101 [==============================] - 4s 39ms/step - loss: 0.2886 - accuracy: 0.8881 - val_loss: 0.2593 - val_accuracy: 0.9016\n",
      "Epoch 32/40\n",
      " 15/101 [===>..........................] - ETA: 2s - loss: 0.2879 - accuracy: 0.8958"
     ]
    },
    {
     "name": "stderr",
     "output_type": "stream",
     "text": [
      "2022-09-19 01:56:42.697127: W tensorflow/core/lib/png/png_io.cc:88] PNG warning: iCCP: known incorrect sRGB profile\n"
     ]
    },
    {
     "name": "stdout",
     "output_type": "stream",
     "text": [
      "101/101 [==============================] - 4s 39ms/step - loss: 0.2869 - accuracy: 0.8937 - val_loss: 0.2581 - val_accuracy: 0.9072\n",
      "Epoch 33/40\n",
      " 15/101 [===>..........................] - ETA: 2s - loss: 0.2834 - accuracy: 0.8854"
     ]
    },
    {
     "name": "stderr",
     "output_type": "stream",
     "text": [
      "2022-09-19 01:56:46.921070: W tensorflow/core/lib/png/png_io.cc:88] PNG warning: iCCP: known incorrect sRGB profile\n"
     ]
    },
    {
     "name": "stdout",
     "output_type": "stream",
     "text": [
      "101/101 [==============================] - 4s 39ms/step - loss: 0.2805 - accuracy: 0.8948 - val_loss: 0.2542 - val_accuracy: 0.9047\n",
      "Epoch 34/40\n",
      " 17/101 [====>.........................] - ETA: 2s - loss: 0.2586 - accuracy: 0.8971"
     ]
    },
    {
     "name": "stderr",
     "output_type": "stream",
     "text": [
      "2022-09-19 01:56:51.139315: W tensorflow/core/lib/png/png_io.cc:88] PNG warning: iCCP: known incorrect sRGB profile\n"
     ]
    },
    {
     "name": "stdout",
     "output_type": "stream",
     "text": [
      "101/101 [==============================] - 4s 39ms/step - loss: 0.2807 - accuracy: 0.8923 - val_loss: 0.2594 - val_accuracy: 0.9028\n",
      "Epoch 35/40\n",
      " 17/101 [====>.........................] - ETA: 2s - loss: 0.2501 - accuracy: 0.9035"
     ]
    },
    {
     "name": "stderr",
     "output_type": "stream",
     "text": [
      "2022-09-19 01:56:55.343013: W tensorflow/core/lib/png/png_io.cc:88] PNG warning: iCCP: known incorrect sRGB profile\n"
     ]
    },
    {
     "name": "stdout",
     "output_type": "stream",
     "text": [
      "101/101 [==============================] - 4s 39ms/step - loss: 0.2734 - accuracy: 0.8940 - val_loss: 0.2458 - val_accuracy: 0.9097\n",
      "Epoch 36/40\n",
      " 15/101 [===>..........................] - ETA: 2s - loss: 0.2574 - accuracy: 0.8979"
     ]
    },
    {
     "name": "stderr",
     "output_type": "stream",
     "text": [
      "2022-09-19 01:56:59.566119: W tensorflow/core/lib/png/png_io.cc:88] PNG warning: iCCP: known incorrect sRGB profile\n"
     ]
    },
    {
     "name": "stdout",
     "output_type": "stream",
     "text": [
      "101/101 [==============================] - 4s 39ms/step - loss: 0.2671 - accuracy: 0.8985 - val_loss: 0.3093 - val_accuracy: 0.8750\n",
      "Epoch 37/40\n",
      " 17/101 [====>.........................] - ETA: 2s - loss: 0.2397 - accuracy: 0.9007"
     ]
    },
    {
     "name": "stderr",
     "output_type": "stream",
     "text": [
      "2022-09-19 01:57:03.776695: W tensorflow/core/lib/png/png_io.cc:88] PNG warning: iCCP: known incorrect sRGB profile\n"
     ]
    },
    {
     "name": "stdout",
     "output_type": "stream",
     "text": [
      "101/101 [==============================] - 4s 39ms/step - loss: 0.2650 - accuracy: 0.8979 - val_loss: 0.2386 - val_accuracy: 0.9115\n",
      "Epoch 38/40\n",
      " 15/101 [===>..........................] - ETA: 2s - loss: 0.2587 - accuracy: 0.9042"
     ]
    },
    {
     "name": "stderr",
     "output_type": "stream",
     "text": [
      "2022-09-19 01:57:07.981565: W tensorflow/core/lib/png/png_io.cc:88] PNG warning: iCCP: known incorrect sRGB profile\n"
     ]
    },
    {
     "name": "stdout",
     "output_type": "stream",
     "text": [
      "101/101 [==============================] - 4s 39ms/step - loss: 0.2608 - accuracy: 0.8999 - val_loss: 0.2360 - val_accuracy: 0.9115\n",
      "Epoch 39/40\n",
      " 17/101 [====>.........................] - ETA: 2s - loss: 0.2459 - accuracy: 0.8989"
     ]
    },
    {
     "name": "stderr",
     "output_type": "stream",
     "text": [
      "2022-09-19 01:57:12.195927: W tensorflow/core/lib/png/png_io.cc:88] PNG warning: iCCP: known incorrect sRGB profile\n"
     ]
    },
    {
     "name": "stdout",
     "output_type": "stream",
     "text": [
      "101/101 [==============================] - 4s 39ms/step - loss: 0.2541 - accuracy: 0.9027 - val_loss: 0.2334 - val_accuracy: 0.9103\n",
      "Epoch 40/40\n",
      " 15/101 [===>..........................] - ETA: 2s - loss: 0.2611 - accuracy: 0.9062"
     ]
    },
    {
     "name": "stderr",
     "output_type": "stream",
     "text": [
      "2022-09-19 01:57:16.371747: W tensorflow/core/lib/png/png_io.cc:88] PNG warning: iCCP: known incorrect sRGB profile\n"
     ]
    },
    {
     "name": "stdout",
     "output_type": "stream",
     "text": [
      "101/101 [==============================] - 4s 40ms/step - loss: 0.2571 - accuracy: 0.9055 - val_loss: 0.2375 - val_accuracy: 0.9115\n"
     ]
    }
   ],
   "source": [
    "history = model.fit(train_ds,                            # Training data and label\n",
    "          validation_data=val_ds,   # Validation data and label\n",
    "          epochs=EPOCHS,                       # The amount of epochs to be trained\n",
    "          batch_size=BATCH_SIZE,                   \n",
    "          shuffle=True,                     # To shuffle the training data\n",
    "          callbacks=callbacks_list)         # Callbacks to execute the checkpoints"
   ]
  },
  {
   "cell_type": "code",
   "execution_count": 121,
   "id": "f7ea6f75",
   "metadata": {},
   "outputs": [
    {
     "data": {
      "image/png": "[encoded data removed]",
      "text/plain": [
       "<Figure size 800x800 with 2 Axes>"
      ]
     },
     "metadata": {},
     "output_type": "display_data"
    }
   ],
   "source": [
    "# Plot the accuracy and error on training and test sets\n",
    "\n",
    "acc = history.history['accuracy']\n",
    "val_acc = history.history['val_accuracy']\n",
    "\n",
    "loss = history.history['loss']\n",
    "val_loss = history.history['val_loss']\n",
    "\n",
    "epochs_range = range(EPOCHS)\n",
    "\n",
    "plt.figure(figsize=(8, 8))\n",
    "plt.subplot(1, 2, 1)\n",
    "plt.plot(epochs_range, acc, label='Training Accuracy')\n",
    "plt.plot(epochs_range, val_acc, label='Validation Accuracy')\n",
    "plt.legend(loc='lower right')\n",
    "plt.title('Training and Validation Accuracy')\n",
    "\n",
    "plt.subplot(1, 2, 2)\n",
    "plt.plot(epochs_range, loss, label='Training Loss')\n",
    "plt.plot(epochs_range, val_loss, label='Validation Loss')\n",
    "plt.legend(loc='upper right')\n",
    "plt.title('Training and Validation Loss')\n",
    "plt.savefig(folderpath+modelname+'_accuracy_plot.png')\n",
    "plt.show()"
   ]
  },
  {
   "cell_type": "code",
   "execution_count": 122,
   "id": "298b829c",
   "metadata": {},
   "outputs": [
    {
     "name": "stdout",
     "output_type": "stream",
     "text": [
      "26/26 [==============================] - 1s 23ms/step\n",
      "Prediction completes.\n"
     ]
    }
   ],
   "source": [
    "                                                                                # Step 1\n",
    "modelGo.load_weights(model_file)\n",
    "modelGo.compile(loss='categorical_crossentropy', \n",
    "                optimizer=optmz, \n",
    "                metrics=['accuracy'])\n",
    "\n",
    "predicts    = modelGo.predict(val_ds)                                            # Step 2\n",
    "print(\"Prediction completes.\")"
   ]
  },
  {
   "cell_type": "code",
   "execution_count": 123,
   "id": "1a828a8d",
   "metadata": {},
   "outputs": [
    {
     "name": "stdout",
     "output_type": "stream",
     "text": [
      "Best accuracy (on testing dataset): 91.15%\n",
      "                 precision    recall  f1-score   support\n",
      "\n",
      "       arrowana     0.7269    0.8693    0.7918       199\n",
      "     betta_fish     0.8125    0.8571    0.8342       182\n",
      "common_goldfish     0.9827    0.9942    0.9884       342\n",
      "         luohan     0.8011    0.6558    0.7212       215\n",
      "         oranda     0.9985    0.9779    0.9881       678\n",
      "\n",
      "       accuracy                         0.9115      1616\n",
      "      macro avg     0.8643    0.8709    0.8647      1616\n",
      "   weighted avg     0.9145    0.9115    0.9111      1616\n",
      "\n"
     ]
    }
   ],
   "source": [
    "                                                                                # Step 1\n",
    "                                                                                # Step 2\n",
    "predout     = np.argmax(predicts,axis=1)\n",
    "testout     = np.argmax(y_val_bin,axis=1)\n",
    "\n",
    "testScores  = metrics.accuracy_score(testout,predout)                           # Step 3\n",
    "\n",
    "                                                                                # Step 4\n",
    "print(\"Best accuracy (on testing dataset): %.2f%%\" % (testScores*100))\n",
    "print(metrics.classification_report(testout,\n",
    "                                    predout,\n",
    "                                    target_names=class_names,\n",
    "                                    digits=4))\n",
    "\n",
    "report = metrics.classification_report(testout,\n",
    "                                    predout,\n",
    "                                    target_names=class_names,\n",
    "                                    digits=4,\n",
    "                                      output_dict=True)\n",
    "\n",
    "df = pd.DataFrame(report).transpose()\n",
    "df.to_csv(folderpath+modelname+'_report.csv')"
   ]
  },
  {
   "cell_type": "code",
   "execution_count": 124,
   "id": "42557859",
   "metadata": {},
   "outputs": [
    {
     "name": "stdout",
     "output_type": "stream",
     "text": [
      "1/1 [==============================] - 0s 61ms/step\n",
      "[0. 0. 1. 0. 0.]\n",
      "This image most likely belongs to common_goldfish with a 40.46 percent confidence.\n",
      "1/1 [==============================] - 0s 15ms/step\n",
      "[0. 1. 0. 0. 0.]\n",
      "This image most likely belongs to betta_fish with a 40.46 percent confidence.\n",
      "1/1 [==============================] - 0s 16ms/step\n",
      "[0. 0. 0. 1. 0.]\n",
      "This image most likely belongs to luohan with a 40.46 percent confidence.\n"
     ]
    }
   ],
   "source": [
    "# make predictions\n",
    "\n",
    "predict_new_image(\"validate/Screenshot 2022-09-08 210113.jpg\")\n",
    "predict_new_image(\"validate/0221faa8b79c4b2eb4dfee6f46912d74.jpg\")\n",
    "predict_new_image(\"validate/word-image.jpeg\")\n"
   ]
  }
 ],
 "metadata": {
  "kernelspec": {
   "display_name": "Python 3 (ipykernel)",
   "language": "python",
   "name": "python3"
  },
  "language_info": {
   "codemirror_mode": {
    "name": "ipython",
    "version": 3
   },
   "file_extension": ".py",
   "mimetype": "text/x-python",
   "name": "python",
   "nbconvert_exporter": "python",
   "pygments_lexer": "ipython3",
   "version": "3.9.13"
  }
 },
 "nbformat": 4,
 "nbformat_minor": 5
}
