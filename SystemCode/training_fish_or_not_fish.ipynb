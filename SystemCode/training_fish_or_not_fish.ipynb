{
 "cells": [
  {
   "cell_type": "markdown",
   "metadata": {
    "id": "dOQ-2xS_MYHi"
   },
   "source": [
    "## **1. Import the necessary libraries**\n",
    "---"
   ]
  },
  {
   "cell_type": "code",
   "execution_count": 31,
   "metadata": {
    "id": "yoi4gWDELtek"
   },
   "outputs": [
    {
     "name": "stdout",
     "output_type": "stream",
     "text": [
      "Versions of key libraries\n",
      "---\n",
      "tensorflow:  2.10.0\n",
      "numpy:       1.21.5\n",
      "matplotlib:  3.5.1\n",
      "sklearn:     1.0.2\n"
     ]
    }
   ],
   "source": [
    "import datetime\n",
    "import matplotlib\n",
    "import sklearn\n",
    "import numpy as np\n",
    "import pandas as pd\n",
    "import sklearn.metrics as metrics\n",
    "import matplotlib.pyplot as plt\n",
    "import tensorflow as tf\n",
    "import seaborn as sns\n",
    "import cv2\n",
    "import os\n",
    "\n",
    "from tensorflow.keras.callbacks import ModelCheckpoint,CSVLogger\n",
    "from tensorflow.keras.preprocessing.image import ImageDataGenerator\n",
    "from tensorflow.keras.models import Sequential\n",
    "from tensorflow.keras.layers import Dense\n",
    "from tensorflow.keras.layers import Dropout\n",
    "from tensorflow.keras.layers import Flatten\n",
    "from tensorflow.keras.layers import Conv2D\n",
    "from tensorflow.keras.layers import MaxPooling2D\n",
    "from tensorflow.keras.utils import to_categorical\n",
    "from tensorflow.keras.utils import plot_model\n",
    "from tensorflow.keras.datasets import cifar100\n",
    "from tensorflow.keras import optimizers\n",
    "from tensorflow.keras.regularizers import l1\n",
    "from tensorflow.keras.regularizers import l2\n",
    "from keras.models import load_model\n",
    "\n",
    "from sklearn.metrics import classification_report, confusion_matrix\n",
    "\n",
    "print(\"Versions of key libraries\")\n",
    "print(\"---\")\n",
    "print(\"tensorflow: \", tf.__version__)\n",
    "print(\"numpy:      \", np.__version__)\n",
    "print(\"matplotlib: \", matplotlib.__version__)\n",
    "print(\"sklearn:    \", sklearn.__version__)"
   ]
  },
  {
   "cell_type": "markdown",
   "metadata": {
    "id": "0amhwjZ4M2m-"
   },
   "source": [
    "## **2.Create a function to plot image without axis**\n",
    "---"
   ]
  },
  {
   "cell_type": "code",
   "execution_count": 32,
   "metadata": {
    "id": "OFxsBB1mNXl2"
   },
   "outputs": [
    {
     "name": "stdout",
     "output_type": "stream",
     "text": [
      "<function implt at 0x000001C0DE7E6AF0>\n"
     ]
    }
   ],
   "source": [
    "def implt(img):\n",
    "    plt.figure()\n",
    "    plt.imshow(img)\n",
    "    plt.axis('off')\n",
    "\n",
    "print(implt)\n",
    "\n",
    "x = datetime.datetime.now()\n",
    "filename = x.strftime(\"%Y\") + x.strftime(\"%m\") + x.strftime(\"%d\") + x.strftime(\"%H\") + x.strftime(\"%M\")"
   ]
  },
  {
   "cell_type": "markdown",
   "metadata": {
    "id": "X3N41iixORPz"
   },
   "source": [
    "## **3. Set matplotlib to have seaborn plot style**\n",
    "---"
   ]
  },
  {
   "cell_type": "code",
   "execution_count": 33,
   "metadata": {
    "id": "OyO5OsUrOYNQ"
   },
   "outputs": [
    {
     "name": "stdout",
     "output_type": "stream",
     "text": [
      "Matplotlib setup completes.\n"
     ]
    }
   ],
   "source": [
    "plt.style.use('seaborn')                   # if want to use the default style, set 'classic'\n",
    "plt.rcParams['ytick.right']     = True\n",
    "plt.rcParams['ytick.labelright']= True\n",
    "plt.rcParams['ytick.left']      = False\n",
    "plt.rcParams['ytick.labelleft'] = False\n",
    "plt.rcParams['figure.figsize']  = [7,7]   # Set the figure size to be 7 inch for (width,height)\n",
    "\n",
    "print(\"Matplotlib setup completes.\")"
   ]
  },
  {
   "cell_type": "markdown",
   "metadata": {},
   "source": [
    "# **4.1 Downsize original images (Optional)**"
   ]
  },
  {
   "cell_type": "code",
   "execution_count": 34,
   "metadata": {},
   "outputs": [],
   "source": [
    "image_size = 32\n",
    "\n",
    "def resize_image(source_data_dir):\n",
    "    data = []\n",
    "    \n",
    "    os.chdir(source_data_dir)\n",
    "    \n",
    "    for label in labels:\n",
    "        path = source_data_dir\n",
    "        \n",
    "        for image in os.listdir(path):\n",
    "            try:\n",
    "                # Convert BGR to RGB\n",
    "                image_array = cv2.imread(os.path.join(path, image))\n",
    "                # Resize image\n",
    "                resized_array = cv2.resize(image_array, (image_size, image_size))\n",
    "                cv2.imwrite(\"downsized_\" + image, resized_array)\n",
    "            except Exception as e:\n",
    "                print(e)"
   ]
  },
  {
   "cell_type": "code",
   "execution_count": 35,
   "metadata": {},
   "outputs": [],
   "source": [
    "# resize_image('C:\\\\Users\\\\jerem\\\\Downloads\\\\FishSpeciesImage-4KImageFor468Species\\\\Fish_Data\\\\images\\\\Downsized')\n",
    "# 'C:\\\\Users\\\\jerem\\\\VirtualBox VMs\\\\Ubuntu\\\\Shared\\\\IRS_Project\\\\GitHub\\\\PRMLS_Project\\\\SystemCode\\\\dataset\\\\FishOrNotFishReducedabc_2\\\\Test\\\\Fish')"
   ]
  },
  {
   "cell_type": "code",
   "execution_count": 36,
   "metadata": {},
   "outputs": [
    {
     "name": "stdout",
     "output_type": "stream",
     "text": [
      "C:\\Users\\jerem\\VirtualBox VMs\\Ubuntu\\Shared\\IRS_Project\\GitHub\\PRMLS_Project\\SystemCode\n"
     ]
    }
   ],
   "source": [
    "print(os.getcwd())"
   ]
  },
  {
   "cell_type": "markdown",
   "metadata": {
    "id": "5w2jAiKZOmgP"
   },
   "source": [
    "# **4.2 Prepare Fish Or Not Fish data for training and testing**"
   ]
  },
  {
   "cell_type": "code",
   "execution_count": 37,
   "metadata": {},
   "outputs": [],
   "source": [
    "labels = [\n",
    "    'Fish',\n",
    "    'NotFish'\n",
    "]\n",
    "\n",
    "# labels = [\n",
    "# '004_aquatic_fish_aquarium_fish',\n",
    "# '005_aquatic_fish_flatfish',\n",
    "# '006_aquatic_fish_ray',\n",
    "# '007_aquatic_fish_shark',\n",
    "# '008_aquatic_fish_trout',\n",
    "# '009_aquatic_mammals_beaver',\n",
    "# '010_aquatic_mammals_dolphin',\n",
    "# '011_aquatic_mammals_otter',\n",
    "# '012_aquatic_mammals_seal',\n",
    "# '013_aquatic_mammals_whale',\n",
    "# '014_flowers_orchid',\n",
    "# '015_flowers_poppy',\n",
    "# '016_flowers_rose',\n",
    "# '017_flowers_sunflower',\n",
    "# '018_flowers_tulip',\n",
    "# '019_food_containers_bottle',\n",
    "# '020_food_containers_bowl',\n",
    "# '021_food_containers_can',\n",
    "# '022_food_containers_cup',\n",
    "# '023_food_containers_plate',\n",
    "# '024_fruit_and_vegetables_apple',\n",
    "# '025_fruit_and_vegetables_mushroom',\n",
    "# '026_fruit_and_vegetables_orange',\n",
    "# '027_fruit_and_vegetables_pear',\n",
    "# '028_fruit_and_vegetables_sweet_pepper',\n",
    "# '029_household_electrical_devices_clock',\n",
    "# '030_household_electrical_devices_keyboard',\n",
    "# '031_household_electrical_devices_lamp',\n",
    "# '032_household_electrical_devices_telephone',\n",
    "# '033_household_electrical_devices_television',\n",
    "# '034_household_furniture_bed',\n",
    "# '035_household_furniture_chair',\n",
    "# '036_household_furniture_couch',\n",
    "# '037_household_furniture_table',\n",
    "# '038_household_furniture_wardrobe',\n",
    "# '039_insects_bee',\n",
    "# '040_insects_beetle',\n",
    "# '041_insects_butterfly',\n",
    "# '042_insects_caterpillar',\n",
    "# '043_insects_cockroach',\n",
    "# '044_large_carnivores_bear',\n",
    "# '045_large_carnivores_leopard',\n",
    "# '046_large_carnivores_lion',\n",
    "# '047_large_carnivores_tiger',\n",
    "# '048_large_carnivores_wolf',\n",
    "# '049_large_man_made_outdoor_things_bridge',\n",
    "# '050_large_man_made_outdoor_things_castle',\n",
    "# '051_large_man_made_outdoor_things_house',\n",
    "# '052_large_man_made_outdoor_things_road',\n",
    "# '053_large_man_made_outdoor_things_skyscraper',\n",
    "# '054_large_natural_outdoor_scenes_cloud',\n",
    "# '055_large_natural_outdoor_scenes_forest',\n",
    "# '056_large_natural_outdoor_scenes_mountain',\n",
    "# '057_large_natural_outdoor_scenes_plain',\n",
    "# '058_large_natural_outdoor_scenes_sea',\n",
    "# '059_large_omnivores_and_herbivores_camel',\n",
    "# '060_large_omnivores_and_herbivores_cattle',\n",
    "# '061_large_omnivores_and_herbivores_chimpanzee',\n",
    "# '062_large_omnivores_and_herbivores_elephant',\n",
    "# '063_large_omnivores_and_herbivores_kangaroo',\n",
    "# '064_medium_mammals_fox',\n",
    "# '065_medium_mammals_porcupine',\n",
    "# '066_medium_mammals_possum',\n",
    "# '067_medium_mammals_raccoon',\n",
    "# '068_medium_mammals_skunk',\n",
    "# '069_non_insect_invertebrates_crab',\n",
    "# '070_non_insect_invertebrates_lobster',\n",
    "# '071_non_insect_invertebrates_snail',\n",
    "# '072_non_insect_invertebrates_spider',\n",
    "# '073_non_insect_invertebrates_worm',\n",
    "# '074_people_baby',\n",
    "# '075_people_boy',\n",
    "# '076_people_girl',\n",
    "# '077_people_man',\n",
    "# '078_people_woman',\n",
    "# '079_reptiles_crocodile',\n",
    "# '080_reptiles_dinosaur',\n",
    "# '081_reptiles_lizard',\n",
    "# '082_reptiles_snake',\n",
    "# '083_reptiles_turtle',\n",
    "# '084_small_mammals_hamster',\n",
    "# '085_small_mammals_mouse',\n",
    "# '086_small_mammals_rabbit',\n",
    "# '087_small_mammals_shrew',\n",
    "# '088_small_mammals_squirrel',\n",
    "# '089_trees_maple_tree',\n",
    "# '090_trees_oak_tree',\n",
    "# '091_trees_palm_tree',\n",
    "# '092_trees_pine_tree',\n",
    "# '093_trees_willow_tree',\n",
    "# '094_vehicles_1_bicycle',\n",
    "# '095_vehicles_1_bus',\n",
    "# '096_vehicles_1_motorcycle',\n",
    "# '097_vehicles_1_pickup_truck',\n",
    "# '098_vehicles_1_train',\n",
    "# '099_vehicles_2_lawn_mower',\n",
    "# '100_vehicles_2_rocket',\n",
    "# '101_vehicles_2_streetcar',\n",
    "# '102_vehicles_2_tank',\n",
    "# '103_vehicles_2_tractor'    \n",
    "# ]"
   ]
  },
  {
   "cell_type": "code",
   "execution_count": 38,
   "metadata": {
    "id": "v3Ad2V0pO1TX"
   },
   "outputs": [
    {
     "name": "stderr",
     "output_type": "stream",
     "text": [
      "C:\\Users\\jerem\\AppData\\Local\\Temp\\ipykernel_38108\\506136676.py:31: VisibleDeprecationWarning: Creating an ndarray from ragged nested sequences (which is a list-or-tuple of lists-or-tuples-or ndarrays with different lengths or shapes) is deprecated. If you meant to do this, you must specify 'dtype=object' when creating the ndarray.\n",
      "  return np.array(data)\n"
     ]
    }
   ],
   "source": [
    "image_size = 64\n",
    "\n",
    "def get_data(data_dir):\n",
    "    data = []\n",
    "    \n",
    "    for label in labels:\n",
    "        path = os.path.join(data_dir, label)\n",
    "        class_number = labels.index(label)\n",
    "        \n",
    "        for image in os.listdir(path):\n",
    "            try:\n",
    "                # Convert BGR to RGB\n",
    "                image_array = cv2.imread(os.path.join(path, image))[...,::-1]\n",
    "                # Resize image\n",
    "                resized_array = cv2.resize(image_array, (image_size, image_size))\n",
    "                resized_array = resized_array / 255.0\n",
    "                \n",
    "#                 image = tf.keras.utils.load_img(os.path.join(path, image), target_size = None, keep_aspect_ratio = True)\n",
    "\n",
    "#                 resized_array = tf.keras.utils.img_to_array(image)\n",
    "#                 resized_array = tf.keras.preprocessing.image.smart_resize(resized_array, size = (image_size, image_size))\n",
    "#                 # resized_array = tf.expand_dims(image_array, 0)\n",
    "#                 resized_array = resized_array / 255.0\n",
    "                \n",
    "                data.append([resized_array, class_number])\n",
    "                \n",
    "            \n",
    "            except Exception as e:\n",
    "                print(e)\n",
    "                \n",
    "    return np.array(data)\n",
    "    \n",
    "# Fetch Train and Test Data\n",
    "train = get_data(\"C:\\\\Users\\\\jerem\\\\VirtualBox VMs\\\\Ubuntu\\\\Shared\\\\IRS_Project\\\\GitHub\\\\PRMLS_Project\\\\SystemCode\\\\dataset\\\\FishOrNotFishReduced_3_CifarMixed\\\\Train\")\n",
    "val = get_data(\"C:\\\\Users\\\\jerem\\\\VirtualBox VMs\\\\Ubuntu\\\\Shared\\\\IRS_Project\\\\GitHub\\\\PRMLS_Project\\\\SystemCode\\\\dataset\\\\FishOrNotFishReduced_3_CifarMixed\\\\Test\")"
   ]
  },
  {
   "cell_type": "code",
   "execution_count": 39,
   "metadata": {},
   "outputs": [
    {
     "name": "stdout",
     "output_type": "stream",
     "text": [
      "(9000, 2)\n"
     ]
    }
   ],
   "source": [
    "print(train.shape)"
   ]
  },
  {
   "cell_type": "code",
   "execution_count": 40,
   "metadata": {},
   "outputs": [],
   "source": [
    "l = []\n",
    "\n",
    "for i in train:\n",
    "    l.append(labels[i[1]])"
   ]
  },
  {
   "cell_type": "code",
   "execution_count": 41,
   "metadata": {},
   "outputs": [
    {
     "name": "stdout",
     "output_type": "stream",
     "text": [
      "9000\n"
     ]
    },
    {
     "name": "stderr",
     "output_type": "stream",
     "text": [
      "C:\\Users\\jerem\\anaconda3\\lib\\site-packages\\seaborn\\_decorators.py:36: FutureWarning: Pass the following variable as a keyword arg: x. From version 0.12, the only valid positional argument will be `data`, and passing other arguments without an explicit keyword will result in an error or misinterpretation.\n",
      "  warnings.warn(\n"
     ]
    },
    {
     "data": {
      "text/plain": [
       "<AxesSubplot:ylabel='count'>"
      ]
     },
     "execution_count": 41,
     "metadata": {},
     "output_type": "execute_result"
    },
    {
     "data": {
      "image/png": "[encoded data removed]",
      "text/plain": [
       "<Figure size 504x504 with 1 Axes>"
      ]
     },
     "metadata": {},
     "output_type": "display_data"
    }
   ],
   "source": [
    "print(len(l))\n",
    "\n",
    "sns.set_style('darkgrid')\n",
    "sns.countplot(l)"
   ]
  },
  {
   "cell_type": "code",
   "execution_count": 42,
   "metadata": {},
   "outputs": [
    {
     "data": {
      "text/plain": [
       "Text(0.5, 1.0, 'Fish')"
      ]
     },
     "execution_count": 42,
     "metadata": {},
     "output_type": "execute_result"
    },
    {
     "data": {
      "image/png": "[encoded data removed]",
      "text/plain": [
       "<Figure size 360x360 with 1 Axes>"
      ]
     },
     "metadata": {},
     "output_type": "display_data"
    }
   ],
   "source": [
    "plt.figure(figsize = (5, 5))\n",
    "plt.imshow(train[0][0])\n",
    "plt.title(labels[train[0][1]])"
   ]
  },
  {
   "cell_type": "code",
   "execution_count": 43,
   "metadata": {
    "scrolled": true
   },
   "outputs": [
    {
     "data": {
      "text/plain": [
       "Text(0.5, 1.0, 'NotFish')"
      ]
     },
     "execution_count": 43,
     "metadata": {},
     "output_type": "execute_result"
    },
    {
     "data": {
      "image/png": "[encoded data removed]",
      "text/plain": [
       "<Figure size 360x360 with 1 Axes>"
      ]
     },
     "metadata": {},
     "output_type": "display_data"
    }
   ],
   "source": [
    "plt.figure(figsize = (5, 5))\n",
    "plt.imshow(train[4500][0])\n",
    "plt.title(labels[train[4500][1]])"
   ]
  },
  {
   "cell_type": "markdown",
   "metadata": {
    "id": "DoP3WcoJW-jZ"
   },
   "source": [
    "## **5. Perform Pre-Processing and Augmentation**"
   ]
  },
  {
   "cell_type": "code",
   "execution_count": 44,
   "metadata": {},
   "outputs": [],
   "source": [
    "x_train = []\n",
    "y_train = []\n",
    "\n",
    "x_val = []\n",
    "y_val = []\n",
    "\n",
    "for feature, label in train:\n",
    "    x_train.append(feature)\n",
    "    y_train.append(label)\n",
    "    \n",
    "for feature, label in val:\n",
    "    x_val.append(feature)\n",
    "    y_val.append(label)"
   ]
  },
  {
   "cell_type": "code",
   "execution_count": 45,
   "metadata": {},
   "outputs": [],
   "source": [
    "# Convert to Numpy\n",
    "x_train = np.array(x_train)\n",
    "y_train = np.array(y_train)\n",
    "x_val = np.array(x_val)\n",
    "y_val = np.array(y_val)\n",
    "# Keras provides numpy utility library, which provides functions to perform actions on numpy arrays.\n",
    "# Using the method to_categorical(), a numpy array (or) a vector which has integers that represent\n",
    "# different categories, can be converted into a numpy array (or) a matrix which has binary values and\n",
    "# has columns equal to the number of categories in the data. (One Hot Encoding)\n",
    "y_train = to_categorical(y_train)\n",
    "y_val = to_categorical(y_val)"
   ]
  },
  {
   "cell_type": "code",
   "execution_count": 46,
   "metadata": {},
   "outputs": [
    {
     "name": "stdout",
     "output_type": "stream",
     "text": [
      "(9000, 64, 64, 3)\n",
      "(1800, 64, 64, 3)\n"
     ]
    }
   ],
   "source": [
    "print(x_train.shape)\n",
    "print(x_val.shape)\n"
   ]
  },
  {
   "cell_type": "code",
   "execution_count": 47,
   "metadata": {},
   "outputs": [
    {
     "name": "stdout",
     "output_type": "stream",
     "text": [
      "(9000, 2)\n",
      "(1800, 2)\n"
     ]
    }
   ],
   "source": [
    "print(y_train.shape)\n",
    "print(y_val.shape)"
   ]
  },
  {
   "cell_type": "code",
   "execution_count": 48,
   "metadata": {},
   "outputs": [],
   "source": [
    "datagen = ImageDataGenerator(\n",
    "        featurewise_center=False,  # set input mean to 0 over the dataset\n",
    "        samplewise_center=False,  # set each sample mean to 0\n",
    "        featurewise_std_normalization=False,  # divide inputs by std of the dataset\n",
    "        samplewise_std_normalization=False,  # divide each input by its std\n",
    "        zca_whitening=False,  # apply ZCA whitening\n",
    "        rotation_range = 30,  # randomly rotate images in the range (degrees, 0 to 180)\n",
    "        zoom_range = 0.2, # Randomly zoom image \n",
    "        width_shift_range=0.1,  # randomly shift images horizontally (fraction of total width)\n",
    "        height_shift_range=0.1,  # randomly shift images vertically (fraction of total height)\n",
    "        horizontal_flip = True,  # randomly flip images\n",
    "        vertical_flip=False)  # randomly flip images\n",
    "\n",
    "\n",
    "datagen.fit(x_train)"
   ]
  },
  {
   "cell_type": "markdown",
   "metadata": {},
   "source": [
    "## **6. Define the Model**"
   ]
  },
  {
   "cell_type": "code",
   "execution_count": 49,
   "metadata": {
    "id": "0HMOes0kXCPd",
    "scrolled": true
   },
   "outputs": [
    {
     "name": "stdout",
     "output_type": "stream",
     "text": [
      "Model: \"sequential_2\"\n",
      "_________________________________________________________________\n",
      " Layer (type)                Output Shape              Param #   \n",
      "=================================================================\n",
      " conv2d_12 (Conv2D)          (None, 64, 64, 32)        896       \n",
      "                                                                 \n",
      " max_pooling2d_12 (MaxPoolin  (None, 32, 32, 32)       0         \n",
      " g2D)                                                            \n",
      "                                                                 \n",
      " conv2d_13 (Conv2D)          (None, 32, 32, 64)        18496     \n",
      "                                                                 \n",
      " max_pooling2d_13 (MaxPoolin  (None, 16, 16, 64)       0         \n",
      " g2D)                                                            \n",
      "                                                                 \n",
      " conv2d_14 (Conv2D)          (None, 16, 16, 128)       73856     \n",
      "                                                                 \n",
      " max_pooling2d_14 (MaxPoolin  (None, 8, 8, 128)        0         \n",
      " g2D)                                                            \n",
      "                                                                 \n",
      " conv2d_15 (Conv2D)          (None, 8, 8, 256)         295168    \n",
      "                                                                 \n",
      " max_pooling2d_15 (MaxPoolin  (None, 4, 4, 256)        0         \n",
      " g2D)                                                            \n",
      "                                                                 \n",
      " conv2d_16 (Conv2D)          (None, 4, 4, 512)         1180160   \n",
      "                                                                 \n",
      " max_pooling2d_16 (MaxPoolin  (None, 2, 2, 512)        0         \n",
      " g2D)                                                            \n",
      "                                                                 \n",
      " conv2d_17 (Conv2D)          (None, 2, 2, 1024)        4719616   \n",
      "                                                                 \n",
      " max_pooling2d_17 (MaxPoolin  (None, 1, 1, 1024)       0         \n",
      " g2D)                                                            \n",
      "                                                                 \n",
      " dropout_6 (Dropout)         (None, 1, 1, 1024)        0         \n",
      "                                                                 \n",
      " flatten_2 (Flatten)         (None, 1024)              0         \n",
      "                                                                 \n",
      " dense_6 (Dense)             (None, 1024)              1049600   \n",
      "                                                                 \n",
      " dropout_7 (Dropout)         (None, 1024)              0         \n",
      "                                                                 \n",
      " dense_7 (Dense)             (None, 256)               262400    \n",
      "                                                                 \n",
      " dropout_8 (Dropout)         (None, 256)               0         \n",
      "                                                                 \n",
      " dense_8 (Dense)             (None, 2)                 514       \n",
      "                                                                 \n",
      "=================================================================\n",
      "Total params: 7,600,706\n",
      "Trainable params: 7,600,706\n",
      "Non-trainable params: 0\n",
      "_________________________________________________________________\n"
     ]
    }
   ],
   "source": [
    "seed = 29\n",
    "np.random.seed(seed)\n",
    "\n",
    "optmz       = optimizers.RMSprop(learning_rate=0.0001)                                     # Step 1\n",
    "modelname   = 'Hybrid_Cifar100'                                                          # Step 2\n",
    "\n",
    "image_height = image_size  \n",
    "image_width = image_size\n",
    "channel = 3\n",
    "                                                                                # Step 3\n",
    "def createModel():\n",
    "    model = Sequential()\n",
    "\n",
    "    model.add(Conv2D(32, (3, 3), padding = 'same', input_shape=(image_height, image_width, channel), kernel_initializer='he_normal', activation='relu'))\n",
    "    model.add(MaxPooling2D(pool_size=(2, 2)))\n",
    "    \n",
    "    model.add(Conv2D(64, (3, 3), padding = 'same', kernel_initializer = 'he_normal', kernel_regularizer = l2(0.001), activation = 'relu'))\n",
    "    model.add(MaxPooling2D(pool_size=(2, 2)))\n",
    "    \n",
    "    model.add(Conv2D(128, (3, 3), padding = 'same', kernel_initializer = 'he_normal', kernel_regularizer = l2(0.001), activation='relu'))\n",
    "    model.add(MaxPooling2D(pool_size=(2, 2)))\n",
    "    \n",
    "    model.add(Conv2D(256, (3, 3), padding = 'same', kernel_initializer = 'he_normal', kernel_regularizer = l2(0.001), activation='relu'))\n",
    "    model.add(MaxPooling2D(pool_size=(2, 2)))\n",
    "    \n",
    "    model.add(Conv2D(512, (3, 3), padding = 'same', kernel_initializer = 'he_normal', kernel_regularizer = l2(0.001), activation='relu'))\n",
    "    model.add(MaxPooling2D(pool_size=(2, 2)))\n",
    "\n",
    "    model.add(Conv2D(1024, (3, 3), padding = 'same', kernel_initializer = 'he_normal', kernel_regularizer = l2(0.001), activation='relu'))\n",
    "    model.add(MaxPooling2D(pool_size=(2, 2)))\n",
    "\n",
    "#     model.add(Conv2D(128, (3, 3), kernel_regularizer = l2(0.0001), input_shape = (image_height, image_width, channel), padding = 'same', activation = 'relu'))\n",
    "#     # model.add(Conv2D(128, (3, 3), padding = 'same', activation = 'relu'))\n",
    "#     model.add(MaxPooling2D(pool_size = (2, 2)))\n",
    "#     # model.add(Dropout(0.5))\n",
    "    \n",
    "#     model.add(Conv2D(256, (3, 3), kernel_regularizer = l2(0.0001), padding = 'same', activation = 'relu'))\n",
    "#     # model.add(Conv2D(256, (3, 3), padding = 'same', activation = 'relu'))\n",
    "#     model.add(MaxPooling2D(pool_size = (2, 2)))\n",
    "#     # model.add(Dropout(0.5))\n",
    "    \n",
    "#     model.add(Conv2D(512, (3, 3), kernel_regularizer = l2(0.0001), padding = 'same', activation = 'relu'))\n",
    "#     # model.add(Conv2D(512, (3, 3), activation = 'relu'))\n",
    "#     model.add(MaxPooling2D(pool_size = (2, 2)))\n",
    "#     # model.add(Dropout(0.5))\n",
    "\n",
    "    \n",
    "    \n",
    "#     model.add(Conv2D(256, (3, 3), kernel_regularizer = l2(0.0001), padding = 'same', activation = 'relu'))\n",
    "#     model.add(MaxPooling2D(pool_size = (2, 2)))\n",
    "#     model.add(Dropout(0.5))\n",
    "    \n",
    "#     model.add(Conv2D(512, (3, 3), kernel_regularizer = l2(0.0001), padding = 'same', activation = 'relu'))\n",
    "#     model.add(MaxPooling2D(pool_size = (2, 2)))\n",
    "#     model.add(Dropout(0.5))\n",
    "    \n",
    "#     model.add(Conv2D(1024, (3, 3), kernel_regularizer = l2(0.0001), padding = 'same', activation = 'relu'))\n",
    "#     model.add(MaxPooling2D(pool_size = (2, 2)))\n",
    "#     model.add(Dropout(0.5))\n",
    "    \n",
    "    model.add(Dropout(0.2))\n",
    "    model.add(Flatten())\n",
    "    model.add(Dense(1024, activation = 'relu'))\n",
    "    model.add(Dropout(0.2))\n",
    "    model.add(Dense(256, activation = 'relu'))\n",
    "    model.add(Dropout(0.2))\n",
    "#     model.add(Dense(100, activation = 'relu'))\n",
    "#     model.add(Dropout(0.5))\n",
    "    model.add(Dense(len(labels), activation = 'softmax'))\n",
    "\n",
    "    # model.compile(loss = 'binary_crossentropy', optimizer = optmz, metrics = ['accuracy'])\n",
    "    model.compile(loss = 'categorical_crossentropy', optimizer = optmz, metrics = ['accuracy'])\n",
    "    # model.compile(loss = tf.keras.losses.SparseCategoricalCrossentropy(from_logits = True), optimizer = optmz, metrics = ['accuracy'])\n",
    "\n",
    "    return model\n",
    "\n",
    "                                                                                # Step 4\n",
    "model       = createModel()   # This is meant for training\n",
    "modelGo     = createModel()   # This is used for final testing\n",
    "\n",
    "model.summary()                                                                 # Step 5"
   ]
  },
  {
   "cell_type": "markdown",
   "metadata": {
    "id": "DlquJEaFZxV9"
   },
   "source": [
    "\n",
    "\n",
    "## **7. Create the callbacks to be applied during training**\n",
    "---\n",
    "* Step 1: Create a callback to save the model from an epoch when validation accuracy is the highest\n",
    "* Step 2: Create a callback to save the training loss, training accuracy, validation loss and validation accuracy of each epoch into a csv file\n",
    "* Step 3: Put the two callbacks objects into a list"
   ]
  },
  {
   "cell_type": "code",
   "execution_count": 50,
   "metadata": {
    "id": "9-a1LSCbahKy",
    "scrolled": true
   },
   "outputs": [
    {
     "name": "stdout",
     "output_type": "stream",
     "text": [
      "Callbacks created:\n",
      "<keras.callbacks.ModelCheckpoint object at 0x000001BD6E3F86D0>\n",
      "<keras.callbacks.CSVLogger object at 0x000001BD6E3F8640>\n",
      "\n",
      "Path to model: C:\\Users\\jerem\\VirtualBox VMs\\Ubuntu\\Shared\\IRS_Project\\GitHub\\PRMLS_Project\\SystemCode\\models\\Hybrid_Cifar100_202210020043.hdf5\n",
      "Path to log:   C:\\Users\\jerem\\VirtualBox VMs\\Ubuntu\\Shared\\IRS_Project\\GitHub\\PRMLS_Project\\SystemCode\\models\\Hybrid_Cifar100_202210020043.csv\n"
     ]
    }
   ],
   "source": [
    "folderpath      = \"C:\\\\Users\\\\jerem\\\\VirtualBox VMs\\\\Ubuntu\\\\Shared\\\\IRS_Project\\\\GitHub\\\\PRMLS_Project\\\\SystemCode\\\\models\\\\\"# '/content/gdrive/My Drive/iss/prumls/colab/'\n",
    "filepath        = folderpath + modelname + \"_\" + filename + \".hdf5\"\n",
    "checkpoint      = ModelCheckpoint(filepath, \n",
    "                                  monitor='val_accuracy', \n",
    "                                  verbose=0, \n",
    "                                  save_best_only=True, \n",
    "                                  mode='max')\n",
    "\n",
    "csv_logger      = CSVLogger(folderpath + modelname + \"_\" + filename + \".csv\")                       # Step 2\n",
    "callbacks_list  = [checkpoint,csv_logger]                                       # Step 3\n",
    "\n",
    "print(\"Callbacks created:\")\n",
    "print(callbacks_list[0])\n",
    "print(callbacks_list[1])\n",
    "print('')\n",
    "print(\"Path to model:\", filepath)\n",
    "print(\"Path to log:  \", folderpath + modelname + \"_\" + filename + \".csv\")"
   ]
  },
  {
   "cell_type": "markdown",
   "metadata": {
    "id": "1mKgjQsmfOBz"
   },
   "source": [
    "## **8. Train the deep learning model**\n",
    "___"
   ]
  },
  {
   "cell_type": "code",
   "execution_count": 51,
   "metadata": {
    "id": "23lUNwpGfV0A",
    "scrolled": true
   },
   "outputs": [
    {
     "name": "stdout",
     "output_type": "stream",
     "text": [
      "Epoch 1/100\n",
      "141/141 [==============================] - 4s 21ms/step - loss: 3.9921 - accuracy: 0.6380 - val_loss: 3.3494 - val_accuracy: 0.7183\n",
      "Epoch 2/100\n",
      "141/141 [==============================] - 2s 16ms/step - loss: 2.9699 - accuracy: 0.7372 - val_loss: 2.6508 - val_accuracy: 0.7494\n",
      "Epoch 3/100\n",
      "141/141 [==============================] - 2s 16ms/step - loss: 2.3961 - accuracy: 0.7870 - val_loss: 2.1781 - val_accuracy: 0.8161\n",
      "Epoch 4/100\n",
      "141/141 [==============================] - 2s 16ms/step - loss: 2.0474 - accuracy: 0.8214 - val_loss: 1.9141 - val_accuracy: 0.8389\n",
      "Epoch 5/100\n",
      "141/141 [==============================] - 2s 16ms/step - loss: 1.8191 - accuracy: 0.8442 - val_loss: 1.7329 - val_accuracy: 0.8528\n",
      "Epoch 6/100\n",
      "141/141 [==============================] - 2s 15ms/step - loss: 1.6498 - accuracy: 0.8617 - val_loss: 1.7573 - val_accuracy: 0.7844\n",
      "Epoch 7/100\n",
      "141/141 [==============================] - 2s 15ms/step - loss: 1.5204 - accuracy: 0.8800 - val_loss: 1.5801 - val_accuracy: 0.8422\n",
      "Epoch 8/100\n",
      "141/141 [==============================] - 2s 15ms/step - loss: 1.4120 - accuracy: 0.8988 - val_loss: 1.5443 - val_accuracy: 0.8444\n",
      "Epoch 9/100\n",
      "141/141 [==============================] - 2s 16ms/step - loss: 1.3283 - accuracy: 0.9119 - val_loss: 1.5062 - val_accuracy: 0.8300\n",
      "Epoch 10/100\n",
      "141/141 [==============================] - 2s 16ms/step - loss: 1.2576 - accuracy: 0.9283 - val_loss: 1.5620 - val_accuracy: 0.8328\n",
      "Epoch 11/100\n",
      "141/141 [==============================] - 2s 16ms/step - loss: 1.1953 - accuracy: 0.9399 - val_loss: 1.4535 - val_accuracy: 0.8372\n",
      "Epoch 12/100\n",
      "141/141 [==============================] - 2s 15ms/step - loss: 1.1365 - accuracy: 0.9519 - val_loss: 1.5743 - val_accuracy: 0.8283\n",
      "Epoch 13/100\n",
      "141/141 [==============================] - 2s 16ms/step - loss: 1.0980 - accuracy: 0.9587 - val_loss: 1.4781 - val_accuracy: 0.8444\n",
      "Epoch 14/100\n",
      "141/141 [==============================] - 2s 16ms/step - loss: 1.0525 - accuracy: 0.9659 - val_loss: 1.5107 - val_accuracy: 0.8394\n",
      "Epoch 15/100\n",
      "141/141 [==============================] - 2s 15ms/step - loss: 1.0224 - accuracy: 0.9669 - val_loss: 1.4989 - val_accuracy: 0.8350\n",
      "Epoch 16/100\n",
      "141/141 [==============================] - 2s 16ms/step - loss: 0.9955 - accuracy: 0.9693 - val_loss: 1.4794 - val_accuracy: 0.8400\n",
      "Epoch 17/100\n",
      "141/141 [==============================] - 2s 16ms/step - loss: 0.9574 - accuracy: 0.9774 - val_loss: 1.9900 - val_accuracy: 0.7817\n",
      "Epoch 18/100\n",
      "141/141 [==============================] - 2s 16ms/step - loss: 0.9408 - accuracy: 0.9756 - val_loss: 1.5260 - val_accuracy: 0.8400\n",
      "Epoch 19/100\n",
      "141/141 [==============================] - 2s 16ms/step - loss: 0.9204 - accuracy: 0.9767 - val_loss: 1.4171 - val_accuracy: 0.8478\n",
      "Epoch 20/100\n",
      "141/141 [==============================] - 2s 16ms/step - loss: 0.8953 - accuracy: 0.9822 - val_loss: 1.5187 - val_accuracy: 0.8461\n",
      "Epoch 21/100\n",
      "141/141 [==============================] - 2s 16ms/step - loss: 0.8838 - accuracy: 0.9786 - val_loss: 1.4206 - val_accuracy: 0.8494\n",
      "Epoch 22/100\n",
      "141/141 [==============================] - 2s 16ms/step - loss: 0.8561 - accuracy: 0.9836 - val_loss: 1.4809 - val_accuracy: 0.8533\n",
      "Epoch 23/100\n",
      "141/141 [==============================] - 2s 15ms/step - loss: 0.8408 - accuracy: 0.9824 - val_loss: 1.5644 - val_accuracy: 0.8228\n",
      "Epoch 24/100\n",
      "141/141 [==============================] - 2s 16ms/step - loss: 0.8227 - accuracy: 0.9836 - val_loss: 1.4627 - val_accuracy: 0.8461\n",
      "Epoch 25/100\n",
      "141/141 [==============================] - 2s 16ms/step - loss: 0.7989 - accuracy: 0.9879 - val_loss: 1.4524 - val_accuracy: 0.8461\n",
      "Epoch 26/100\n",
      "141/141 [==============================] - 2s 16ms/step - loss: 0.7847 - accuracy: 0.9866 - val_loss: 1.4151 - val_accuracy: 0.8472\n",
      "Epoch 27/100\n",
      "141/141 [==============================] - 2s 16ms/step - loss: 0.7686 - accuracy: 0.9858 - val_loss: 1.4579 - val_accuracy: 0.8367\n",
      "Epoch 28/100\n",
      "141/141 [==============================] - 2s 15ms/step - loss: 0.7611 - accuracy: 0.9849 - val_loss: 1.5125 - val_accuracy: 0.8267\n",
      "Epoch 29/100\n",
      "141/141 [==============================] - 2s 16ms/step - loss: 0.7442 - accuracy: 0.9854 - val_loss: 1.4384 - val_accuracy: 0.8500\n",
      "Epoch 30/100\n",
      "141/141 [==============================] - 2s 16ms/step - loss: 0.7314 - accuracy: 0.9866 - val_loss: 1.6182 - val_accuracy: 0.8256\n",
      "Epoch 31/100\n",
      "141/141 [==============================] - 2s 16ms/step - loss: 0.7208 - accuracy: 0.9856 - val_loss: 1.4305 - val_accuracy: 0.8450\n",
      "Epoch 32/100\n",
      "141/141 [==============================] - 2s 16ms/step - loss: 0.7064 - accuracy: 0.9878 - val_loss: 1.5747 - val_accuracy: 0.8350\n",
      "Epoch 33/100\n",
      "141/141 [==============================] - 2s 16ms/step - loss: 0.6974 - accuracy: 0.9857 - val_loss: 1.8719 - val_accuracy: 0.7772\n",
      "Epoch 34/100\n",
      "141/141 [==============================] - 2s 16ms/step - loss: 0.6855 - accuracy: 0.9878 - val_loss: 1.4484 - val_accuracy: 0.8178\n",
      "Epoch 35/100\n",
      "141/141 [==============================] - 2s 16ms/step - loss: 0.6725 - accuracy: 0.9876 - val_loss: 1.4498 - val_accuracy: 0.8444\n",
      "Epoch 36/100\n",
      "141/141 [==============================] - 2s 16ms/step - loss: 0.6574 - accuracy: 0.9901 - val_loss: 1.5789 - val_accuracy: 0.7733\n",
      "Epoch 37/100\n",
      "141/141 [==============================] - 2s 16ms/step - loss: 0.6467 - accuracy: 0.9900 - val_loss: 1.4252 - val_accuracy: 0.8261\n",
      "Epoch 38/100\n",
      "141/141 [==============================] - 2s 16ms/step - loss: 0.6348 - accuracy: 0.9897 - val_loss: 1.4353 - val_accuracy: 0.8339\n",
      "Epoch 39/100\n",
      "141/141 [==============================] - 2s 16ms/step - loss: 0.6263 - accuracy: 0.9897 - val_loss: 1.4475 - val_accuracy: 0.8344\n",
      "Epoch 40/100\n",
      "141/141 [==============================] - 2s 16ms/step - loss: 0.6167 - accuracy: 0.9916 - val_loss: 1.4712 - val_accuracy: 0.8444\n",
      "Epoch 41/100\n",
      "141/141 [==============================] - 2s 16ms/step - loss: 0.6113 - accuracy: 0.9899 - val_loss: 1.4530 - val_accuracy: 0.8428\n",
      "Epoch 42/100\n",
      "141/141 [==============================] - 2s 16ms/step - loss: 0.5957 - accuracy: 0.9912 - val_loss: 1.4430 - val_accuracy: 0.8356\n",
      "Epoch 43/100\n",
      "141/141 [==============================] - 2s 16ms/step - loss: 0.5898 - accuracy: 0.9904 - val_loss: 1.3273 - val_accuracy: 0.8506\n",
      "Epoch 44/100\n",
      "141/141 [==============================] - 2s 16ms/step - loss: 0.5815 - accuracy: 0.9906 - val_loss: 1.5589 - val_accuracy: 0.8033\n",
      "Epoch 45/100\n",
      "141/141 [==============================] - 2s 16ms/step - loss: 0.5716 - accuracy: 0.9914 - val_loss: 1.3323 - val_accuracy: 0.8250\n",
      "Epoch 46/100\n",
      "141/141 [==============================] - 2s 16ms/step - loss: 0.5681 - accuracy: 0.9902 - val_loss: 1.5175 - val_accuracy: 0.8361\n",
      "Epoch 47/100\n",
      "141/141 [==============================] - 2s 16ms/step - loss: 0.5530 - accuracy: 0.9920 - val_loss: 1.3356 - val_accuracy: 0.8356\n",
      "Epoch 48/100\n",
      "141/141 [==============================] - 2s 16ms/step - loss: 0.5467 - accuracy: 0.9908 - val_loss: 1.4600 - val_accuracy: 0.8506\n",
      "Epoch 49/100\n",
      "141/141 [==============================] - 2s 16ms/step - loss: 0.5456 - accuracy: 0.9899 - val_loss: 1.2647 - val_accuracy: 0.8367\n",
      "Epoch 50/100\n",
      "141/141 [==============================] - 2s 16ms/step - loss: 0.5345 - accuracy: 0.9916 - val_loss: 1.3824 - val_accuracy: 0.8544\n",
      "Epoch 51/100\n",
      "141/141 [==============================] - 2s 16ms/step - loss: 0.5304 - accuracy: 0.9906 - val_loss: 1.2659 - val_accuracy: 0.8500\n",
      "Epoch 52/100\n",
      "141/141 [==============================] - 2s 16ms/step - loss: 0.5156 - accuracy: 0.9923 - val_loss: 1.3116 - val_accuracy: 0.8383\n",
      "Epoch 53/100\n",
      "141/141 [==============================] - 2s 16ms/step - loss: 0.5115 - accuracy: 0.9906 - val_loss: 1.3537 - val_accuracy: 0.8433\n",
      "Epoch 54/100\n",
      "141/141 [==============================] - 2s 16ms/step - loss: 0.5030 - accuracy: 0.9914 - val_loss: 1.2993 - val_accuracy: 0.8433\n",
      "Epoch 55/100\n",
      "141/141 [==============================] - 2s 16ms/step - loss: 0.4984 - accuracy: 0.9923 - val_loss: 1.3427 - val_accuracy: 0.8317\n",
      "Epoch 56/100\n",
      "141/141 [==============================] - 2s 16ms/step - loss: 0.4946 - accuracy: 0.9909 - val_loss: 1.2298 - val_accuracy: 0.8389\n",
      "Epoch 57/100\n"
     ]
    },
    {
     "name": "stdout",
     "output_type": "stream",
     "text": [
      "141/141 [==============================] - 2s 15ms/step - loss: 0.4783 - accuracy: 0.9937 - val_loss: 1.5843 - val_accuracy: 0.8433\n",
      "Epoch 58/100\n",
      "141/141 [==============================] - 2s 15ms/step - loss: 0.4803 - accuracy: 0.9920 - val_loss: 1.3227 - val_accuracy: 0.8378\n",
      "Epoch 59/100\n",
      "141/141 [==============================] - 2s 15ms/step - loss: 0.4735 - accuracy: 0.9909 - val_loss: 1.3959 - val_accuracy: 0.8256\n",
      "Epoch 60/100\n",
      "141/141 [==============================] - 2s 15ms/step - loss: 0.4662 - accuracy: 0.9923 - val_loss: 1.3261 - val_accuracy: 0.8439\n",
      "Epoch 61/100\n",
      "141/141 [==============================] - 2s 15ms/step - loss: 0.4640 - accuracy: 0.9923 - val_loss: 1.3479 - val_accuracy: 0.8211\n",
      "Epoch 62/100\n",
      "141/141 [==============================] - 2s 15ms/step - loss: 0.4528 - accuracy: 0.9934 - val_loss: 1.2241 - val_accuracy: 0.8450\n",
      "Epoch 63/100\n",
      "141/141 [==============================] - 2s 15ms/step - loss: 0.4481 - accuracy: 0.9937 - val_loss: 1.2552 - val_accuracy: 0.8489\n",
      "Epoch 64/100\n",
      "141/141 [==============================] - 2s 16ms/step - loss: 0.4479 - accuracy: 0.9913 - val_loss: 1.1449 - val_accuracy: 0.8428\n",
      "Epoch 65/100\n",
      "141/141 [==============================] - 2s 16ms/step - loss: 0.4394 - accuracy: 0.9937 - val_loss: 1.2541 - val_accuracy: 0.8472\n",
      "Epoch 66/100\n",
      "141/141 [==============================] - 2s 16ms/step - loss: 0.4317 - accuracy: 0.9937 - val_loss: 1.3834 - val_accuracy: 0.8433\n",
      "Epoch 67/100\n",
      "141/141 [==============================] - 2s 15ms/step - loss: 0.4329 - accuracy: 0.9931 - val_loss: 1.2940 - val_accuracy: 0.8394\n",
      "Epoch 68/100\n",
      "141/141 [==============================] - 2s 16ms/step - loss: 0.4225 - accuracy: 0.9932 - val_loss: 1.4224 - val_accuracy: 0.8206\n",
      "Epoch 69/100\n",
      "141/141 [==============================] - 2s 16ms/step - loss: 0.4163 - accuracy: 0.9939 - val_loss: 1.3792 - val_accuracy: 0.8417\n",
      "Epoch 70/100\n",
      "141/141 [==============================] - 2s 16ms/step - loss: 0.4112 - accuracy: 0.9943 - val_loss: 1.2203 - val_accuracy: 0.8572\n",
      "Epoch 71/100\n",
      "141/141 [==============================] - 2s 16ms/step - loss: 0.4100 - accuracy: 0.9933 - val_loss: 1.5363 - val_accuracy: 0.8350\n",
      "Epoch 72/100\n",
      "141/141 [==============================] - 2s 16ms/step - loss: 0.4052 - accuracy: 0.9920 - val_loss: 1.1898 - val_accuracy: 0.8389\n",
      "Epoch 73/100\n",
      "141/141 [==============================] - 2s 16ms/step - loss: 0.3999 - accuracy: 0.9936 - val_loss: 1.2727 - val_accuracy: 0.8522\n",
      "Epoch 74/100\n",
      "141/141 [==============================] - 2s 16ms/step - loss: 0.3944 - accuracy: 0.9933 - val_loss: 1.3122 - val_accuracy: 0.8394\n",
      "Epoch 75/100\n",
      "141/141 [==============================] - 2s 16ms/step - loss: 0.3898 - accuracy: 0.9932 - val_loss: 1.2922 - val_accuracy: 0.8389\n",
      "Epoch 76/100\n",
      "141/141 [==============================] - 2s 16ms/step - loss: 0.3850 - accuracy: 0.9948 - val_loss: 1.3422 - val_accuracy: 0.8428\n",
      "Epoch 77/100\n",
      "141/141 [==============================] - 2s 16ms/step - loss: 0.3808 - accuracy: 0.9936 - val_loss: 1.3259 - val_accuracy: 0.8411\n",
      "Epoch 78/100\n",
      "141/141 [==============================] - 2s 16ms/step - loss: 0.3779 - accuracy: 0.9933 - val_loss: 1.3249 - val_accuracy: 0.8494\n",
      "Epoch 79/100\n",
      "141/141 [==============================] - 2s 16ms/step - loss: 0.3741 - accuracy: 0.9934 - val_loss: 1.2557 - val_accuracy: 0.8400\n",
      "Epoch 80/100\n",
      "141/141 [==============================] - 2s 16ms/step - loss: 0.3689 - accuracy: 0.9934 - val_loss: 1.2672 - val_accuracy: 0.8478\n",
      "Epoch 81/100\n",
      "141/141 [==============================] - 2s 16ms/step - loss: 0.3627 - accuracy: 0.9951 - val_loss: 1.5540 - val_accuracy: 0.8439\n",
      "Epoch 82/100\n",
      "141/141 [==============================] - 2s 16ms/step - loss: 0.3626 - accuracy: 0.9938 - val_loss: 1.2183 - val_accuracy: 0.8472\n",
      "Epoch 83/100\n",
      "141/141 [==============================] - 2s 16ms/step - loss: 0.3602 - accuracy: 0.9934 - val_loss: 1.3367 - val_accuracy: 0.8483\n",
      "Epoch 84/100\n",
      "141/141 [==============================] - 2s 16ms/step - loss: 0.3557 - accuracy: 0.9940 - val_loss: 1.2716 - val_accuracy: 0.8456\n",
      "Epoch 85/100\n",
      "141/141 [==============================] - 2s 16ms/step - loss: 0.3546 - accuracy: 0.9940 - val_loss: 1.5761 - val_accuracy: 0.7978\n",
      "Epoch 86/100\n",
      "141/141 [==============================] - 2s 16ms/step - loss: 0.3546 - accuracy: 0.9934 - val_loss: 1.2328 - val_accuracy: 0.8372\n",
      "Epoch 87/100\n",
      "141/141 [==============================] - 2s 16ms/step - loss: 0.3431 - accuracy: 0.9942 - val_loss: 1.2114 - val_accuracy: 0.8472\n",
      "Epoch 88/100\n",
      "141/141 [==============================] - 2s 16ms/step - loss: 0.3404 - accuracy: 0.9950 - val_loss: 1.1721 - val_accuracy: 0.8456\n",
      "Epoch 89/100\n",
      "141/141 [==============================] - 2s 16ms/step - loss: 0.3365 - accuracy: 0.9937 - val_loss: 1.2893 - val_accuracy: 0.8500\n",
      "Epoch 90/100\n",
      "141/141 [==============================] - 2s 16ms/step - loss: 0.3325 - accuracy: 0.9941 - val_loss: 1.2540 - val_accuracy: 0.8383\n",
      "Epoch 91/100\n",
      "141/141 [==============================] - 2s 16ms/step - loss: 0.3302 - accuracy: 0.9946 - val_loss: 1.3701 - val_accuracy: 0.8494\n",
      "Epoch 92/100\n",
      "141/141 [==============================] - 2s 16ms/step - loss: 0.3270 - accuracy: 0.9940 - val_loss: 1.2675 - val_accuracy: 0.8361\n",
      "Epoch 93/100\n",
      "141/141 [==============================] - 2s 16ms/step - loss: 0.3270 - accuracy: 0.9926 - val_loss: 1.0928 - val_accuracy: 0.8589\n",
      "Epoch 94/100\n",
      "141/141 [==============================] - 2s 16ms/step - loss: 0.3212 - accuracy: 0.9957 - val_loss: 1.2370 - val_accuracy: 0.8467\n",
      "Epoch 95/100\n",
      "141/141 [==============================] - 2s 16ms/step - loss: 0.3232 - accuracy: 0.9923 - val_loss: 1.1960 - val_accuracy: 0.8394\n",
      "Epoch 96/100\n",
      "141/141 [==============================] - 2s 16ms/step - loss: 0.3139 - accuracy: 0.9946 - val_loss: 1.8046 - val_accuracy: 0.7961\n",
      "Epoch 97/100\n",
      "141/141 [==============================] - 2s 16ms/step - loss: 0.3122 - accuracy: 0.9947 - val_loss: 1.3483 - val_accuracy: 0.8272\n",
      "Epoch 98/100\n",
      "141/141 [==============================] - 2s 16ms/step - loss: 0.3083 - accuracy: 0.9941 - val_loss: 1.3803 - val_accuracy: 0.8383\n",
      "Epoch 99/100\n",
      "141/141 [==============================] - 2s 16ms/step - loss: 0.3047 - accuracy: 0.9946 - val_loss: 1.3412 - val_accuracy: 0.8394\n",
      "Epoch 100/100\n",
      "141/141 [==============================] - 2s 16ms/step - loss: 0.3019 - accuracy: 0.9944 - val_loss: 1.1824 - val_accuracy: 0.8517\n"
     ]
    }
   ],
   "source": [
    "history = model.fit(x_train,                            # Training data\n",
    "          y_train,                            # Training label\n",
    "          validation_data = (x_val, y_val),   # Validation data and label\n",
    "          epochs = 100,                       # The amount of epochs to be trained\n",
    "          batch_size = 64,                   \n",
    "          shuffle = True,                     # To shuffle the training data\n",
    "          callbacks = callbacks_list)         # Callbacks to execute the checkpoints"
   ]
  },
  {
   "cell_type": "markdown",
   "metadata": {},
   "source": [
    "## **9. Evaluate Results**\n",
    "---"
   ]
  },
  {
   "cell_type": "code",
   "execution_count": 52,
   "metadata": {},
   "outputs": [
    {
     "data": {
      "image/png": "[encoded data removed]",
      "text/plain": [
       "<Figure size 1080x1080 with 2 Axes>"
      ]
     },
     "metadata": {},
     "output_type": "display_data"
    }
   ],
   "source": [
    "acc = history.history['accuracy']\n",
    "val_acc = history.history['val_accuracy']\n",
    "loss = history.history['loss']\n",
    "val_loss = history.history['val_loss']\n",
    "\n",
    "epochs_range = range(100)\n",
    "\n",
    "plt.figure(figsize=(15, 15))\n",
    "plt.subplot(2, 2, 1)\n",
    "plt.plot(epochs_range, acc, label = 'Training Accuracy')\n",
    "plt.plot(epochs_range, val_acc, label = 'Validation Accuracy')\n",
    "plt.legend(loc = 'lower right')\n",
    "plt.title('Training and Validation Accuracy')\n",
    "\n",
    "plt.subplot(2, 2, 2)\n",
    "plt.plot(epochs_range, loss, label = 'Training Loss')\n",
    "plt.plot(epochs_range, val_loss, label = 'Validation Loss')\n",
    "plt.legend(loc = 'upper right')\n",
    "plt.title('Training and Validation Loss')\n",
    "plt.show()\n"
   ]
  },
  {
   "cell_type": "markdown",
   "metadata": {
    "id": "0aOCUljp5qq4"
   },
   "source": [
    "## **10. Review classification metrics**\n",
    "---\n"
   ]
  },
  {
   "cell_type": "code",
   "execution_count": 53,
   "metadata": {},
   "outputs": [
    {
     "name": "stdout",
     "output_type": "stream",
     "text": [
      "(1800, 64, 64, 3)\n",
      "(1800, 2)\n"
     ]
    }
   ],
   "source": [
    "print(x_val.shape)\n",
    "print(y_val.shape)"
   ]
  },
  {
   "cell_type": "code",
   "execution_count": 54,
   "metadata": {
    "id": "2tI4hBmk5uRh"
   },
   "outputs": [
    {
     "name": "stdout",
     "output_type": "stream",
     "text": [
      "57/57 [==============================] - 0s 7ms/step\n",
      "Prediction completes.\n"
     ]
    }
   ],
   "source": [
    "modelGo.load_weights(filepath)\n",
    "modelGo.compile(loss = 'categorical_crossentropy', \n",
    "                optimizer = optmz, \n",
    "                metrics=['accuracy'])\n",
    "\n",
    "predicts = modelGo.predict(x_val)\n",
    "print(\"Prediction completes.\")"
   ]
  },
  {
   "cell_type": "code",
   "execution_count": 55,
   "metadata": {},
   "outputs": [
    {
     "name": "stdout",
     "output_type": "stream",
     "text": [
      "(1800, 2)\n"
     ]
    }
   ],
   "source": [
    "print(predicts.shape)"
   ]
  },
  {
   "cell_type": "code",
   "execution_count": 56,
   "metadata": {},
   "outputs": [
    {
     "name": "stdout",
     "output_type": "stream",
     "text": [
      "Best accuracy (on testing dataset): 85.89%\n",
      "              precision    recall  f1-score   support\n",
      "\n",
      "        Fish     0.8696    0.8444    0.8568       900\n",
      "     NotFish     0.8488    0.8733    0.8609       900\n",
      "\n",
      "    accuracy                         0.8589      1800\n",
      "   macro avg     0.8592    0.8589    0.8589      1800\n",
      "weighted avg     0.8592    0.8589    0.8589      1800\n",
      "\n"
     ]
    }
   ],
   "source": [
    "predout     = np.argmax(predicts, axis = 1)\n",
    "testout     = np.argmax(y_val, axis = 1)\n",
    "\n",
    "testScores  = metrics.accuracy_score(testout, predout)                           # Step 3\n",
    "                                                                                # Step 4\n",
    "print(\"Best accuracy (on testing dataset): %.2f%%\" % (testScores*100))\n",
    "print(metrics.classification_report(testout,\n",
    "                                    predout,\n",
    "                                    target_names = labels,\n",
    "                                    digits = 4))\n",
    "\n",
    "report = metrics.classification_report(testout,\n",
    "                                    predout,\n",
    "                                    target_names = labels,\n",
    "                                    digits=4,\n",
    "                                      output_dict=True)\n",
    "\n",
    "df = pd.DataFrame(report).transpose()\n",
    "df.to_csv(folderpath + modelname + '_report.csv')"
   ]
  },
  {
   "cell_type": "markdown",
   "metadata": {
    "id": "PWoTz-bLug3X"
   },
   "source": [
    "## **13. Save the model plot**\n",
    "---"
   ]
  },
  {
   "cell_type": "code",
   "execution_count": 57,
   "metadata": {
    "id": "Tz1YfuV1ujcE"
   },
   "outputs": [
    {
     "name": "stdout",
     "output_type": "stream",
     "text": [
      "Path to plot: C:\\Users\\jerem\\VirtualBox VMs\\Ubuntu\\Shared\\IRS_Project\\GitHub\\PRMLS_Project\\SystemCode\\models\\Hybrid_Cifar100_202210020043_plot.png\n"
     ]
    }
   ],
   "source": [
    "plotpath  = folderpath + modelname + \"_\" + filename + '_plot.png'\n",
    "plot_model(model, \n",
    "           to_file=plotpath, \n",
    "           show_shapes=True, \n",
    "           show_layer_names=False,\n",
    "           rankdir='TB')\n",
    "\n",
    "print(\"Path to plot:\", plotpath)"
   ]
  },
  {
   "cell_type": "code",
   "execution_count": 288,
   "metadata": {},
   "outputs": [],
   "source": [
    "##############################################################################################################################\n",
    "##############################################################################################################################\n",
    "##############################################################################################################################\n",
    "##############################################################################################################################\n",
    "##############################################################################################################################\n",
    "##############################################################################################################################\n",
    "##############################################################################################################################"
   ]
  },
  {
   "cell_type": "code",
   "execution_count": 58,
   "metadata": {},
   "outputs": [],
   "source": [
    "# Good Models\n",
    "# Hybrid_Cifar100_202210012330\n",
    "# Hybrid_Cifar100_202210020043 (Cifar_Mixed_3)\n",
    "# model_file = filepath\n",
    "model_file = \"C:\\\\Users\\\\jerem\\\\VirtualBox VMs\\\\Ubuntu\\\\Shared\\\\IRS_Project\\\\GitHub\\\\PRMLS_Project\\\\SystemCode\\\\models\\\\Hybrid_Cifar100_202210020043.hdf5\"\n",
    "\n",
    "image_height = image_size\n",
    "image_width = image_size\n",
    "\n",
    "def predict_new_image(image):\n",
    "    image_name = image\n",
    "    \n",
    "    image = tf.keras.utils.load_img(image, target_size = None, keep_aspect_ratio = True)\n",
    "    \n",
    "    image_array = tf.keras.utils.img_to_array(image)\n",
    "    image_array = tf.keras.preprocessing.image.smart_resize(image_array, size = (image_height, image_width))\n",
    "    image_array = tf.expand_dims(image_array, 0)\n",
    "    image_array = image_array / 255.0\n",
    "    \n",
    "    saved_model = load_model(model_file)\n",
    "    \n",
    "    predictions = saved_model.predict(image_array)\n",
    "    score = tf.nn.softmax(predictions[0])\n",
    "    \n",
    "    print(image_name, \n",
    "        \" most likely belongs to {} with a {:.2f} percent confidence.\"\n",
    "        .format(labels[np.argmax(score)], 100 * np.max(score))\n",
    "    )"
   ]
  },
  {
   "cell_type": "code",
   "execution_count": 59,
   "metadata": {
    "scrolled": true
   },
   "outputs": [
    {
     "name": "stdout",
     "output_type": "stream",
     "text": [
      "1/1 [==============================] - 0s 359ms/step\n",
      "validate/jeremy.jpg  most likely belongs to NotFish with a 73.11 percent confidence.\n",
      "1/1 [==============================] - 0s 87ms/step\n",
      "validate/tree.jpg  most likely belongs to NotFish with a 72.82 percent confidence.\n",
      "1/1 [==============================] - 0s 99ms/step\n",
      "validate/fish.jpg  most likely belongs to Fish with a 73.11 percent confidence.\n",
      "1/1 [==============================] - 0s 86ms/step\n",
      "validate/cockroach.jpg  most likely belongs to NotFish with a 73.01 percent confidence.\n",
      "1/1 [==============================] - 0s 82ms/step\n",
      "validate/starfish.jpg  most likely belongs to Fish with a 73.06 percent confidence.\n",
      "1/1 [==============================] - 0s 97ms/step\n",
      "validate/whale.jpg  most likely belongs to Fish with a 73.11 percent confidence.\n",
      "1/1 [==============================] - 0s 87ms/step\n",
      "validate/car.jpg  most likely belongs to NotFish with a 73.11 percent confidence.\n",
      "1/1 [==============================] - 0s 96ms/step\n",
      "validate/seal.jpg  most likely belongs to NotFish with a 73.03 percent confidence.\n",
      "1/1 [==============================] - 0s 99ms/step\n",
      "validate/beaver.jpg  most likely belongs to NotFish with a 73.05 percent confidence.\n",
      "1/1 [==============================] - 0s 99ms/step\n",
      "validate/betta.jpg  most likely belongs to Fish with a 73.05 percent confidence.\n",
      "1/1 [==============================] - 0s 83ms/step\n",
      "validate/betta1.jpg  most likely belongs to Fish with a 73.11 percent confidence.\n"
     ]
    }
   ],
   "source": [
    "os.chdir(\"C:\\\\Users\\\\jerem\\\\VirtualBox VMs\\\\Ubuntu\\\\Shared\\\\IRS_Project\\\\GitHub\\\\PRMLS_Project\\\\SystemCode\")\n",
    "\n",
    "predict_new_image(\"validate/jeremy.jpg\")\n",
    "predict_new_image(\"validate/tree.jpg\")\n",
    "predict_new_image(\"validate/fish.jpg\")\n",
    "predict_new_image(\"validate/cockroach.jpg\")\n",
    "predict_new_image(\"validate/starfish.jpg\")\n",
    "predict_new_image(\"validate/whale.jpg\")\n",
    "predict_new_image(\"validate/car.jpg\")\n",
    "predict_new_image(\"validate/seal.jpg\")\n",
    "predict_new_image(\"validate/beaver.jpg\")\n",
    "predict_new_image(\"validate/betta.jpg\")\n",
    "predict_new_image(\"validate/betta1.jpg\")"
   ]
  },
  {
   "cell_type": "code",
   "execution_count": null,
   "metadata": {},
   "outputs": [],
   "source": []
  },
  {
   "cell_type": "code",
   "execution_count": null,
   "metadata": {},
   "outputs": [],
   "source": []
  }
 ],
 "metadata": {
  "accelerator": "GPU",
  "colab": {
   "collapsed_sections": [],
   "name": "prumls_wks2_3_yourname.ipynb",
   "provenance": [
    {
     "file_id": "1zpNB_cvVJmfLRLrahFw1NIJs9J4upi4c",
     "timestamp": 1626919505137
    }
   ],
   "toc_visible": true
  },
  "kernelspec": {
   "display_name": "Python 3 (ipykernel)",
   "language": "python",
   "name": "python3"
  },
  "language_info": {
   "codemirror_mode": {
    "name": "ipython",
    "version": 3
   },
   "file_extension": ".py",
   "mimetype": "text/x-python",
   "name": "python",
   "nbconvert_exporter": "python",
   "pygments_lexer": "ipython3",
   "version": "3.9.12"
  }
 },
 "nbformat": 4,
 "nbformat_minor": 1
}
