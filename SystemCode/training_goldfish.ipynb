{
 "cells": [
  {
   "cell_type": "code",
   "execution_count": 1,
   "id": "9d89c4c3",
   "metadata": {},
   "outputs": [],
   "source": [
    "# pip install opencv-python"
   ]
  },
  {
   "cell_type": "code",
   "execution_count": 2,
   "id": "34b30226",
   "metadata": {},
   "outputs": [
    {
     "name": "stdout",
     "output_type": "stream",
     "text": [
      "Versions of key libraries\n",
      "---\n",
      "tensorflow:  2.6.0\n",
      "numpy:       1.22.3\n",
      "matplotlib:  3.5.2\n",
      "sklearn:     1.1.1\n"
     ]
    },
    {
     "data": {
      "text/plain": [
       "[PhysicalDevice(name='/physical_device:CPU:0', device_type='CPU'),\n",
       " PhysicalDevice(name='/physical_device:GPU:0', device_type='GPU')]"
      ]
     },
     "execution_count": 2,
     "metadata": {},
     "output_type": "execute_result"
    }
   ],
   "source": [
    "import matplotlib\n",
    "import sklearn\n",
    "import numpy as np\n",
    "import pandas as pd\n",
    "import sklearn.metrics as metrics\n",
    "import matplotlib.pyplot as plt\n",
    "import pathlib\n",
    "import os\n",
    "import cv2\n",
    "import datetime\n",
    "\n",
    "import tensorflow as tf\n",
    "from tensorflow import keras\n",
    "from tensorflow.keras import layers\n",
    "from tensorflow.keras.callbacks import ModelCheckpoint,CSVLogger\n",
    "from tensorflow.keras.models import Sequential\n",
    "from tensorflow.keras.layers import Dense\n",
    "from tensorflow.keras.layers import Dropout\n",
    "from tensorflow.keras.layers import Flatten\n",
    "from tensorflow.keras.layers import Conv2D\n",
    "from tensorflow.keras.layers import MaxPooling2D\n",
    "from tensorflow.keras.utils import to_categorical\n",
    "from tensorflow.keras.utils import plot_model\n",
    "from tensorflow.keras import optimizers\n",
    "from tensorflow.keras import regularizers\n",
    "\n",
    "print(\"Versions of key libraries\")\n",
    "print(\"---\")\n",
    "print(\"tensorflow: \", tf.__version__)\n",
    "print(\"numpy:      \", np.__version__)\n",
    "print(\"matplotlib: \", matplotlib.__version__)\n",
    "print(\"sklearn:    \", sklearn.__version__)\n",
    "tf.config.list_physical_devices()"
   ]
  },
  {
   "cell_type": "code",
   "execution_count": 3,
   "id": "84658303",
   "metadata": {},
   "outputs": [],
   "source": [
    "modelname   = 'goldfish'\n",
    "\n",
    "fishType = modelname\n",
    "IMGSIZE = 128\n",
    "EPOCHS = 20\n",
    "BATCH_SIZE = 64\n",
    "OPT_IDX = 1\n",
    "ACTIVATION = 'softmax'\n",
    "N_LABELS = 2\n",
    "\n",
    "modelname = modelname+\"_\"+ACTIVATION+\"_\"+str(IMGSIZE)+\"_\"+str(EPOCHS)+\"_\"+str(BATCH_SIZE)+\"_\"+str(OPT_IDX)\n",
    "optmzs = ['adam', optimizers.RMSprop(learning_rate=0.0001)]\n",
    "optmz = optmzs[OPT_IDX]"
   ]
  },
  {
   "cell_type": "code",
   "execution_count": 4,
   "id": "f0487832",
   "metadata": {},
   "outputs": [
    {
     "name": "stdout",
     "output_type": "stream",
     "text": [
      "Model: \"sequential\"\n",
      "_________________________________________________________________\n",
      "Layer (type)                 Output Shape              Param #   \n",
      "=================================================================\n",
      "conv2d (Conv2D)              (None, 128, 128, 32)      896       \n",
      "_________________________________________________________________\n",
      "max_pooling2d (MaxPooling2D) (None, 64, 64, 32)        0         \n",
      "_________________________________________________________________\n",
      "conv2d_1 (Conv2D)            (None, 64, 64, 16)        4624      \n",
      "_________________________________________________________________\n",
      "max_pooling2d_1 (MaxPooling2 (None, 32, 32, 16)        0         \n",
      "_________________________________________________________________\n",
      "dropout (Dropout)            (None, 32, 32, 16)        0         \n",
      "_________________________________________________________________\n",
      "flatten (Flatten)            (None, 16384)             0         \n",
      "_________________________________________________________________\n",
      "dense (Dense)                (None, 10)                163850    \n",
      "_________________________________________________________________\n",
      "dense_1 (Dense)              (None, 2)                 22        \n",
      "=================================================================\n",
      "Total params: 169,392\n",
      "Trainable params: 169,392\n",
      "Non-trainable params: 0\n",
      "_________________________________________________________________\n"
     ]
    }
   ],
   "source": [
    "def createModel():\n",
    "    model = Sequential()\n",
    "    model.add(Conv2D(32, (3,3), padding='same', input_shape=(IMGSIZE,IMGSIZE,3), activation='relu'))\n",
    "    model.add(MaxPooling2D(pool_size=(2,2)))\n",
    "    model.add(Conv2D(16, (3,3), padding='same', activation='relu'))\n",
    "    model.add(MaxPooling2D(pool_size=(2,2)))\n",
    "    model.add(Dropout(0.2))\n",
    "    model.add(Flatten())\n",
    "    model.add(Dense(10, activation='relu'))\n",
    "    model.add(Dense(N_LABELS, activation=ACTIVATION))\n",
    "    model.compile(loss='categorical_crossentropy', optimizer=optmz, metrics=['accuracy'])\n",
    "    return model\n",
    "\n",
    "model       = createModel() # This is meant for training\n",
    "modelGo     = createModel() # This is used for final testing\n",
    "\n",
    "model.summary()"
   ]
  },
  {
   "cell_type": "code",
   "execution_count": 5,
   "id": "dced975a",
   "metadata": {},
   "outputs": [
    {
     "name": "stdout",
     "output_type": "stream",
     "text": [
      "Path to model: models/goldfish_softmax_128_20_64_1_2022-09-25_16-47-18.hdf5\n",
      "Path to log:   models/goldfish_softmax_128_20_64_1_2022-09-25_16-47-18.csv\n"
     ]
    }
   ],
   "source": [
    "                                                                                # Step 1\n",
    "modelname       = modelname+\"_\"+str(datetime.datetime.now())[:-7].replace(' ','_').replace(\":\",'-')\n",
    "folderpath      = 'models/'\n",
    "filepath        = folderpath + modelname + \".hdf5\"\n",
    "checkpoint      = ModelCheckpoint(filepath, \n",
    "                                  monitor='val_accuracy', \n",
    "                                  verbose=0, \n",
    "                                  save_best_only=True, \n",
    "                                  mode='max')\n",
    "\n",
    "csv_logger      = CSVLogger(folderpath+modelname +'.csv')                       # Step 2\n",
    "callbacks_list  = [checkpoint,csv_logger]                                       # Step 3\n",
    "\n",
    "print(\"Path to model:\", filepath)\n",
    "print(\"Path to log:  \", folderpath+modelname+'.csv')"
   ]
  },
  {
   "cell_type": "code",
   "execution_count": 6,
   "id": "6b8e5e56",
   "metadata": {},
   "outputs": [
    {
     "name": "stdout",
     "output_type": "stream",
     "text": [
      "Path to plot: models/goldfish_softmax_128_20_64_1_2022-09-25_16-47-18_plot.png\n"
     ]
    }
   ],
   "source": [
    "plotpath  = folderpath+modelname+'_plot.png'\n",
    "plot_model(model, \n",
    "           to_file=plotpath, \n",
    "           show_shapes=True, \n",
    "           show_layer_names=False,\n",
    "           rankdir='TB')\n",
    "print(\"Path to plot:\", plotpath)"
   ]
  },
  {
   "cell_type": "code",
   "execution_count": 7,
   "id": "9ca1b24f",
   "metadata": {},
   "outputs": [],
   "source": [
    "data_dir = pathlib.Path(\"dataset\")\n",
    "fish_images_dict = {\n",
    "    'arowana': list(data_dir.glob('arowana/*.jpg')),\n",
    "    'betta': list(data_dir.glob('betta/*.jpg')),\n",
    "    'goldfish': list(data_dir.glob('goldfish/*.jpg')),\n",
    "    'luohan': list(data_dir.glob('luohan/*.jpg'))\n",
    "}\n",
    "# labelname = ['arowana','betta','goldfish','luohan']\n",
    "labelname = ['not '+fishType, fishType]"
   ]
  },
  {
   "cell_type": "code",
   "execution_count": 8,
   "id": "e62ba204",
   "metadata": {},
   "outputs": [],
   "source": [
    "X, y = [], []\n",
    "\n",
    "for fish_name, images in fish_images_dict.items():\n",
    "    for image in images:\n",
    "        img = cv2.imread(str(image))\n",
    "        resized_img = cv2.resize(img,(IMGSIZE,IMGSIZE))\n",
    "        X.append(resized_img)\n",
    "        y.append(1 if fish_name==fishType else 0)"
   ]
  },
  {
   "cell_type": "code",
   "execution_count": 9,
   "id": "ad75350e",
   "metadata": {},
   "outputs": [],
   "source": [
    "X = np.array(X)\n",
    "oy = np.array(y)\n",
    "y = to_categorical(oy)\n",
    "from sklearn.model_selection import train_test_split\n",
    "X_train, X_test, y_train, y_test = train_test_split(X, y, random_state=42)\n",
    "X_train  = X_train / 255\n",
    "X_test   = X_test / 255"
   ]
  },
  {
   "cell_type": "code",
   "execution_count": 10,
   "id": "b0b245d2",
   "metadata": {},
   "outputs": [
    {
     "name": "stdout",
     "output_type": "stream",
     "text": [
      "Epoch 1/20\n",
      "39/39 [==============================] - 5s 36ms/step - loss: 0.3172 - accuracy: 0.8736 - val_loss: 0.1407 - val_accuracy: 0.9275\n",
      "Epoch 2/20\n",
      "39/39 [==============================] - 1s 19ms/step - loss: 0.1483 - accuracy: 0.9054 - val_loss: 0.0926 - val_accuracy: 0.9614\n",
      "Epoch 3/20\n",
      "39/39 [==============================] - 1s 19ms/step - loss: 0.1272 - accuracy: 0.9702 - val_loss: 0.0824 - val_accuracy: 0.9855\n",
      "Epoch 4/20\n",
      "39/39 [==============================] - 1s 19ms/step - loss: 0.1225 - accuracy: 0.9779 - val_loss: 0.0786 - val_accuracy: 0.9843\n",
      "Epoch 5/20\n",
      "39/39 [==============================] - 1s 18ms/step - loss: 0.1169 - accuracy: 0.9771 - val_loss: 0.0792 - val_accuracy: 0.9891\n",
      "Epoch 6/20\n",
      "39/39 [==============================] - 1s 18ms/step - loss: 0.1155 - accuracy: 0.9811 - val_loss: 0.0738 - val_accuracy: 0.9867\n",
      "Epoch 7/20\n",
      "39/39 [==============================] - 1s 18ms/step - loss: 0.1119 - accuracy: 0.9803 - val_loss: 0.0801 - val_accuracy: 0.9891\n",
      "Epoch 8/20\n",
      "39/39 [==============================] - 1s 18ms/step - loss: 0.1105 - accuracy: 0.9823 - val_loss: 0.0709 - val_accuracy: 0.9867\n",
      "Epoch 9/20\n",
      "39/39 [==============================] - 2s 61ms/step - loss: 0.1083 - accuracy: 0.9823 - val_loss: 0.0700 - val_accuracy: 0.9879\n",
      "Epoch 10/20\n",
      "39/39 [==============================] - 1s 26ms/step - loss: 0.1050 - accuracy: 0.9843 - val_loss: 0.0699 - val_accuracy: 0.9795\n",
      "Epoch 11/20\n",
      "39/39 [==============================] - 1s 24ms/step - loss: 0.1045 - accuracy: 0.9847 - val_loss: 0.0683 - val_accuracy: 0.9879\n",
      "Epoch 12/20\n",
      "39/39 [==============================] - 1s 26ms/step - loss: 0.1026 - accuracy: 0.9831 - val_loss: 0.0679 - val_accuracy: 0.9831\n",
      "Epoch 13/20\n",
      "39/39 [==============================] - 1s 31ms/step - loss: 0.1024 - accuracy: 0.9839 - val_loss: 0.0784 - val_accuracy: 0.9891\n",
      "Epoch 14/20\n",
      "39/39 [==============================] - 2s 57ms/step - loss: 0.1003 - accuracy: 0.9859 - val_loss: 0.0682 - val_accuracy: 0.9891\n",
      "Epoch 15/20\n",
      "39/39 [==============================] - 2s 49ms/step - loss: 0.0994 - accuracy: 0.9823 - val_loss: 0.0666 - val_accuracy: 0.9879\n",
      "Epoch 16/20\n",
      "39/39 [==============================] - 1s 19ms/step - loss: 0.0967 - accuracy: 0.9847 - val_loss: 0.0660 - val_accuracy: 0.9879\n",
      "Epoch 17/20\n",
      "39/39 [==============================] - 1s 19ms/step - loss: 0.0964 - accuracy: 0.9843 - val_loss: 0.0679 - val_accuracy: 0.9928\n",
      "Epoch 18/20\n",
      "39/39 [==============================] - 1s 20ms/step - loss: 0.0949 - accuracy: 0.9855 - val_loss: 0.0655 - val_accuracy: 0.9891\n",
      "Epoch 19/20\n",
      "39/39 [==============================] - 1s 19ms/step - loss: 0.0931 - accuracy: 0.9863 - val_loss: 0.0661 - val_accuracy: 0.9843\n",
      "Epoch 20/20\n",
      "39/39 [==============================] - 1s 18ms/step - loss: 0.0931 - accuracy: 0.9859 - val_loss: 0.0657 - val_accuracy: 0.9819\n"
     ]
    }
   ],
   "source": [
    "history = model.fit(X_train,                            # Training data\n",
    "          y_train,                            # Training label\n",
    "          validation_data=(X_test, y_test),   # Validation data and label\n",
    "          epochs=EPOCHS,                       # The amount of epochs to be trained\n",
    "          batch_size=BATCH_SIZE,                   \n",
    "          shuffle=True,                     # To shuffle the training data\n",
    "          callbacks=callbacks_list)         # Callbacks to execute the checkpoints"
   ]
  },
  {
   "cell_type": "code",
   "execution_count": 11,
   "id": "f7ea6f75",
   "metadata": {},
   "outputs": [
    {
     "data": {
      "image/png": "[encoded data removed]",
      "text/plain": [
       "<Figure size 576x576 with 2 Axes>"
      ]
     },
     "metadata": {
      "needs_background": "light"
     },
     "output_type": "display_data"
    }
   ],
   "source": [
    "# Plot the accuracy and error on training and test sets\n",
    "\n",
    "acc = history.history['accuracy']\n",
    "val_acc = history.history['val_accuracy']\n",
    "\n",
    "loss = history.history['loss']\n",
    "val_loss = history.history['val_loss']\n",
    "\n",
    "epochs_range = range(EPOCHS)\n",
    "\n",
    "plt.figure(figsize=(8, 8))\n",
    "plt.subplot(1, 2, 1)\n",
    "plt.plot(epochs_range, acc, label='Training Accuracy')\n",
    "plt.plot(epochs_range, val_acc, label='Validation Accuracy')\n",
    "plt.legend(loc='lower right')\n",
    "plt.title('Training and Validation Accuracy')\n",
    "\n",
    "plt.subplot(1, 2, 2)\n",
    "plt.plot(epochs_range, loss, label='Training Loss')\n",
    "plt.plot(epochs_range, val_loss, label='Validation Loss')\n",
    "plt.legend(loc='upper right')\n",
    "plt.title('Training and Validation Loss')\n",
    "plt.savefig(folderpath+modelname+'_accuracy_plot.png')\n",
    "plt.show()"
   ]
  },
  {
   "cell_type": "code",
   "execution_count": 12,
   "id": "298b829c",
   "metadata": {},
   "outputs": [
    {
     "name": "stdout",
     "output_type": "stream",
     "text": [
      "Prediction completes.\n"
     ]
    }
   ],
   "source": [
    "                                                                                # Step 1\n",
    "modelGo.load_weights(filepath)\n",
    "modelGo.compile(loss='categorical_crossentropy', \n",
    "                optimizer=optmz, \n",
    "                metrics=['accuracy'])\n",
    "\n",
    "predicts    = modelGo.predict(X_test)                                            # Step 2\n",
    "print(\"Prediction completes.\")"
   ]
  },
  {
   "cell_type": "code",
   "execution_count": 13,
   "id": "1a828a8d",
   "metadata": {},
   "outputs": [
    {
     "name": "stdout",
     "output_type": "stream",
     "text": [
      "Best accuracy (on testing dataset): 99.28%\n",
      "              precision    recall  f1-score   support\n",
      "\n",
      "not goldfish     0.9961    0.9961    0.9961       768\n",
      "    goldfish     0.9500    0.9500    0.9500        60\n",
      "\n",
      "    accuracy                         0.9928       828\n",
      "   macro avg     0.9730    0.9730    0.9730       828\n",
      "weighted avg     0.9928    0.9928    0.9928       828\n",
      "\n"
     ]
    }
   ],
   "source": [
    "                                                                                # Step 1\n",
    "                                                                                # Step 2\n",
    "predout     = np.argmax(predicts,axis=1)\n",
    "testout     = np.argmax(y_test,axis=1)\n",
    "\n",
    "testScores  = metrics.accuracy_score(testout,predout)                           # Step 3\n",
    "\n",
    "                                                                                # Step 4\n",
    "print(\"Best accuracy (on testing dataset): %.2f%%\" % (testScores*100))\n",
    "print(metrics.classification_report(testout,\n",
    "                                    predout,\n",
    "                                    target_names=labelname,\n",
    "                                    digits=4))\n",
    "\n",
    "report = metrics.classification_report(testout,\n",
    "                                    predout,\n",
    "                                    target_names=labelname,\n",
    "                                    digits=4,\n",
    "                                      output_dict=True)\n",
    "\n",
    "df = pd.DataFrame(report).transpose()\n",
    "df.to_csv(folderpath+modelname+'_report.csv')"
   ]
  },
  {
   "cell_type": "code",
   "execution_count": null,
   "id": "42557859",
   "metadata": {},
   "outputs": [],
   "source": []
  }
 ],
 "metadata": {
  "kernelspec": {
   "display_name": "Python 3 (ipykernel)",
   "language": "python",
   "name": "python3"
  },
  "language_info": {
   "codemirror_mode": {
    "name": "ipython",
    "version": 3
   },
   "file_extension": ".py",
   "mimetype": "text/x-python",
   "name": "python",
   "nbconvert_exporter": "python",
   "pygments_lexer": "ipython3",
   "version": "3.9.12"
  }
 },
 "nbformat": 4,
 "nbformat_minor": 5
}
