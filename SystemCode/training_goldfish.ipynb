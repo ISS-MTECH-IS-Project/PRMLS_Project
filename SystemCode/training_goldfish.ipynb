{
 "cells": [
  {
   "cell_type": "code",
   "execution_count": 1,
   "id": "9d89c4c3",
   "metadata": {},
   "outputs": [],
   "source": [
    "# pip install opencv-python"
   ]
  },
  {
   "cell_type": "code",
   "execution_count": 2,
   "id": "34b30226",
   "metadata": {},
   "outputs": [
    {
     "name": "stdout",
     "output_type": "stream",
     "text": [
      "Versions of key libraries\n",
      "---\n",
      "tensorflow:  2.9.0\n",
      "numpy:       1.22.3\n",
      "matplotlib:  3.5.2\n",
      "sklearn:     1.1.1\n"
     ]
    },
    {
     "data": {
      "text/plain": [
       "[PhysicalDevice(name='/physical_device:CPU:0', device_type='CPU'),\n",
       " PhysicalDevice(name='/physical_device:GPU:0', device_type='GPU')]"
      ]
     },
     "execution_count": 2,
     "metadata": {},
     "output_type": "execute_result"
    }
   ],
   "source": [
    "import matplotlib\n",
    "import sklearn\n",
    "import numpy as np\n",
    "import pandas as pd\n",
    "import sklearn.metrics as metrics\n",
    "import matplotlib.pyplot as plt\n",
    "import pathlib\n",
    "import os\n",
    "import cv2\n",
    "import datetime\n",
    "\n",
    "import tensorflow as tf\n",
    "from tensorflow import keras\n",
    "from tensorflow.keras import layers\n",
    "from tensorflow.keras.callbacks import ModelCheckpoint,CSVLogger\n",
    "from tensorflow.keras.models import Sequential\n",
    "from tensorflow.keras.layers import Dense\n",
    "from tensorflow.keras.layers import Dropout\n",
    "from tensorflow.keras.layers import Flatten\n",
    "from tensorflow.keras.layers import Conv2D\n",
    "from tensorflow.keras.layers import MaxPooling2D\n",
    "from tensorflow.keras.utils import to_categorical\n",
    "from tensorflow.keras.utils import plot_model\n",
    "from tensorflow.keras import optimizers\n",
    "from tensorflow.keras import regularizers\n",
    "\n",
    "print(\"Versions of key libraries\")\n",
    "print(\"---\")\n",
    "print(\"tensorflow: \", tf.__version__)\n",
    "print(\"numpy:      \", np.__version__)\n",
    "print(\"matplotlib: \", matplotlib.__version__)\n",
    "print(\"sklearn:    \", sklearn.__version__)\n",
    "tf.config.list_physical_devices()"
   ]
  },
  {
   "cell_type": "code",
   "execution_count": 3,
   "id": "84658303",
   "metadata": {},
   "outputs": [],
   "source": [
    "modelname   = 'goldfish'\n",
    "\n",
    "fishType = modelname\n",
    "IMGSIZE = 128\n",
    "EPOCHS = 50\n",
    "BATCH_SIZE = 64\n",
    "OPT_IDX = 1\n",
    "ACTIVATION = 'softmax'\n",
    "N_LABELS = 2\n",
    "\n",
    "modelname = modelname+\"_\"+ACTIVATION+\"_\"+str(IMGSIZE)+\"_\"+str(EPOCHS)+\"_\"+str(BATCH_SIZE)+\"_\"+str(OPT_IDX)\n",
    "optmzs = ['adam', optimizers.RMSprop(learning_rate=0.0001)]\n",
    "optmz = optmzs[OPT_IDX]"
   ]
  },
  {
   "cell_type": "code",
   "execution_count": 4,
   "id": "f0487832",
   "metadata": {},
   "outputs": [
    {
     "name": "stdout",
     "output_type": "stream",
     "text": [
      "Model: \"sequential\"\n",
      "_________________________________________________________________\n",
      " Layer (type)                Output Shape              Param #   \n",
      "=================================================================\n",
      " conv2d (Conv2D)             (None, 128, 128, 32)      896       \n",
      "                                                                 \n",
      " max_pooling2d (MaxPooling2D  (None, 64, 64, 32)       0         \n",
      " )                                                               \n",
      "                                                                 \n",
      " conv2d_1 (Conv2D)           (None, 64, 64, 16)        4624      \n",
      "                                                                 \n",
      " max_pooling2d_1 (MaxPooling  (None, 32, 32, 16)       0         \n",
      " 2D)                                                             \n",
      "                                                                 \n",
      " dropout (Dropout)           (None, 32, 32, 16)        0         \n",
      "                                                                 \n",
      " flatten (Flatten)           (None, 16384)             0         \n",
      "                                                                 \n",
      " dense (Dense)               (None, 10)                163850    \n",
      "                                                                 \n",
      " dense_1 (Dense)             (None, 2)                 22        \n",
      "                                                                 \n",
      "=================================================================\n",
      "Total params: 169,392\n",
      "Trainable params: 169,392\n",
      "Non-trainable params: 0\n",
      "_________________________________________________________________\n"
     ]
    }
   ],
   "source": [
    "def createModel():\n",
    "    model = Sequential()\n",
    "    model.add(Conv2D(32, (3,3), padding='same', input_shape=(IMGSIZE,IMGSIZE,3), activation='relu'))\n",
    "    model.add(MaxPooling2D(pool_size=(2,2)))\n",
    "    model.add(Conv2D(16, (3,3), padding='same', activation='relu'))\n",
    "    model.add(MaxPooling2D(pool_size=(2,2)))\n",
    "    model.add(Dropout(0.2))\n",
    "    model.add(Flatten())\n",
    "    model.add(Dense(10, activation='relu'))\n",
    "    model.add(Dense(N_LABELS, activation=ACTIVATION))\n",
    "    model.compile(loss='categorical_crossentropy', optimizer=optmz, metrics=['accuracy'])\n",
    "    return model\n",
    "\n",
    "model       = createModel() # This is meant for training\n",
    "modelGo     = createModel() # This is used for final testing\n",
    "\n",
    "model.summary()"
   ]
  },
  {
   "cell_type": "code",
   "execution_count": 5,
   "id": "dced975a",
   "metadata": {},
   "outputs": [
    {
     "name": "stdout",
     "output_type": "stream",
     "text": [
      "Path to model: models/goldfish_softmax_128_50_64_1_2022-09-25_22-37-40.hdf5\n",
      "Path to log:   models/goldfish_softmax_128_50_64_1_2022-09-25_22-37-40.csv\n"
     ]
    }
   ],
   "source": [
    "                                                                                # Step 1\n",
    "modelname       = modelname+\"_\"+str(datetime.datetime.now())[:-7].replace(' ','_').replace(\":\",'-')\n",
    "folderpath      = 'models/'\n",
    "filepath        = folderpath + modelname + \".hdf5\"\n",
    "checkpoint      = ModelCheckpoint(filepath, \n",
    "                                  monitor='val_accuracy', \n",
    "                                  verbose=0, \n",
    "                                  save_best_only=True, \n",
    "                                  mode='max')\n",
    "\n",
    "csv_logger      = CSVLogger(folderpath+modelname +'.csv')                       # Step 2\n",
    "callbacks_list  = [checkpoint,csv_logger]                                       # Step 3\n",
    "\n",
    "print(\"Path to model:\", filepath)\n",
    "print(\"Path to log:  \", folderpath+modelname+'.csv')"
   ]
  },
  {
   "cell_type": "code",
   "execution_count": 6,
   "id": "6b8e5e56",
   "metadata": {},
   "outputs": [
    {
     "name": "stdout",
     "output_type": "stream",
     "text": [
      "Path to plot: models/goldfish_softmax_128_50_64_1_2022-09-25_22-37-40_plot.png\n"
     ]
    }
   ],
   "source": [
    "plotpath  = folderpath+modelname+'_plot.png'\n",
    "plot_model(model, \n",
    "           to_file=plotpath, \n",
    "           show_shapes=True, \n",
    "           show_layer_names=False,\n",
    "           rankdir='TB')\n",
    "print(\"Path to plot:\", plotpath)"
   ]
  },
  {
   "cell_type": "code",
   "execution_count": 7,
   "id": "9ca1b24f",
   "metadata": {},
   "outputs": [],
   "source": [
    "data_dir = pathlib.Path(\"dataset\")\n",
    "fish_images_dict = {\n",
    "    'arowana': list(data_dir.glob('arowana/*.jpg')),\n",
    "    'betta': list(data_dir.glob('betta/*.jpg')),\n",
    "    'goldfish': list(data_dir.glob('goldfish/*.jpg')),\n",
    "    'luohan': list(data_dir.glob('luohan/*.jpg'))\n",
    "}\n",
    "# labelname = ['arowana','betta','goldfish','luohan']\n",
    "labelname = ['not '+fishType, fishType]"
   ]
  },
  {
   "cell_type": "code",
   "execution_count": 8,
   "id": "fb677a74",
   "metadata": {},
   "outputs": [],
   "source": [
    "def process_image(img_file, h=IMGSIZE, w=IMGSIZE):\n",
    "    img = tf.keras.utils.load_img(\n",
    "        img_file, target_size=None, keep_aspect_ratio=True\n",
    "    )\n",
    "    img_array = tf.keras.utils.img_to_array(img)\n",
    "    img_array = tf.keras.preprocessing.image.smart_resize(\n",
    "        img_array, size=(h, w))\n",
    "#     img_array = tf.expand_dims(img_array, 0)  # Create a batch\n",
    "    img_array = img_array / 255.0\n",
    "    return img_array\n"
   ]
  },
  {
   "cell_type": "code",
   "execution_count": 9,
   "id": "e62ba204",
   "metadata": {},
   "outputs": [
    {
     "name": "stderr",
     "output_type": "stream",
     "text": [
      "C:\\Users\\song\\anaconda3\\envs\\tfgpu\\lib\\site-packages\\PIL\\Image.py:959: UserWarning: Palette images with Transparency expressed in bytes should be converted to RGBA images\n",
      "  warnings.warn(\n"
     ]
    }
   ],
   "source": [
    "X, y = [], []\n",
    "\n",
    "for fish_name, images in fish_images_dict.items():\n",
    "    for image in images:\n",
    "        X.append(process_image(image))\n",
    "        y.append(1 if fish_name==fishType else 0)"
   ]
  },
  {
   "cell_type": "code",
   "execution_count": 10,
   "id": "ad75350e",
   "metadata": {},
   "outputs": [],
   "source": [
    "X = np.array(X)\n",
    "oy = np.array(y)\n",
    "y = to_categorical(oy)\n",
    "from sklearn.model_selection import train_test_split\n",
    "X_train, X_test, y_train, y_test = train_test_split(X, y, random_state=42)"
   ]
  },
  {
   "cell_type": "code",
   "execution_count": 11,
   "id": "b0b245d2",
   "metadata": {
    "scrolled": true
   },
   "outputs": [
    {
     "name": "stdout",
     "output_type": "stream",
     "text": [
      "Epoch 1/50\n",
      "39/39 [==============================] - 5s 35ms/step - loss: 0.3208 - accuracy: 0.8760 - val_loss: 0.1566 - val_accuracy: 0.9275\n",
      "Epoch 2/50\n",
      "39/39 [==============================] - 1s 22ms/step - loss: 0.1556 - accuracy: 0.9372 - val_loss: 0.0859 - val_accuracy: 0.9722\n",
      "Epoch 3/50\n",
      "39/39 [==============================] - 1s 22ms/step - loss: 0.1162 - accuracy: 0.9762 - val_loss: 0.0659 - val_accuracy: 0.9843\n",
      "Epoch 4/50\n",
      "39/39 [==============================] - 1s 22ms/step - loss: 0.0994 - accuracy: 0.9819 - val_loss: 0.0594 - val_accuracy: 0.9903\n",
      "Epoch 5/50\n",
      "39/39 [==============================] - 1s 21ms/step - loss: 0.0837 - accuracy: 0.9839 - val_loss: 0.0480 - val_accuracy: 0.9903\n",
      "Epoch 6/50\n",
      "39/39 [==============================] - 1s 22ms/step - loss: 0.0734 - accuracy: 0.9831 - val_loss: 0.0416 - val_accuracy: 0.9915\n",
      "Epoch 7/50\n",
      "39/39 [==============================] - 1s 21ms/step - loss: 0.0704 - accuracy: 0.9847 - val_loss: 0.0513 - val_accuracy: 0.9891\n",
      "Epoch 8/50\n",
      "39/39 [==============================] - 1s 21ms/step - loss: 0.0636 - accuracy: 0.9835 - val_loss: 0.0522 - val_accuracy: 0.9843\n",
      "Epoch 9/50\n",
      "39/39 [==============================] - 1s 21ms/step - loss: 0.0643 - accuracy: 0.9847 - val_loss: 0.0379 - val_accuracy: 0.9903\n",
      "Epoch 10/50\n",
      "39/39 [==============================] - 1s 21ms/step - loss: 0.0595 - accuracy: 0.9839 - val_loss: 0.0369 - val_accuracy: 0.9891\n",
      "Epoch 11/50\n",
      "39/39 [==============================] - 1s 21ms/step - loss: 0.0590 - accuracy: 0.9859 - val_loss: 0.0352 - val_accuracy: 0.9915\n",
      "Epoch 12/50\n",
      "39/39 [==============================] - 1s 21ms/step - loss: 0.0561 - accuracy: 0.9843 - val_loss: 0.0565 - val_accuracy: 0.9783\n",
      "Epoch 13/50\n",
      "39/39 [==============================] - 1s 21ms/step - loss: 0.0516 - accuracy: 0.9843 - val_loss: 0.0694 - val_accuracy: 0.9686\n",
      "Epoch 14/50\n",
      "39/39 [==============================] - 1s 21ms/step - loss: 0.0534 - accuracy: 0.9835 - val_loss: 0.0299 - val_accuracy: 0.9915\n",
      "Epoch 15/50\n",
      "39/39 [==============================] - 1s 21ms/step - loss: 0.0513 - accuracy: 0.9847 - val_loss: 0.0464 - val_accuracy: 0.9855\n",
      "Epoch 16/50\n",
      "39/39 [==============================] - 1s 20ms/step - loss: 0.0489 - accuracy: 0.9871 - val_loss: 0.0308 - val_accuracy: 0.9915\n",
      "Epoch 17/50\n",
      "39/39 [==============================] - 1s 21ms/step - loss: 0.0488 - accuracy: 0.9843 - val_loss: 0.0568 - val_accuracy: 0.9795\n",
      "Epoch 18/50\n",
      "39/39 [==============================] - 1s 21ms/step - loss: 0.0465 - accuracy: 0.9863 - val_loss: 0.0816 - val_accuracy: 0.9626\n",
      "Epoch 19/50\n",
      "39/39 [==============================] - 1s 21ms/step - loss: 0.0445 - accuracy: 0.9859 - val_loss: 0.0390 - val_accuracy: 0.9891\n",
      "Epoch 20/50\n",
      "39/39 [==============================] - 1s 21ms/step - loss: 0.0455 - accuracy: 0.9875 - val_loss: 0.0307 - val_accuracy: 0.9915\n",
      "Epoch 21/50\n",
      "39/39 [==============================] - 1s 22ms/step - loss: 0.0434 - accuracy: 0.9875 - val_loss: 0.0289 - val_accuracy: 0.9928\n",
      "Epoch 22/50\n",
      "39/39 [==============================] - 1s 21ms/step - loss: 0.0415 - accuracy: 0.9863 - val_loss: 0.0305 - val_accuracy: 0.9891\n",
      "Epoch 23/50\n",
      "39/39 [==============================] - 1s 21ms/step - loss: 0.0399 - accuracy: 0.9887 - val_loss: 0.0349 - val_accuracy: 0.9891\n",
      "Epoch 24/50\n",
      "39/39 [==============================] - 1s 21ms/step - loss: 0.0407 - accuracy: 0.9879 - val_loss: 0.0408 - val_accuracy: 0.9879\n",
      "Epoch 25/50\n",
      "39/39 [==============================] - 1s 21ms/step - loss: 0.0374 - accuracy: 0.9891 - val_loss: 0.0372 - val_accuracy: 0.9891\n",
      "Epoch 26/50\n",
      "39/39 [==============================] - 1s 21ms/step - loss: 0.0368 - accuracy: 0.9891 - val_loss: 0.0388 - val_accuracy: 0.9879\n",
      "Epoch 27/50\n",
      "39/39 [==============================] - 1s 21ms/step - loss: 0.0363 - accuracy: 0.9883 - val_loss: 0.0308 - val_accuracy: 0.9915\n",
      "Epoch 28/50\n",
      "39/39 [==============================] - 1s 21ms/step - loss: 0.0357 - accuracy: 0.9895 - val_loss: 0.0378 - val_accuracy: 0.9891\n",
      "Epoch 29/50\n",
      "39/39 [==============================] - 1s 21ms/step - loss: 0.0363 - accuracy: 0.9887 - val_loss: 0.0694 - val_accuracy: 0.9734\n",
      "Epoch 30/50\n",
      "39/39 [==============================] - 1s 21ms/step - loss: 0.0310 - accuracy: 0.9899 - val_loss: 0.0307 - val_accuracy: 0.9940\n",
      "Epoch 31/50\n",
      "39/39 [==============================] - 1s 21ms/step - loss: 0.0334 - accuracy: 0.9899 - val_loss: 0.0386 - val_accuracy: 0.9879\n",
      "Epoch 32/50\n",
      "39/39 [==============================] - 1s 21ms/step - loss: 0.0331 - accuracy: 0.9891 - val_loss: 0.0716 - val_accuracy: 0.9722\n",
      "Epoch 33/50\n",
      "39/39 [==============================] - 1s 21ms/step - loss: 0.0302 - accuracy: 0.9907 - val_loss: 0.0302 - val_accuracy: 0.9928\n",
      "Epoch 34/50\n",
      "39/39 [==============================] - 1s 21ms/step - loss: 0.0336 - accuracy: 0.9887 - val_loss: 0.0298 - val_accuracy: 0.9928\n",
      "Epoch 35/50\n",
      "39/39 [==============================] - 1s 21ms/step - loss: 0.0310 - accuracy: 0.9887 - val_loss: 0.0308 - val_accuracy: 0.9928\n",
      "Epoch 36/50\n",
      "39/39 [==============================] - 1s 21ms/step - loss: 0.0310 - accuracy: 0.9895 - val_loss: 0.0316 - val_accuracy: 0.9928\n",
      "Epoch 37/50\n",
      "39/39 [==============================] - 1s 21ms/step - loss: 0.0323 - accuracy: 0.9887 - val_loss: 0.0420 - val_accuracy: 0.9867\n",
      "Epoch 38/50\n",
      "39/39 [==============================] - 1s 21ms/step - loss: 0.0296 - accuracy: 0.9903 - val_loss: 0.0296 - val_accuracy: 0.9928\n",
      "Epoch 39/50\n",
      "39/39 [==============================] - 1s 21ms/step - loss: 0.0282 - accuracy: 0.9899 - val_loss: 0.0406 - val_accuracy: 0.9867\n",
      "Epoch 40/50\n",
      "39/39 [==============================] - 1s 21ms/step - loss: 0.0295 - accuracy: 0.9907 - val_loss: 0.0299 - val_accuracy: 0.9928\n",
      "Epoch 41/50\n",
      "39/39 [==============================] - 1s 21ms/step - loss: 0.0273 - accuracy: 0.9907 - val_loss: 0.0458 - val_accuracy: 0.9867\n",
      "Epoch 42/50\n",
      "39/39 [==============================] - 1s 21ms/step - loss: 0.0244 - accuracy: 0.9928 - val_loss: 0.0756 - val_accuracy: 0.9698\n",
      "Epoch 43/50\n",
      "39/39 [==============================] - 1s 21ms/step - loss: 0.0257 - accuracy: 0.9911 - val_loss: 0.0308 - val_accuracy: 0.9940\n",
      "Epoch 44/50\n",
      "39/39 [==============================] - 1s 21ms/step - loss: 0.0262 - accuracy: 0.9928 - val_loss: 0.0598 - val_accuracy: 0.9807\n",
      "Epoch 45/50\n",
      "39/39 [==============================] - 1s 21ms/step - loss: 0.0244 - accuracy: 0.9919 - val_loss: 0.0486 - val_accuracy: 0.9855\n",
      "Epoch 46/50\n",
      "39/39 [==============================] - 1s 21ms/step - loss: 0.0243 - accuracy: 0.9936 - val_loss: 0.0309 - val_accuracy: 0.9915\n",
      "Epoch 47/50\n",
      "39/39 [==============================] - 1s 21ms/step - loss: 0.0256 - accuracy: 0.9907 - val_loss: 0.0305 - val_accuracy: 0.9928\n",
      "Epoch 48/50\n",
      "39/39 [==============================] - 1s 21ms/step - loss: 0.0231 - accuracy: 0.9940 - val_loss: 0.0315 - val_accuracy: 0.9928\n",
      "Epoch 49/50\n",
      "39/39 [==============================] - 1s 21ms/step - loss: 0.0223 - accuracy: 0.9944 - val_loss: 0.0471 - val_accuracy: 0.9867\n",
      "Epoch 50/50\n",
      "39/39 [==============================] - 1s 21ms/step - loss: 0.0224 - accuracy: 0.9924 - val_loss: 0.0328 - val_accuracy: 0.9928\n"
     ]
    }
   ],
   "source": [
    "history = model.fit(X_train,                            # Training data\n",
    "          y_train,                            # Training label\n",
    "          validation_data=(X_test, y_test),   # Validation data and label\n",
    "          epochs=EPOCHS,                       # The amount of epochs to be trained\n",
    "          batch_size=BATCH_SIZE,                   \n",
    "          shuffle=True,                     # To shuffle the training data\n",
    "          callbacks=callbacks_list)         # Callbacks to execute the checkpoints"
   ]
  },
  {
   "cell_type": "code",
   "execution_count": 12,
   "id": "f7ea6f75",
   "metadata": {},
   "outputs": [
    {
     "data": {
      "image/png": "[encoded data removed]",
      "text/plain": [
       "<Figure size 576x576 with 2 Axes>"
      ]
     },
     "metadata": {
      "needs_background": "light"
     },
     "output_type": "display_data"
    }
   ],
   "source": [
    "# Plot the accuracy and error on training and test sets\n",
    "\n",
    "acc = history.history['accuracy']\n",
    "val_acc = history.history['val_accuracy']\n",
    "\n",
    "loss = history.history['loss']\n",
    "val_loss = history.history['val_loss']\n",
    "\n",
    "epochs_range = range(EPOCHS)\n",
    "\n",
    "plt.figure(figsize=(8, 8))\n",
    "plt.subplot(1, 2, 1)\n",
    "plt.plot(epochs_range, acc, label='Training Accuracy')\n",
    "plt.plot(epochs_range, val_acc, label='Validation Accuracy')\n",
    "plt.legend(loc='lower right')\n",
    "plt.title('Training and Validation Accuracy')\n",
    "\n",
    "plt.subplot(1, 2, 2)\n",
    "plt.plot(epochs_range, loss, label='Training Loss')\n",
    "plt.plot(epochs_range, val_loss, label='Validation Loss')\n",
    "plt.legend(loc='upper right')\n",
    "plt.title('Training and Validation Loss')\n",
    "plt.savefig(folderpath+modelname+'_accuracy_plot.png')\n",
    "plt.show()"
   ]
  },
  {
   "cell_type": "code",
   "execution_count": 13,
   "id": "298b829c",
   "metadata": {},
   "outputs": [
    {
     "name": "stdout",
     "output_type": "stream",
     "text": [
      "26/26 [==============================] - 0s 7ms/step\n",
      "Prediction completes.\n"
     ]
    }
   ],
   "source": [
    "                                                                                # Step 1\n",
    "modelGo.load_weights(filepath)\n",
    "modelGo.compile(loss='categorical_crossentropy', \n",
    "                optimizer=optmz, \n",
    "                metrics=['accuracy'])\n",
    "\n",
    "predicts    = modelGo.predict(X_test)                                            # Step 2\n",
    "print(\"Prediction completes.\")"
   ]
  },
  {
   "cell_type": "code",
   "execution_count": 14,
   "id": "1a828a8d",
   "metadata": {},
   "outputs": [
    {
     "name": "stdout",
     "output_type": "stream",
     "text": [
      "Best accuracy (on testing dataset): 99.40%\n",
      "              precision    recall  f1-score   support\n",
      "\n",
      "not goldfish     0.9974    0.9961    0.9967       768\n",
      "    goldfish     0.9508    0.9667    0.9587        60\n",
      "\n",
      "    accuracy                         0.9940       828\n",
      "   macro avg     0.9741    0.9814    0.9777       828\n",
      "weighted avg     0.9940    0.9940    0.9940       828\n",
      "\n"
     ]
    }
   ],
   "source": [
    "                                                                                # Step 1\n",
    "                                                                                # Step 2\n",
    "predout     = np.argmax(predicts,axis=1)\n",
    "testout     = np.argmax(y_test,axis=1)\n",
    "\n",
    "testScores  = metrics.accuracy_score(testout,predout)                           # Step 3\n",
    "\n",
    "                                                                                # Step 4\n",
    "print(\"Best accuracy (on testing dataset): %.2f%%\" % (testScores*100))\n",
    "print(metrics.classification_report(testout,\n",
    "                                    predout,\n",
    "                                    target_names=labelname,\n",
    "                                    digits=4))\n",
    "\n",
    "report = metrics.classification_report(testout,\n",
    "                                    predout,\n",
    "                                    target_names=labelname,\n",
    "                                    digits=4,\n",
    "                                      output_dict=True)\n",
    "\n",
    "df = pd.DataFrame(report).transpose()\n",
    "df.to_csv(folderpath+modelname+'_report.csv')"
   ]
  },
  {
   "cell_type": "code",
   "execution_count": null,
   "id": "42557859",
   "metadata": {},
   "outputs": [],
   "source": []
  }
 ],
 "metadata": {
  "kernelspec": {
   "display_name": "Python 3 (ipykernel)",
   "language": "python",
   "name": "python3"
  },
  "language_info": {
   "codemirror_mode": {
    "name": "ipython",
    "version": 3
   },
   "file_extension": ".py",
   "mimetype": "text/x-python",
   "name": "python",
   "nbconvert_exporter": "python",
   "pygments_lexer": "ipython3",
   "version": "3.9.12"
  }
 },
 "nbformat": 4,
 "nbformat_minor": 5
}
