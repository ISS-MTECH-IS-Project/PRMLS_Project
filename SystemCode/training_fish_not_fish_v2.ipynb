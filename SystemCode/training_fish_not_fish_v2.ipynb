{
 "cells": [
  {
   "cell_type": "markdown",
   "metadata": {
    "id": "dOQ-2xS_MYHi"
   },
   "source": [
    "## **1. Import the necessary libraries**\n",
    "---"
   ]
  },
  {
   "cell_type": "code",
   "execution_count": 239,
   "metadata": {
    "id": "yoi4gWDELtek"
   },
   "outputs": [
    {
     "name": "stdout",
     "output_type": "stream",
     "text": [
      "Versions of key libraries\n",
      "---\n",
      "tensorflow:  2.10.0\n",
      "numpy:       1.21.5\n",
      "matplotlib:  3.5.1\n",
      "sklearn:     1.0.2\n"
     ]
    }
   ],
   "source": [
    "import datetime\n",
    "import matplotlib\n",
    "import sklearn\n",
    "import numpy as np\n",
    "import pandas as pd\n",
    "import sklearn.metrics as metrics\n",
    "import matplotlib.pyplot as plt\n",
    "import tensorflow as tf\n",
    "import seaborn as sns\n",
    "import cv2\n",
    "import os\n",
    "\n",
    "from tensorflow.keras.callbacks import ModelCheckpoint,CSVLogger\n",
    "from tensorflow.keras.preprocessing.image import ImageDataGenerator\n",
    "from tensorflow.keras.models import Sequential\n",
    "from tensorflow.keras.layers import Dense\n",
    "from tensorflow.keras.layers import Dropout\n",
    "from tensorflow.keras.layers import Flatten\n",
    "from tensorflow.keras.layers import Conv2D\n",
    "from tensorflow.keras.layers import MaxPooling2D\n",
    "from tensorflow.keras.utils import to_categorical\n",
    "from tensorflow.keras.utils import plot_model\n",
    "from tensorflow.keras.datasets import cifar100\n",
    "from tensorflow.keras import optimizers\n",
    "from tensorflow.keras.regularizers import l1\n",
    "from tensorflow.keras.regularizers import l2\n",
    "from keras.models import load_model\n",
    "\n",
    "from sklearn.metrics import classification_report, confusion_matrix\n",
    "\n",
    "print(\"Versions of key libraries\")\n",
    "print(\"---\")\n",
    "print(\"tensorflow: \", tf.__version__)\n",
    "print(\"numpy:      \", np.__version__)\n",
    "print(\"matplotlib: \", matplotlib.__version__)\n",
    "print(\"sklearn:    \", sklearn.__version__)"
   ]
  },
  {
   "cell_type": "markdown",
   "metadata": {
    "id": "0amhwjZ4M2m-"
   },
   "source": [
    "## **2.Create a function to plot image without axis**\n",
    "---"
   ]
  },
  {
   "cell_type": "code",
   "execution_count": 240,
   "metadata": {
    "id": "OFxsBB1mNXl2"
   },
   "outputs": [
    {
     "name": "stdout",
     "output_type": "stream",
     "text": [
      "<function implt at 0x0000021265D89940>\n"
     ]
    }
   ],
   "source": [
    "def implt(img):\n",
    "    plt.figure()\n",
    "    plt.imshow(img)\n",
    "    plt.axis('off')\n",
    "\n",
    "print(implt)\n",
    "\n",
    "x = datetime.datetime.now()\n",
    "filename = x.strftime(\"%Y\") + x.strftime(\"%m\") + x.strftime(\"%d\") + x.strftime(\"%H\") + x.strftime(\"%M\")"
   ]
  },
  {
   "cell_type": "markdown",
   "metadata": {
    "id": "X3N41iixORPz"
   },
   "source": [
    "## **3. Set matplotlib to have seaborn plot style**\n",
    "---"
   ]
  },
  {
   "cell_type": "code",
   "execution_count": 241,
   "metadata": {
    "id": "OyO5OsUrOYNQ"
   },
   "outputs": [
    {
     "name": "stdout",
     "output_type": "stream",
     "text": [
      "Matplotlib setup completes.\n"
     ]
    }
   ],
   "source": [
    "plt.style.use('seaborn')                   # if want to use the default style, set 'classic'\n",
    "plt.rcParams['ytick.right']     = True\n",
    "plt.rcParams['ytick.labelright']= True\n",
    "plt.rcParams['ytick.left']      = False\n",
    "plt.rcParams['ytick.labelleft'] = False\n",
    "plt.rcParams['figure.figsize']  = [7,7]   # Set the figure size to be 7 inch for (width,height)\n",
    "\n",
    "print(\"Matplotlib setup completes.\")"
   ]
  },
  {
   "cell_type": "markdown",
   "metadata": {},
   "source": [
    "# **4.1 Downsize original images (Optional)**"
   ]
  },
  {
   "cell_type": "code",
   "execution_count": 242,
   "metadata": {},
   "outputs": [],
   "source": [
    "image_size = 32\n",
    "\n",
    "def resize_image(source_data_dir):\n",
    "    data = []\n",
    "    \n",
    "    os.chdir(source_data_dir)\n",
    "    \n",
    "    for label in labels:\n",
    "        path = source_data_dir\n",
    "        \n",
    "        for image in os.listdir(path):\n",
    "            print(image)\n",
    "            # try:\n",
    "            # Convert BGR to RGB\n",
    "            image_array = cv2.imread(os.path.join(path, image))\n",
    "            print(image_array.shape)\n",
    "            # Resize image\n",
    "            resized_array = cv2.resize(image_array, (image_size, image_size))\n",
    "            # print(target)\n",
    "            cv2.imwrite(\"downsized_\" + image, resized_array)\n",
    "            # except Exception as e:\n",
    "            #     print(e)"
   ]
  },
  {
   "cell_type": "code",
   "execution_count": 243,
   "metadata": {},
   "outputs": [],
   "source": [
    "# resize_image('C:\\\\Users\\\\jerem\\\\VirtualBox VMs\\\\Ubuntu\\\\Shared\\\\IRS_Project\\\\GitHub\\\\PRMLS_Project\\\\SystemCode\\\\dataset\\\\FishOrNotFishReduced\\\\Train\\\\Fish')\n",
    "# 'C:\\\\Users\\\\jerem\\\\VirtualBox VMs\\\\Ubuntu\\\\Shared\\\\IRS_Project\\\\GitHub\\\\PRMLS_Project\\\\SystemCode\\\\dataset\\\\FishOrNotFishReducedabc_2\\\\Test\\\\Fish')"
   ]
  },
  {
   "cell_type": "code",
   "execution_count": 244,
   "metadata": {},
   "outputs": [
    {
     "name": "stdout",
     "output_type": "stream",
     "text": [
      "C:\\Users\\jerem\\VirtualBox VMs\\Ubuntu\\Shared\\IRS_Project\\GitHub\\PRMLS_Project\\SystemCode\n"
     ]
    }
   ],
   "source": [
    "print(os.getcwd())"
   ]
  },
  {
   "cell_type": "markdown",
   "metadata": {
    "id": "5w2jAiKZOmgP"
   },
   "source": [
    "# **4.2 Prepare Fish Or Not Fish data for training and testing**"
   ]
  },
  {
   "cell_type": "code",
   "execution_count": 245,
   "metadata": {},
   "outputs": [],
   "source": [
    "labels = [\n",
    "    'Fish',\n",
    "    'NotFish'\n",
    "]\n",
    "# labels = [\n",
    "# '004_aquatic_fish_aquarium_fish',\n",
    "# '005_aquatic_fish_flatfish',\n",
    "# '006_aquatic_fish_ray',\n",
    "# '007_aquatic_fish_shark',\n",
    "# '008_aquatic_fish_trout',\n",
    "# '009_aquatic_mammals_beaver',\n",
    "# '010_aquatic_mammals_dolphin',\n",
    "# '011_aquatic_mammals_otter',\n",
    "# '012_aquatic_mammals_seal',\n",
    "# '013_aquatic_mammals_whale',\n",
    "# '014_flowers_orchid',\n",
    "# '015_flowers_poppy',\n",
    "# '016_flowers_rose',\n",
    "# '017_flowers_sunflower',\n",
    "# '018_flowers_tulip',\n",
    "# '019_food_containers_bottle',\n",
    "# '020_food_containers_bowl',\n",
    "# '021_food_containers_can',\n",
    "# '022_food_containers_cup',\n",
    "# '023_food_containers_plate',\n",
    "# '024_fruit_and_vegetables_apple',\n",
    "# '025_fruit_and_vegetables_mushroom',\n",
    "# '026_fruit_and_vegetables_orange',\n",
    "# '027_fruit_and_vegetables_pear',\n",
    "# '028_fruit_and_vegetables_sweet_pepper',\n",
    "# '029_household_electrical_devices_clock',\n",
    "# '030_household_electrical_devices_keyboard',\n",
    "# '031_household_electrical_devices_lamp',\n",
    "# '032_household_electrical_devices_telephone',\n",
    "# '033_household_electrical_devices_television',\n",
    "# '034_household_furniture_bed',\n",
    "# '035_household_furniture_chair',\n",
    "# '036_household_furniture_couch',\n",
    "# '037_household_furniture_table',\n",
    "# '038_household_furniture_wardrobe',\n",
    "# '039_insects_bee',\n",
    "# '040_insects_beetle',\n",
    "# '041_insects_butterfly',\n",
    "# '042_insects_caterpillar',\n",
    "# '043_insects_cockroach',\n",
    "# '044_large_carnivores_bear',\n",
    "# '045_large_carnivores_leopard',\n",
    "# '046_large_carnivores_lion',\n",
    "# '047_large_carnivores_tiger',\n",
    "# '048_large_carnivores_wolf',\n",
    "# '049_large_man_made_outdoor_things_bridge',\n",
    "# '050_large_man_made_outdoor_things_castle',\n",
    "# '051_large_man_made_outdoor_things_house',\n",
    "# '052_large_man_made_outdoor_things_road',\n",
    "# '053_large_man_made_outdoor_things_skyscraper',\n",
    "# '054_large_natural_outdoor_scenes_cloud',\n",
    "# '055_large_natural_outdoor_scenes_forest',\n",
    "# '056_large_natural_outdoor_scenes_mountain',\n",
    "# '057_large_natural_outdoor_scenes_plain',\n",
    "# '058_large_natural_outdoor_scenes_sea',\n",
    "# '059_large_omnivores_and_herbivores_camel',\n",
    "# '060_large_omnivores_and_herbivores_cattle',\n",
    "# '061_large_omnivores_and_herbivores_chimpanzee',\n",
    "# '062_large_omnivores_and_herbivores_elephant',\n",
    "# '063_large_omnivores_and_herbivores_kangaroo',\n",
    "# '064_medium_mammals_fox',\n",
    "# '065_medium_mammals_porcupine',\n",
    "# '066_medium_mammals_possum',\n",
    "# '067_medium_mammals_raccoon',\n",
    "# '068_medium_mammals_skunk',\n",
    "# '069_non_insect_invertebrates_crab',\n",
    "# '070_non_insect_invertebrates_lobster',\n",
    "# '071_non_insect_invertebrates_snail',\n",
    "# '072_non_insect_invertebrates_spider',\n",
    "# '073_non_insect_invertebrates_worm',\n",
    "# '074_people_baby',\n",
    "# '075_people_boy',\n",
    "# '076_people_girl',\n",
    "# '077_people_man',\n",
    "# '078_people_woman',\n",
    "# '079_reptiles_crocodile',\n",
    "# '080_reptiles_dinosaur',\n",
    "# '081_reptiles_lizard',\n",
    "# '082_reptiles_snake',\n",
    "# '083_reptiles_turtle',\n",
    "# '084_small_mammals_hamster',\n",
    "# '085_small_mammals_mouse',\n",
    "# '086_small_mammals_rabbit',\n",
    "# '087_small_mammals_shrew',\n",
    "# '088_small_mammals_squirrel',\n",
    "# '089_trees_maple_tree',\n",
    "# '090_trees_oak_tree',\n",
    "# '091_trees_palm_tree',\n",
    "# '092_trees_pine_tree',\n",
    "# '093_trees_willow_tree',\n",
    "# '094_vehicles_1_bicycle',\n",
    "# '095_vehicles_1_bus',\n",
    "# '096_vehicles_1_motorcycle',\n",
    "# '097_vehicles_1_pickup_truck',\n",
    "# '098_vehicles_1_train',\n",
    "# '099_vehicles_2_lawn_mower',\n",
    "# '100_vehicles_2_rocket',\n",
    "# '101_vehicles_2_streetcar',\n",
    "# '102_vehicles_2_tank',\n",
    "# '103_vehicles_2_tractor'    \n",
    "# ]"
   ]
  },
  {
   "cell_type": "code",
   "execution_count": 246,
   "metadata": {
    "id": "v3Ad2V0pO1TX"
   },
   "outputs": [
    {
     "name": "stderr",
     "output_type": "stream",
     "text": [
      "C:\\Users\\jerem\\AppData\\Local\\Temp\\ipykernel_32016\\2574802966.py:31: VisibleDeprecationWarning: Creating an ndarray from ragged nested sequences (which is a list-or-tuple of lists-or-tuples-or ndarrays with different lengths or shapes) is deprecated. If you meant to do this, you must specify 'dtype=object' when creating the ndarray.\n",
      "  return np.array(data)\n"
     ]
    }
   ],
   "source": [
    "image_size = 32\n",
    "\n",
    "def get_data(data_dir):\n",
    "    data = []\n",
    "    \n",
    "    for label in labels:\n",
    "        path = os.path.join(data_dir, label)\n",
    "        class_number = labels.index(label)\n",
    "        \n",
    "        for image in os.listdir(path):\n",
    "            try:\n",
    "                # Convert BGR to RGB\n",
    "                image_array = cv2.imread(os.path.join(path, image))[...,::-1]\n",
    "                # Resize image\n",
    "                resized_array = cv2.resize(image_array, (image_size, image_size))\n",
    "                resized_array = resized_array / 255.0\n",
    "                \n",
    "#                 image = tf.keras.utils.load_img(os.path.join(path, image), target_size = None, keep_aspect_ratio = True)\n",
    "\n",
    "#                 resized_array = tf.keras.utils.img_to_array(image)\n",
    "#                 resized_array = tf.keras.preprocessing.image.smart_resize(resized_array, size = (image_size, image_size))\n",
    "#                 # resized_array = tf.expand_dims(image_array, 0)\n",
    "#                 resized_array = resized_array / 255.0\n",
    "                \n",
    "                data.append([resized_array, class_number])\n",
    "                \n",
    "            \n",
    "            except Exception as e:\n",
    "                print(e)\n",
    "                \n",
    "    return np.array(data)\n",
    "    \n",
    "# Fetch Train and Test Data\n",
    "train = get_data(\"C:\\\\Users\\\\jerem\\\\VirtualBox VMs\\\\Ubuntu\\\\Shared\\\\IRS_Project\\\\GitHub\\\\PRMLS_Project\\\\SystemCode\\\\dataset\\\\FishOrNotFishReduced_1_CifarOnly2\\\\Train\")\n",
    "val = get_data(\"C:\\\\Users\\\\jerem\\\\VirtualBox VMs\\\\Ubuntu\\\\Shared\\\\IRS_Project\\\\GitHub\\\\PRMLS_Project\\\\SystemCode\\\\dataset\\\\FishOrNotFishReduced_1_CifarOnly2\\\\Test\")\n",
    "\n",
    "# train = get_data(\"C:\\\\Users\\\\jerem\\\\VirtualBox VMs\\\\Ubuntu\\\\Shared\\\\IRS_Project\\\\GitHub\\\\PRMLS_Project\\\\SystemCode\\\\dataset\\\\FishOrNotFish_CifarOnly\\\\Train\")\n",
    "# train = get_data(\"C:\\\\Users\\\\jerem\\\\VirtualBox VMs\\\\Ubuntu\\\\Shared\\\\IRS_Project\\\\GitHub\\\\PRMLS_Project\\\\SystemCode\\\\validate\\\\Cifar100MC\\\\Train\")\n",
    "# val = get_data(\"C:\\\\Users\\\\jerem\\\\VirtualBox VMs\\\\Ubuntu\\\\Shared\\\\IRS_Project\\\\GitHub\\\\PRMLS_Project\\\\SystemCode\\\\validate\\\\Cifar100MC\\\\Test\")\n",
    "\n",
    "#                                                                                 # Step 1\n",
    "# data            = cifar100.load_data(label_mode='coarse')\n",
    "# (trDat, trLbl)  = data[0]\n",
    "# (tsDat, tsLbl)  = data[1]\n",
    "\n",
    "#                                                                                 # Step 2\n",
    "# print(\"The shape of trDat is\", trDat.shape, \"and the type of trDat is\", trDat.dtype)\n",
    "# print(\"The shape of tsDat is\", tsDat.shape, \"and the type of tsDat is\", tsDat.dtype)\n",
    "# print(\"\")\n",
    "# print(\"The shape of trLbl is\", trLbl.shape, \"and the type of trLbl is\", trLbl.dtype)\n",
    "# print(\"The shape of tsLbl is\", tsLbl.shape, \"and the type of tsLbl is\", tsLbl.dtype)\n",
    "\n",
    "#                                                                                 # Step 3\n",
    "# trDat           = trDat.astype('float32')/255\n",
    "# tsDat           = tsDat.astype('float32')/255\n",
    "\n",
    "#                                                                                 # Step 4\n",
    "# imgrows         = trDat.shape[1]\n",
    "# imgclms         = trDat.shape[2]\n",
    "# channel         = trDat.shape[3]\n",
    "\n",
    "#                                                                                 # Step 5\n",
    "# trLbl           = to_categorical(trLbl)\n",
    "# tsLbl           = to_categorical(tsLbl)\n",
    "                               \n",
    "# num_classes     = tsLbl.shape[1]                                                # Step 6"
   ]
  },
  {
   "cell_type": "code",
   "execution_count": 247,
   "metadata": {},
   "outputs": [
    {
     "name": "stdout",
     "output_type": "stream",
     "text": [
      "(3000, 2)\n"
     ]
    }
   ],
   "source": [
    "print(train.shape)"
   ]
  },
  {
   "cell_type": "code",
   "execution_count": 248,
   "metadata": {},
   "outputs": [],
   "source": [
    "# print(val.shape)"
   ]
  },
  {
   "cell_type": "code",
   "execution_count": 249,
   "metadata": {},
   "outputs": [],
   "source": [
    "l = []\n",
    "\n",
    "for i in train:\n",
    "    # print(i[1])\n",
    "    l.append(labels[i[1]])\n",
    "    # if(i[1] == 0):\n",
    "    #     l.append(\"Fish\")\n",
    "    # else:\n",
    "    #     l.append(\"NotFish\")"
   ]
  },
  {
   "cell_type": "code",
   "execution_count": 250,
   "metadata": {},
   "outputs": [
    {
     "name": "stdout",
     "output_type": "stream",
     "text": [
      "3000\n"
     ]
    },
    {
     "name": "stderr",
     "output_type": "stream",
     "text": [
      "C:\\Users\\jerem\\anaconda3\\lib\\site-packages\\seaborn\\_decorators.py:36: FutureWarning: Pass the following variable as a keyword arg: x. From version 0.12, the only valid positional argument will be `data`, and passing other arguments without an explicit keyword will result in an error or misinterpretation.\n",
      "  warnings.warn(\n"
     ]
    },
    {
     "data": {
      "text/plain": [
       "<AxesSubplot:ylabel='count'>"
      ]
     },
     "execution_count": 250,
     "metadata": {},
     "output_type": "execute_result"
    },
    {
     "data": {
      "image/png": "[encoded data removed]",
      "text/plain": [
       "<Figure size 504x504 with 1 Axes>"
      ]
     },
     "metadata": {},
     "output_type": "display_data"
    }
   ],
   "source": [
    "print(len(l))\n",
    "\n",
    "sns.set_style('darkgrid')\n",
    "sns.countplot(l)"
   ]
  },
  {
   "cell_type": "code",
   "execution_count": 251,
   "metadata": {},
   "outputs": [
    {
     "data": {
      "text/plain": [
       "Text(0.5, 1.0, 'Fish')"
      ]
     },
     "execution_count": 251,
     "metadata": {},
     "output_type": "execute_result"
    },
    {
     "data": {
      "image/png": "[encoded data removed]",
      "text/plain": [
       "<Figure size 360x360 with 1 Axes>"
      ]
     },
     "metadata": {},
     "output_type": "display_data"
    }
   ],
   "source": [
    "plt.figure(figsize = (5, 5))\n",
    "plt.imshow(train[0][0])\n",
    "plt.title(labels[train[0][1]])"
   ]
  },
  {
   "cell_type": "code",
   "execution_count": 252,
   "metadata": {
    "scrolled": true
   },
   "outputs": [
    {
     "data": {
      "text/plain": [
       "Text(0.5, 1.0, 'NotFish')"
      ]
     },
     "execution_count": 252,
     "metadata": {},
     "output_type": "execute_result"
    },
    {
     "data": {
      "image/png": "[encoded data removed]",
      "text/plain": [
       "<Figure size 360x360 with 1 Axes>"
      ]
     },
     "metadata": {},
     "output_type": "display_data"
    }
   ],
   "source": [
    "plt.figure(figsize = (5, 5))\n",
    "plt.imshow(train[1501][0])\n",
    "plt.title(labels[train[1501][1]])"
   ]
  },
  {
   "cell_type": "markdown",
   "metadata": {
    "id": "DoP3WcoJW-jZ"
   },
   "source": [
    "## **5. Perform Pre-Processing and Augmentation**"
   ]
  },
  {
   "cell_type": "code",
   "execution_count": 253,
   "metadata": {},
   "outputs": [],
   "source": [
    "x_train = []\n",
    "y_train = []\n",
    "\n",
    "x_val = []\n",
    "y_val = []\n",
    "\n",
    "for feature, label in train:\n",
    "    # print(\"Train Feature: \", feature)\n",
    "    # print(\"Train Label: \", label)\n",
    "    x_train.append(feature)\n",
    "    y_train.append(label)\n",
    "    \n",
    "for feature, label in val:\n",
    "    # print(\"Test Feature: \", feature)\n",
    "    # print(\"Test Label: \", label)\n",
    "    x_val.append(feature)\n",
    "    y_val.append(label)"
   ]
  },
  {
   "cell_type": "code",
   "execution_count": 254,
   "metadata": {},
   "outputs": [],
   "source": [
    "# Normalization\n",
    "\n",
    "# From CB\n",
    "# x_train = np.array(x_train)\n",
    "# y_train = np.array(y_train)\n",
    "# from sklearn.model_selection import train_test_split\n",
    "# x_train, x_val, y_train, y_val = train_test_split(x_train, y_train, random_state = 0)\n",
    "\n",
    "\n",
    "x_train = np.array(x_train) / 255.0\n",
    "x_val = np.array(x_val) / 255.0\n",
    "\n",
    "# y_train = np.array(y_train) / 255\n",
    "# y_test = np.array(y_test) / 255"
   ]
  },
  {
   "cell_type": "code",
   "execution_count": 255,
   "metadata": {},
   "outputs": [
    {
     "name": "stdout",
     "output_type": "stream",
     "text": [
      "(3000, 32, 32, 3)\n",
      "(600, 32, 32, 3)\n"
     ]
    }
   ],
   "source": [
    "print(x_train.shape)\n",
    "print(x_val.shape)\n"
   ]
  },
  {
   "cell_type": "code",
   "execution_count": 256,
   "metadata": {},
   "outputs": [],
   "source": [
    "# From CB\n",
    "# x_train = x_train / 255.0\n",
    "\n",
    "x_train.reshape(-1, image_size, image_size, 1)\n",
    "y_train = np.array(y_train)\n",
    "\n",
    "# y_train = np.array(y_train, dtype = \"int32\")\n",
    "# y_train = y_train.reshape(-1, 2)\n",
    "\n",
    "# From CB\n",
    "# x_val = x_val / 255.0\n",
    "\n",
    "x_val.reshape(-1, image_size, image_size, 1)\n",
    "y_val = np.array(y_val)\n",
    "# y_val = np.array(y_val, dtype = \"int32\")\n",
    "# y_val = y_val.reshape(-1, 2)"
   ]
  },
  {
   "cell_type": "code",
   "execution_count": 257,
   "metadata": {},
   "outputs": [
    {
     "name": "stdout",
     "output_type": "stream",
     "text": [
      "(3000,)\n",
      "(600,)\n"
     ]
    }
   ],
   "source": [
    "print(y_train.shape)\n",
    "print(y_val.shape)"
   ]
  },
  {
   "cell_type": "code",
   "execution_count": 258,
   "metadata": {},
   "outputs": [],
   "source": [
    "datagen = ImageDataGenerator(\n",
    "        featurewise_center=False,  # set input mean to 0 over the dataset\n",
    "        samplewise_center=False,  # set each sample mean to 0\n",
    "        featurewise_std_normalization=False,  # divide inputs by std of the dataset\n",
    "        samplewise_std_normalization=False,  # divide each input by its std\n",
    "        zca_whitening=False,  # apply ZCA whitening\n",
    "        rotation_range = 30,  # randomly rotate images in the range (degrees, 0 to 180)\n",
    "        zoom_range = 0.2, # Randomly zoom image \n",
    "        width_shift_range=0.1,  # randomly shift images horizontally (fraction of total width)\n",
    "        height_shift_range=0.1,  # randomly shift images vertically (fraction of total height)\n",
    "        horizontal_flip = True,  # randomly flip images\n",
    "        vertical_flip=False)  # randomly flip images\n",
    "\n",
    "\n",
    "datagen.fit(x_train)"
   ]
  },
  {
   "cell_type": "markdown",
   "metadata": {},
   "source": [
    "## **6. Define the Model**"
   ]
  },
  {
   "cell_type": "code",
   "execution_count": 259,
   "metadata": {
    "id": "0HMOes0kXCPd",
    "scrolled": true
   },
   "outputs": [
    {
     "name": "stdout",
     "output_type": "stream",
     "text": [
      "Model: \"sequential_14\"\n",
      "_________________________________________________________________\n",
      " Layer (type)                Output Shape              Param #   \n",
      "=================================================================\n",
      " conv2d_84 (Conv2D)          (None, 32, 32, 128)       3584      \n",
      "                                                                 \n",
      " conv2d_85 (Conv2D)          (None, 32, 32, 128)       147584    \n",
      "                                                                 \n",
      " max_pooling2d_42 (MaxPoolin  (None, 16, 16, 128)      0         \n",
      " g2D)                                                            \n",
      "                                                                 \n",
      " dropout_56 (Dropout)        (None, 16, 16, 128)       0         \n",
      "                                                                 \n",
      " conv2d_86 (Conv2D)          (None, 16, 16, 256)       295168    \n",
      "                                                                 \n",
      " conv2d_87 (Conv2D)          (None, 16, 16, 256)       590080    \n",
      "                                                                 \n",
      " max_pooling2d_43 (MaxPoolin  (None, 8, 8, 256)        0         \n",
      " g2D)                                                            \n",
      "                                                                 \n",
      " dropout_57 (Dropout)        (None, 8, 8, 256)         0         \n",
      "                                                                 \n",
      " conv2d_88 (Conv2D)          (None, 8, 8, 512)         1180160   \n",
      "                                                                 \n",
      " conv2d_89 (Conv2D)          (None, 6, 6, 512)         2359808   \n",
      "                                                                 \n",
      " max_pooling2d_44 (MaxPoolin  (None, 3, 3, 512)        0         \n",
      " g2D)                                                            \n",
      "                                                                 \n",
      " dropout_58 (Dropout)        (None, 3, 3, 512)         0         \n",
      "                                                                 \n",
      " flatten_14 (Flatten)        (None, 4608)              0         \n",
      "                                                                 \n",
      " dense_28 (Dense)            (None, 512)               2359808   \n",
      "                                                                 \n",
      " dropout_59 (Dropout)        (None, 512)               0         \n",
      "                                                                 \n",
      " dense_29 (Dense)            (None, 2)                 1026      \n",
      "                                                                 \n",
      "=================================================================\n",
      "Total params: 6,937,218\n",
      "Trainable params: 6,937,218\n",
      "Non-trainable params: 0\n",
      "_________________________________________________________________\n"
     ]
    }
   ],
   "source": [
    "seed = 29\n",
    "np.random.seed(seed)\n",
    "\n",
    "optmz       = optimizers.RMSprop(learning_rate=0.0001)                                     # Step 1\n",
    "modelname   = 'Hybrid_Cifar100'                                                          # Step 2\n",
    "\n",
    "image_height = image_size  \n",
    "image_width = image_size\n",
    "channel = 3\n",
    "                                                                                # Step 3\n",
    "def createModel():\n",
    "    model = Sequential()\n",
    "\n",
    "    model.add(Conv2D(128, (3, 3), kernel_regularizer = l2(0.0001), input_shape = (image_height, image_width, channel), padding = 'same', activation = 'relu'))\n",
    "    model.add(Conv2D(128, (3, 3), padding = 'same', activation = 'relu'))\n",
    "    model.add(MaxPooling2D(pool_size = (2, 2)))\n",
    "    model.add(Dropout(0.5))\n",
    "    \n",
    "    model.add(Conv2D(256, (3, 3), kernel_regularizer = l2(0.0001), padding = 'same', activation = 'relu'))\n",
    "    model.add(Conv2D(256, (3, 3), padding = 'same', activation = 'relu'))\n",
    "    model.add(MaxPooling2D(pool_size = (2, 2)))\n",
    "    model.add(Dropout(0.5))\n",
    "    \n",
    "    model.add(Conv2D(512, (3, 3), kernel_regularizer = l2(0.0001), padding = 'same', activation = 'relu'))\n",
    "    model.add(Conv2D(512, (3, 3), activation = 'relu'))\n",
    "    model.add(MaxPooling2D(pool_size = (2, 2)))\n",
    "    model.add(Dropout(0.5))\n",
    "    \n",
    "#     model.add(Conv2D(256, (3, 3), kernel_regularizer = l2(0.0001), padding = 'same', activation = 'relu'))\n",
    "#     model.add(MaxPooling2D(pool_size = (2, 2)))\n",
    "#     model.add(Dropout(0.5))\n",
    "    \n",
    "#     model.add(Conv2D(512, (3, 3), kernel_regularizer = l2(0.0001), padding = 'same', activation = 'relu'))\n",
    "#     model.add(MaxPooling2D(pool_size = (2, 2)))\n",
    "#     model.add(Dropout(0.5))\n",
    "    \n",
    "#     model.add(Conv2D(1024, (3, 3), kernel_regularizer = l2(0.0001), padding = 'same', activation = 'relu'))\n",
    "#     model.add(MaxPooling2D(pool_size = (2, 2)))\n",
    "#     model.add(Dropout(0.5))\n",
    "    \n",
    "    model.add(Flatten())\n",
    "    model.add(Dense(512, activation = 'relu'))\n",
    "    model.add(Dropout(0.5))\n",
    "#     model.add(Dense(100, activation = 'relu'))\n",
    "#     model.add(Dropout(0.5))\n",
    "    model.add(Dense(len(labels), activation = 'softmax'))\n",
    "\n",
    "    # model.compile(loss = 'binary_crossentropy', optimizer = optmz, metrics = ['accuracy'])\n",
    "    model.compile(loss = tf.keras.losses.SparseCategoricalCrossentropy(from_logits = True), optimizer = optmz, metrics = ['accuracy'])\n",
    "\n",
    "    return model\n",
    "\n",
    "                                                                                # Step 4\n",
    "model       = createModel()   # This is meant for training\n",
    "modelGo     = createModel()   # This is used for final testing\n",
    "\n",
    "model.summary()                                                                 # Step 5"
   ]
  },
  {
   "cell_type": "markdown",
   "metadata": {
    "id": "DlquJEaFZxV9"
   },
   "source": [
    "\n",
    "\n",
    "## **7. Create the callbacks to be applied during training**\n",
    "---\n",
    "* Step 1: Create a callback to save the model from an epoch when validation accuracy is the highest\n",
    "* Step 2: Create a callback to save the training loss, training accuracy, validation loss and validation accuracy of each epoch into a csv file\n",
    "* Step 3: Put the two callbacks objects into a list"
   ]
  },
  {
   "cell_type": "code",
   "execution_count": 260,
   "metadata": {
    "id": "9-a1LSCbahKy",
    "scrolled": true
   },
   "outputs": [
    {
     "name": "stdout",
     "output_type": "stream",
     "text": [
      "Callbacks created:\n",
      "<keras.callbacks.ModelCheckpoint object at 0x0000021264CE2E80>\n",
      "<keras.callbacks.CSVLogger object at 0x0000021264CE21C0>\n",
      "\n",
      "Path to model: C:\\Users\\jerem\\VirtualBox VMs\\Ubuntu\\Shared\\IRS_Project\\GitHub\\PRMLS_Project\\SystemCode\\models\\Hybrid_Cifar100_202210011732.hdf5\n",
      "Path to log:   C:\\Users\\jerem\\VirtualBox VMs\\Ubuntu\\Shared\\IRS_Project\\GitHub\\PRMLS_Project\\SystemCode\\models\\Hybrid_Cifar100_202210011732.csv\n"
     ]
    }
   ],
   "source": [
    "                                                                                # Step 1\n",
    "folderpath      = \"C:\\\\Users\\\\jerem\\\\VirtualBox VMs\\\\Ubuntu\\\\Shared\\\\IRS_Project\\\\GitHub\\\\PRMLS_Project\\\\SystemCode\\\\models\\\\\"# '/content/gdrive/My Drive/iss/prumls/colab/'\n",
    "filepath        = folderpath + modelname + \"_\" + filename + \".hdf5\"\n",
    "checkpoint      = ModelCheckpoint(filepath, \n",
    "                                  monitor='val_accuracy', \n",
    "                                  verbose=0, \n",
    "                                  save_best_only=True, \n",
    "                                  mode='max')\n",
    "\n",
    "csv_logger      = CSVLogger(folderpath + modelname + \"_\" + filename + \".csv\")                       # Step 2\n",
    "callbacks_list  = [checkpoint,csv_logger]                                       # Step 3\n",
    "\n",
    "print(\"Callbacks created:\")\n",
    "print(callbacks_list[0])\n",
    "print(callbacks_list[1])\n",
    "print('')\n",
    "print(\"Path to model:\", filepath)\n",
    "print(\"Path to log:  \", folderpath + modelname + \"_\" + filename + \".csv\")"
   ]
  },
  {
   "cell_type": "markdown",
   "metadata": {
    "id": "1mKgjQsmfOBz"
   },
   "source": [
    "## **8. Train the deep learning model**\n",
    "___"
   ]
  },
  {
   "cell_type": "code",
   "execution_count": 261,
   "metadata": {
    "id": "23lUNwpGfV0A",
    "scrolled": true
   },
   "outputs": [
    {
     "name": "stdout",
     "output_type": "stream",
     "text": [
      "Epoch 1/50\n"
     ]
    },
    {
     "name": "stderr",
     "output_type": "stream",
     "text": [
      "C:\\Users\\jerem\\anaconda3\\lib\\site-packages\\keras\\backend.py:5582: UserWarning: \"`sparse_categorical_crossentropy` received `from_logits=True`, but the `output` argument was produced by a Softmax activation and thus does not represent logits. Was this intended?\n",
      "  output, from_logits = _get_logits(\n"
     ]
    },
    {
     "name": "stdout",
     "output_type": "stream",
     "text": [
      "24/24 [==============================] - 3s 53ms/step - loss: 0.7383 - accuracy: 0.4907 - val_loss: 0.7331 - val_accuracy: 0.5000\n",
      "Epoch 2/50\n",
      "24/24 [==============================] - 1s 45ms/step - loss: 0.7289 - accuracy: 0.5150 - val_loss: 0.7228 - val_accuracy: 0.5733\n",
      "Epoch 3/50\n",
      "24/24 [==============================] - 1s 45ms/step - loss: 0.7184 - accuracy: 0.5533 - val_loss: 0.7004 - val_accuracy: 0.6367\n",
      "Epoch 4/50\n",
      "24/24 [==============================] - 1s 42ms/step - loss: 0.6921 - accuracy: 0.5797 - val_loss: 0.7313 - val_accuracy: 0.5583\n",
      "Epoch 5/50\n",
      "24/24 [==============================] - 1s 42ms/step - loss: 0.7016 - accuracy: 0.5697 - val_loss: 0.7581 - val_accuracy: 0.5433\n",
      "Epoch 6/50\n",
      "24/24 [==============================] - 1s 42ms/step - loss: 0.6764 - accuracy: 0.6023 - val_loss: 0.7153 - val_accuracy: 0.5500\n",
      "Epoch 7/50\n",
      "24/24 [==============================] - 1s 42ms/step - loss: 0.6689 - accuracy: 0.6060 - val_loss: 0.6371 - val_accuracy: 0.6300\n",
      "Epoch 8/50\n",
      "24/24 [==============================] - 1s 42ms/step - loss: 0.6549 - accuracy: 0.6267 - val_loss: 0.7149 - val_accuracy: 0.6067\n",
      "Epoch 9/50\n",
      "24/24 [==============================] - 1s 42ms/step - loss: 0.6584 - accuracy: 0.6280 - val_loss: 0.6791 - val_accuracy: 0.6100\n",
      "Epoch 10/50\n",
      "24/24 [==============================] - 1s 45ms/step - loss: 0.6497 - accuracy: 0.6250 - val_loss: 0.6330 - val_accuracy: 0.6617\n",
      "Epoch 11/50\n",
      "24/24 [==============================] - 1s 42ms/step - loss: 0.6465 - accuracy: 0.6310 - val_loss: 0.6316 - val_accuracy: 0.6583\n",
      "Epoch 12/50\n",
      "24/24 [==============================] - 1s 46ms/step - loss: 0.6324 - accuracy: 0.6460 - val_loss: 0.6163 - val_accuracy: 0.6717\n",
      "Epoch 13/50\n",
      "24/24 [==============================] - 1s 45ms/step - loss: 0.6384 - accuracy: 0.6520 - val_loss: 0.6129 - val_accuracy: 0.6733\n",
      "Epoch 14/50\n",
      "24/24 [==============================] - 1s 45ms/step - loss: 0.6249 - accuracy: 0.6510 - val_loss: 0.6052 - val_accuracy: 0.6833\n",
      "Epoch 15/50\n",
      "24/24 [==============================] - 1s 45ms/step - loss: 0.6263 - accuracy: 0.6577 - val_loss: 0.5938 - val_accuracy: 0.6900\n",
      "Epoch 16/50\n",
      "24/24 [==============================] - 1s 42ms/step - loss: 0.6054 - accuracy: 0.6750 - val_loss: 0.6028 - val_accuracy: 0.6667\n",
      "Epoch 17/50\n",
      "24/24 [==============================] - 1s 45ms/step - loss: 0.6014 - accuracy: 0.6697 - val_loss: 0.5781 - val_accuracy: 0.6933\n",
      "Epoch 18/50\n",
      "24/24 [==============================] - 1s 42ms/step - loss: 0.5997 - accuracy: 0.6743 - val_loss: 0.5995 - val_accuracy: 0.6783\n",
      "Epoch 19/50\n",
      "24/24 [==============================] - 1s 45ms/step - loss: 0.5845 - accuracy: 0.6930 - val_loss: 0.5610 - val_accuracy: 0.7200\n",
      "Epoch 20/50\n",
      "24/24 [==============================] - 1s 42ms/step - loss: 0.5812 - accuracy: 0.6913 - val_loss: 0.5728 - val_accuracy: 0.6917\n",
      "Epoch 21/50\n",
      "24/24 [==============================] - 1s 42ms/step - loss: 0.5842 - accuracy: 0.6990 - val_loss: 0.5565 - val_accuracy: 0.7067\n",
      "Epoch 22/50\n",
      "24/24 [==============================] - 1s 42ms/step - loss: 0.5751 - accuracy: 0.7030 - val_loss: 0.6059 - val_accuracy: 0.6817\n",
      "Epoch 23/50\n",
      "24/24 [==============================] - 1s 43ms/step - loss: 0.5556 - accuracy: 0.7143 - val_loss: 0.5542 - val_accuracy: 0.7117\n",
      "Epoch 24/50\n",
      "24/24 [==============================] - 1s 42ms/step - loss: 0.5665 - accuracy: 0.7133 - val_loss: 0.5935 - val_accuracy: 0.6767\n",
      "Epoch 25/50\n",
      "24/24 [==============================] - 1s 42ms/step - loss: 0.5552 - accuracy: 0.7180 - val_loss: 0.5566 - val_accuracy: 0.7167\n",
      "Epoch 26/50\n",
      "24/24 [==============================] - 1s 45ms/step - loss: 0.5565 - accuracy: 0.7230 - val_loss: 0.5386 - val_accuracy: 0.7300\n",
      "Epoch 27/50\n",
      "24/24 [==============================] - 1s 43ms/step - loss: 0.5325 - accuracy: 0.7343 - val_loss: 0.5322 - val_accuracy: 0.7300\n",
      "Epoch 28/50\n",
      "24/24 [==============================] - 1s 42ms/step - loss: 0.5441 - accuracy: 0.7283 - val_loss: 0.5381 - val_accuracy: 0.7167\n",
      "Epoch 29/50\n",
      "24/24 [==============================] - 1s 42ms/step - loss: 0.5268 - accuracy: 0.7373 - val_loss: 0.5521 - val_accuracy: 0.7167\n",
      "Epoch 30/50\n",
      "24/24 [==============================] - 1s 42ms/step - loss: 0.5239 - accuracy: 0.7453 - val_loss: 0.6208 - val_accuracy: 0.6983\n",
      "Epoch 31/50\n",
      "24/24 [==============================] - 1s 42ms/step - loss: 0.5277 - accuracy: 0.7390 - val_loss: 0.5338 - val_accuracy: 0.7250\n",
      "Epoch 32/50\n",
      "24/24 [==============================] - 1s 42ms/step - loss: 0.5157 - accuracy: 0.7430 - val_loss: 0.6440 - val_accuracy: 0.6633\n",
      "Epoch 33/50\n",
      "24/24 [==============================] - 1s 45ms/step - loss: 0.5130 - accuracy: 0.7463 - val_loss: 0.5318 - val_accuracy: 0.7333\n",
      "Epoch 34/50\n",
      "24/24 [==============================] - 1s 42ms/step - loss: 0.4997 - accuracy: 0.7520 - val_loss: 0.5227 - val_accuracy: 0.7167\n",
      "Epoch 35/50\n",
      "24/24 [==============================] - 1s 42ms/step - loss: 0.5094 - accuracy: 0.7480 - val_loss: 0.5175 - val_accuracy: 0.7267\n",
      "Epoch 36/50\n",
      "24/24 [==============================] - 1s 42ms/step - loss: 0.5011 - accuracy: 0.7607 - val_loss: 0.5369 - val_accuracy: 0.7167\n",
      "Epoch 37/50\n",
      "24/24 [==============================] - 1s 42ms/step - loss: 0.4898 - accuracy: 0.7613 - val_loss: 0.5374 - val_accuracy: 0.7117\n",
      "Epoch 38/50\n",
      "24/24 [==============================] - 1s 46ms/step - loss: 0.4961 - accuracy: 0.7537 - val_loss: 0.5263 - val_accuracy: 0.7500\n",
      "Epoch 39/50\n",
      "24/24 [==============================] - 1s 42ms/step - loss: 0.4880 - accuracy: 0.7650 - val_loss: 0.5223 - val_accuracy: 0.7333\n",
      "Epoch 40/50\n",
      "24/24 [==============================] - 1s 45ms/step - loss: 0.4753 - accuracy: 0.7730 - val_loss: 0.4962 - val_accuracy: 0.7583\n",
      "Epoch 41/50\n",
      "24/24 [==============================] - 1s 42ms/step - loss: 0.4841 - accuracy: 0.7710 - val_loss: 0.5155 - val_accuracy: 0.7417\n",
      "Epoch 42/50\n",
      "24/24 [==============================] - 1s 43ms/step - loss: 0.4739 - accuracy: 0.7763 - val_loss: 0.5002 - val_accuracy: 0.7517\n",
      "Epoch 43/50\n",
      "24/24 [==============================] - 1s 43ms/step - loss: 0.4614 - accuracy: 0.7847 - val_loss: 0.5037 - val_accuracy: 0.7583\n",
      "Epoch 44/50\n",
      "24/24 [==============================] - 1s 43ms/step - loss: 0.4817 - accuracy: 0.7783 - val_loss: 0.5056 - val_accuracy: 0.7517\n",
      "Epoch 45/50\n",
      "24/24 [==============================] - 1s 43ms/step - loss: 0.4540 - accuracy: 0.7850 - val_loss: 0.5389 - val_accuracy: 0.7317\n",
      "Epoch 46/50\n",
      "24/24 [==============================] - 1s 42ms/step - loss: 0.4568 - accuracy: 0.7853 - val_loss: 0.4950 - val_accuracy: 0.7450\n",
      "Epoch 47/50\n",
      "24/24 [==============================] - 1s 46ms/step - loss: 0.4567 - accuracy: 0.7857 - val_loss: 0.4785 - val_accuracy: 0.7617\n",
      "Epoch 48/50\n",
      "24/24 [==============================] - 1s 46ms/step - loss: 0.4563 - accuracy: 0.7920 - val_loss: 0.4891 - val_accuracy: 0.7683\n",
      "Epoch 49/50\n",
      "24/24 [==============================] - 1s 42ms/step - loss: 0.4473 - accuracy: 0.7940 - val_loss: 0.5004 - val_accuracy: 0.7367\n",
      "Epoch 50/50\n",
      "24/24 [==============================] - 1s 46ms/step - loss: 0.4357 - accuracy: 0.7973 - val_loss: 0.5150 - val_accuracy: 0.7717\n"
     ]
    }
   ],
   "source": [
    "history = model.fit(x_train,                            # Training data\n",
    "          y_train,                            # Training label\n",
    "          validation_data = (x_val, y_val),   # Validation data and label\n",
    "          epochs = 50,                       # The amount of epochs to be trained\n",
    "          batch_size = 128,                   \n",
    "          shuffle = True,                     # To shuffle the training data\n",
    "          callbacks = callbacks_list)         # Callbacks to execute the checkpoints\n",
    "\n",
    "\n",
    "# datagen.flow(x_train, y_train, batch_size=32,\n",
    "#          subset='training'),\n",
    "#          validation_data=datagen.flow(x_train, y_train,\n",
    "#          batch_size=8, subset='validation')\n",
    "\n",
    "# history = model.fit(x_train,                            # Training data\n",
    "#           validation_data = x_val,   # Validation data and label\n",
    "#           epochs = 50,                       # The amount of epochs to be trained\n",
    "#           batch_size = 32,                   \n",
    "#           shuffle = True,                     # To shuffle the training data\n",
    "#           callbacks = callbacks_list)         # Callbacks to execute the checkpoints"
   ]
  },
  {
   "cell_type": "markdown",
   "metadata": {},
   "source": [
    "## **9. Evaluate Results**\n",
    "---"
   ]
  },
  {
   "cell_type": "code",
   "execution_count": 262,
   "metadata": {},
   "outputs": [
    {
     "data": {
      "image/png": "[encoded data removed]",
      "text/plain": [
       "<Figure size 1080x1080 with 2 Axes>"
      ]
     },
     "metadata": {},
     "output_type": "display_data"
    }
   ],
   "source": [
    "acc = history.history['accuracy']\n",
    "val_acc = history.history['val_accuracy']\n",
    "loss = history.history['loss']\n",
    "val_loss = history.history['val_loss']\n",
    "\n",
    "epochs_range = range(50)\n",
    "\n",
    "plt.figure(figsize=(15, 15))\n",
    "plt.subplot(2, 2, 1)\n",
    "plt.plot(epochs_range, acc, label = 'Training Accuracy')\n",
    "plt.plot(epochs_range, val_acc, label = 'Validation Accuracy')\n",
    "plt.legend(loc = 'lower right')\n",
    "plt.title('Training and Validation Accuracy')\n",
    "\n",
    "plt.subplot(2, 2, 2)\n",
    "plt.plot(epochs_range, loss, label = 'Training Loss')\n",
    "plt.plot(epochs_range, val_loss, label = 'Validation Loss')\n",
    "plt.legend(loc = 'upper right')\n",
    "plt.title('Training and Validation Loss')\n",
    "plt.show()\n"
   ]
  },
  {
   "cell_type": "markdown",
   "metadata": {
    "id": "0aOCUljp5qq4"
   },
   "source": [
    "## **10. Review classification metrics**\n",
    "---\n"
   ]
  },
  {
   "cell_type": "code",
   "execution_count": 263,
   "metadata": {},
   "outputs": [
    {
     "name": "stdout",
     "output_type": "stream",
     "text": [
      "(600, 32, 32, 3)\n",
      "(600,)\n"
     ]
    }
   ],
   "source": [
    "print(x_val.shape)\n",
    "print(y_val.shape)"
   ]
  },
  {
   "cell_type": "code",
   "execution_count": 264,
   "metadata": {
    "id": "2tI4hBmk5uRh"
   },
   "outputs": [
    {
     "name": "stdout",
     "output_type": "stream",
     "text": [
      "19/19 [==============================] - 1s 23ms/step\n",
      "Prediction completes.\n"
     ]
    }
   ],
   "source": [
    "modelGo.load_weights(filepath)\n",
    "modelGo.compile(loss = tf.keras.losses.SparseCategoricalCrossentropy(from_logits=True), \n",
    "                optimizer = optmz, \n",
    "                metrics=['accuracy'])\n",
    "\n",
    "# predicts    = modelGo.predict(x_val)   \n",
    "predicts = np.argmax(model.predict(x_val), axis=-1)\n",
    "# Step 2\n",
    "print(\"Prediction completes.\")\n",
    "\n",
    "# predictions = model.predict(x_test)\n",
    "# predictions = predictions.reshape(1, -1)[0]\n",
    "# Step 1\n",
    "# labelname   = ['beaver', 'dolphin', 'otter', 'seal', 'whale',\n",
    "# 'aquarium fish', 'flatfish', 'ray', 'shark', 'trout',\n",
    "# 'orchids', 'poppies', 'roses', 'sunflowers', 'tulips',\n",
    "# 'bottles', 'bowls', 'cans', 'cups', 'plates',\n",
    "# 'apples', 'mushrooms', 'oranges', 'pears', 'sweet peppers',\n",
    "# 'clock', 'computer keyboard', 'lamp', 'telephone', 'television',\n",
    "# 'bed', 'chair', 'couch', 'table', 'wardrobe',\n",
    "# 'bee', 'beetle', 'butterfly', 'caterpillar', 'cockroach',\n",
    "# 'bear', 'leopard', 'lion', 'tiger', 'wolf',\n",
    "# 'bridge', 'castle', 'house', 'road', 'skyscraper',\n",
    "# 'cloud', 'forest', 'mountain', 'plain', 'sea',\n",
    "# 'camel', 'cattle', 'chimpanzee', 'elephant', 'kangaroo',\n",
    "# 'fox', 'porcupine', 'possum', 'raccoon', 'skunk',\n",
    "# 'crab', 'lobster', 'snail', 'spider', 'worm',\n",
    "# 'baby', 'boy', 'girl', 'man', 'woman',\n",
    "# 'crocodile', 'dinosaur', 'lizard', 'snake', 'turtle',\n",
    "# 'hamster', 'mouse', 'rabbit', 'shrew', 'squirrel',\n",
    "# 'maple', 'oak', 'palm', 'pine', 'willow',\n",
    "# 'bicycle', 'bus', 'motorcycle', 'pickup truck', 'train',\n",
    "# 'lawn-mower', 'rocket', 'streetcar', 'tank', 'tractor']\n",
    "\n",
    "# labelname = ['aquatic mammals',\n",
    "# 'fish',\n",
    "# 'flowers',\n",
    "# 'food containers',\n",
    "# 'fruit and vegetables',\n",
    "# 'household electrical devices',\n",
    "# 'household furniture',\n",
    "# 'insects',\n",
    "# 'large carnivores',\n",
    "# 'large man-made outdoor things',\n",
    "# 'large natural outdoor scenes',\n",
    "# 'large omnivores and herbivores',\n",
    "# 'medium-sized mammals',\n",
    "# 'non-insect invertebrates',\n",
    "# 'people',\n",
    "# 'reptiles',\n",
    "# 'small mammals',\n",
    "# 'trees',\n",
    "# 'vehicles 1',\n",
    "# 'vehicles 2'\n",
    "# ]\n",
    "                                                                                # Step 2\n"
   ]
  },
  {
   "cell_type": "code",
   "execution_count": 265,
   "metadata": {},
   "outputs": [
    {
     "name": "stdout",
     "output_type": "stream",
     "text": [
      "(600,)\n"
     ]
    }
   ],
   "source": [
    "print(predicts.shape)"
   ]
  },
  {
   "cell_type": "code",
   "execution_count": 266,
   "metadata": {},
   "outputs": [
    {
     "name": "stdout",
     "output_type": "stream",
     "text": [
      "Predicts :  [0 0 0 0 0 0 0 0 0 0 0 0 0 0 0 0 0 0 0 0 0 0 0 0 0 1 0 0 0 0 0 0 0 0 0 0 0\n",
      " 0 0 0 0 0 0 0 0 1 0 0 0 0 0 1 0 0 0 0 0 0 1 0 0 0 0 0 0 1 0 1 0 0 0 0 0 0\n",
      " 0 0 0 0 0 1 0 0 0 0 0 0 0 0 0 0 0 0 0 0 0 0 0 1 0 0 0 0 1 0 0 0 0 0 0 0 1\n",
      " 0 0 1 0 0 0 0 0 0 1 0 0 1 0 0 0 0 0 1 1 1 1 0 0 0 1 0 0 0 1 0 1 0 1 0 0 0\n",
      " 0 1 0 1 0 0 0 0 0 0 1 1 0 0 1 0 0 1 1 0 0 0 0 0 0 0 0 0 0 0 0 0 0 0 0 1 0\n",
      " 0 1 0 0 0 0 0 0 0 1 0 0 0 0 0 1 0 0 0 0 0 0 0 0 0 0 0 0 0 0 0 0 0 0 0 0 1\n",
      " 0 0 0 0 0 0 0 0 0 0 0 0 0 0 0 0 0 0 0 0 0 0 0 1 0 0 0 0 0 0 1 0 0 0 0 0 0\n",
      " 1 0 0 1 1 0 0 0 0 0 1 0 0 0 0 0 0 0 0 1 0 0 1 0 0 0 0 0 0 1 0 0 0 0 0 0 0\n",
      " 0 0 0 0 0 1 1 1 1 1 1 1 1 1 1 1 1 1 1 1 1 1 1 0 0 1 1 1 1 1 1 0 1 0 1 1 1\n",
      " 1 1 1 1 1 0 0 1 1 1 1 1 1 1 1 1 0 0 1 1 1 1 1 1 1 0 1 1 1 1 1 1 1 1 1 1 1\n",
      " 1 0 1 1 0 1 1 1 0 1 1 0 0 1 1 1 1 1 0 1 1 1 0 1 0 1 1 1 1 1 1 1 1 1 1 1 0\n",
      " 0 1 1 1 0 1 1 0 0 1 1 0 0 1 0 0 1 1 0 1 0 1 0 1 0 1 1 1 0 1 1 1 1 1 0 0 1\n",
      " 1 1 1 0 1 0 0 0 0 1 1 0 0 1 0 1 1 0 1 1 1 1 1 1 1 1 0 1 0 1 1 1 1 1 1 0 0\n",
      " 1 1 0 0 1 0 1 1 1 1 1 1 0 1 1 1 0 0 0 1 1 1 0 1 1 1 1 0 0 1 1 1 0 1 1 1 0\n",
      " 0 1 0 1 1 0 1 0 0 1 0 1 1 1 0 1 1 0 0 0 0 1 0 0 0 1 0 1 1 1 1 1 0 1 0 1 0\n",
      " 0 1 1 1 1 0 0 0 1 0 1 1 0 0 1 0 1 1 1 1 1 0 0 0 1 1 1 0 0 1 1 0 1 0 0 0 1\n",
      " 1 1 1 1 1 1 0 1]\n",
      "              precision    recall  f1-score   support\n",
      "\n",
      "           0       0.73      0.86      0.79       300\n",
      "           1       0.83      0.68      0.75       300\n",
      "\n",
      "    accuracy                           0.77       600\n",
      "   macro avg       0.78      0.77      0.77       600\n",
      "weighted avg       0.78      0.77      0.77       600\n",
      "\n"
     ]
    }
   ],
   "source": [
    "# val_pred = np.argmax(model.predict(x_val), axis=-1)\n",
    "print(\"Predicts : \", predicts)\n",
    "# predicts = predicts.flatten()\n",
    "# print(predicts.round(2))\n",
    "\n",
    "# predicts = predicts.reshape(1, -1)[0]\n",
    "# preds = np.argmax(abs(predicts))\n",
    "\n",
    "# print(y_val.shape)\n",
    "\n",
    "# print(\"Preds: \", preds)\n",
    "print(classification_report(y_val, predicts))# target_names = ['Fish (Class 0)','Not Fish (Class 1)']))"
   ]
  },
  {
   "cell_type": "markdown",
   "metadata": {
    "id": "PWoTz-bLug3X"
   },
   "source": [
    "## **13. Save the model plot**\n",
    "---"
   ]
  },
  {
   "cell_type": "code",
   "execution_count": 267,
   "metadata": {
    "id": "Tz1YfuV1ujcE"
   },
   "outputs": [
    {
     "name": "stdout",
     "output_type": "stream",
     "text": [
      "Path to plot: C:\\Users\\jerem\\VirtualBox VMs\\Ubuntu\\Shared\\IRS_Project\\GitHub\\PRMLS_Project\\SystemCode\\models\\Hybrid_Cifar100_202210011732_plot.png\n"
     ]
    }
   ],
   "source": [
    "plotpath  = folderpath + modelname + \"_\" + filename + '_plot.png'\n",
    "plot_model(model, \n",
    "           to_file=plotpath, \n",
    "           show_shapes=True, \n",
    "           show_layer_names=False,\n",
    "           rankdir='TB')\n",
    "\n",
    "print(\"Path to plot:\", plotpath)"
   ]
  },
  {
   "cell_type": "code",
   "execution_count": 268,
   "metadata": {},
   "outputs": [],
   "source": [
    "##############################################################################################################################\n",
    "##############################################################################################################################\n",
    "##############################################################################################################################\n",
    "##############################################################################################################################\n",
    "##############################################################################################################################\n",
    "##############################################################################################################################\n",
    "##############################################################################################################################"
   ]
  },
  {
   "cell_type": "code",
   "execution_count": 272,
   "metadata": {},
   "outputs": [],
   "source": [
    "# Hybrid_Cifar100_202210011556_plot - FishOrNotFishReduced_1_CifarOnly\n",
    "# Hybrid_Cifar100_202210011604_plot - Full and Mixed\n",
    "model_file = \"C:\\\\Users\\\\jerem\\\\VirtualBox VMs\\\\Ubuntu\\\\Shared\\\\IRS_Project\\\\GitHub\\\\PRMLS_Project\\\\SystemCode\\\\models\\\\Hybrid_Cifar100_202210011732.hdf5\"\n",
    "\n",
    "image_height = image_size\n",
    "image_width = image_size\n",
    "\n",
    "def predict_new_image(image):\n",
    "    image_name = image\n",
    "\n",
    "    # image_array = cv2.imread(os.path.join(path, image))[...,::-1]\n",
    "    # Resize image\n",
    "    # image_array = cv2.imread(image)[...,::-1]\n",
    "    # image_array = cv2.resize(image_array, (image_size, image_size))\n",
    "    # image_array = image_array / 255.0\n",
    "    \n",
    "    image = tf.keras.utils.load_img(image, target_size = None, keep_aspect_ratio = True)\n",
    "    \n",
    "    image_array = tf.keras.utils.img_to_array(image)\n",
    "    image_array = tf.keras.preprocessing.image.smart_resize(image_array, size = (image_height, image_width))\n",
    "    image_array = tf.expand_dims(image_array, 0)\n",
    "    image_array = image_array / 255.0\n",
    "    \n",
    "    saved_model = load_model(model_file)\n",
    "    \n",
    "    predictions = saved_model.predict(image_array)\n",
    "    # predictions = predictions.flatten()\n",
    "    # score = np.where(predictions > 0.5, 1, 0)\n",
    "    score = tf.nn.softmax(predictions[0])\n",
    "    \n",
    "    # plt.imshow()\n",
    "    # plt.show()\n",
    "    # print(\"Predictions: \", predictions)\n",
    "    # print(\"Score: \", score)\n",
    "    print(image_name, \n",
    "        \" most likely belongs to {} with a {:.2f} percent confidence.\"\n",
    "        .format(labels[np.argmax(score)], 100 * np.max(score))\n",
    "    )"
   ]
  },
  {
   "cell_type": "code",
   "execution_count": 273,
   "metadata": {},
   "outputs": [
    {
     "name": "stdout",
     "output_type": "stream",
     "text": [
      "C:\\Users\\jerem\\VirtualBox VMs\\Ubuntu\\Shared\\IRS_Project\\GitHub\\PRMLS_Project\\SystemCode\\models\\Hybrid_Cifar100_202210011732.hdf5\n",
      "1/1 [==============================] - 0s 84ms/step\n",
      "validate/jeremy.jpg  most likely belongs to NotFish with a 73.11 percent confidence.\n",
      "1/1 [==============================] - 0s 87ms/step\n",
      "validate/tree.jpg  most likely belongs to NotFish with a 73.11 percent confidence.\n",
      "1/1 [==============================] - 0s 87ms/step\n",
      "validate/fish.jpg  most likely belongs to NotFish with a 73.11 percent confidence.\n",
      "1/1 [==============================] - 0s 81ms/step\n",
      "validate/cockroach.jpg  most likely belongs to NotFish with a 73.11 percent confidence.\n",
      "1/1 [==============================] - 0s 87ms/step\n",
      "validate/starfish.jpg  most likely belongs to NotFish with a 73.11 percent confidence.\n",
      "1/1 [==============================] - 0s 87ms/step\n",
      "validate/whale.jpg  most likely belongs to Fish with a 73.11 percent confidence.\n",
      "1/1 [==============================] - 0s 84ms/step\n",
      "validate/car.jpg  most likely belongs to Fish with a 73.11 percent confidence.\n",
      "1/1 [==============================] - 0s 84ms/step\n",
      "validate/seal.jpg  most likely belongs to Fish with a 73.11 percent confidence.\n",
      "1/1 [==============================] - 0s 86ms/step\n",
      "validate/beaver.jpg  most likely belongs to NotFish with a 73.11 percent confidence.\n",
      "1/1 [==============================] - 0s 100ms/step\n",
      "validate/betta.jpg  most likely belongs to NotFish with a 73.11 percent confidence.\n",
      "1/1 [==============================] - 0s 80ms/step\n",
      "validate/betta1.jpg  most likely belongs to NotFish with a 73.11 percent confidence.\n"
     ]
    }
   ],
   "source": [
    "print(model_file)\n",
    "\n",
    "predict_new_image(\"validate/jeremy.jpg\")\n",
    "predict_new_image(\"validate/tree.jpg\")\n",
    "predict_new_image(\"validate/fish.jpg\")\n",
    "predict_new_image(\"validate/cockroach.jpg\")\n",
    "predict_new_image(\"validate/starfish.jpg\")\n",
    "predict_new_image(\"validate/whale.jpg\")\n",
    "predict_new_image(\"validate/car.jpg\")\n",
    "predict_new_image(\"validate/seal.jpg\")\n",
    "predict_new_image(\"validate/beaver.jpg\")\n",
    "predict_new_image(\"validate/betta.jpg\")\n",
    "predict_new_image(\"validate/betta1.jpg\")"
   ]
  },
  {
   "cell_type": "code",
   "execution_count": null,
   "metadata": {},
   "outputs": [],
   "source": []
  },
  {
   "cell_type": "code",
   "execution_count": null,
   "metadata": {},
   "outputs": [],
   "source": []
  }
 ],
 "metadata": {
  "accelerator": "GPU",
  "colab": {
   "collapsed_sections": [],
   "name": "prumls_wks2_3_yourname.ipynb",
   "provenance": [
    {
     "file_id": "1zpNB_cvVJmfLRLrahFw1NIJs9J4upi4c",
     "timestamp": 1626919505137
    }
   ],
   "toc_visible": true
  },
  "kernelspec": {
   "display_name": "Python 3 (ipykernel)",
   "language": "python",
   "name": "python3"
  },
  "language_info": {
   "codemirror_mode": {
    "name": "ipython",
    "version": 3
   },
   "file_extension": ".py",
   "mimetype": "text/x-python",
   "name": "python",
   "nbconvert_exporter": "python",
   "pygments_lexer": "ipython3",
   "version": "3.9.12"
  }
 },
 "nbformat": 4,
 "nbformat_minor": 1
}
