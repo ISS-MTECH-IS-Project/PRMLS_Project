{
 "cells": [
  {
   "cell_type": "code",
   "execution_count": 1,
   "id": "9d89c4c3",
   "metadata": {},
   "outputs": [],
   "source": [
    "# pip install opencv-python"
   ]
  },
  {
   "cell_type": "code",
   "execution_count": 80,
   "id": "34b30226",
   "metadata": {},
   "outputs": [
    {
     "name": "stdout",
     "output_type": "stream",
     "text": [
      "Versions of key libraries\n",
      "---\n",
      "tensorflow:  2.9.1\n",
      "numpy:       1.23.2\n",
      "matplotlib:  3.5.3\n",
      "sklearn:     1.1.2\n",
      "Num GPUs Available:  1\n"
     ]
    }
   ],
   "source": [
    "import matplotlib\n",
    "import sklearn\n",
    "import numpy as np\n",
    "import pandas as pd\n",
    "import sklearn.metrics as metrics\n",
    "import matplotlib.pyplot as plt\n",
    "import pathlib\n",
    "import os\n",
    "import datetime\n",
    "import tensorflow as tf\n",
    "\n",
    "from os import listdir\n",
    "from os.path import isfile, isdir, join\n",
    "from pathlib import Path\n",
    "\n",
    "from tensorflow.keras import Input\n",
    "from tensorflow.keras import Model\n",
    "from tensorflow import keras\n",
    "from tensorflow.keras import layers\n",
    "from tensorflow.keras.callbacks import ModelCheckpoint,CSVLogger\n",
    "from tensorflow.keras.models import Sequential\n",
    "from tensorflow.keras.layers import Dense\n",
    "from tensorflow.keras.layers import Dropout\n",
    "from tensorflow.keras.layers import Flatten\n",
    "from tensorflow.keras.layers import Conv2D\n",
    "from tensorflow.keras.layers import MaxPooling2D\n",
    "from tensorflow.keras.utils import to_categorical\n",
    "from tensorflow.keras.utils import plot_model\n",
    "from tensorflow.keras.layers import Activation\n",
    "from tensorflow.keras.layers import BatchNormalization\n",
    "from tensorflow.keras import optimizers\n",
    "from tensorflow.keras import regularizers\n",
    "\n",
    "from sklearn.preprocessing import LabelBinarizer\n",
    "from sklearn.model_selection import train_test_split\n",
    "\n",
    "print(\"Versions of key libraries\")\n",
    "print(\"---\")\n",
    "print(\"tensorflow: \", tf.__version__)\n",
    "print(\"numpy:      \", np.__version__)\n",
    "print(\"matplotlib: \", matplotlib.__version__)\n",
    "print(\"sklearn:    \", sklearn.__version__)\n",
    "\n",
    "print(\"Num GPUs Available: \", len(tf.config.list_physical_devices('GPU')))"
   ]
  },
  {
   "cell_type": "code",
   "execution_count": 81,
   "id": "6366302d-90f4-40dd-bcc0-f63fba99c1af",
   "metadata": {},
   "outputs": [],
   "source": [
    "IMG_SIZE = 227 # Specify height and width of image to match the input format of the model\n",
    "IMG_WIDTH = IMG_SIZE\n",
    "IMG_HEIGHT = IMG_SIZE\n",
    "CHANNELS = 3 # Keep RGB color channels to match the input format of the model\n",
    "BATCH_SIZE = 32 # Big enough to measure an F1-score\n",
    "AUTOTUNE = tf.data.AUTOTUNE # Adapt preprocessing and prefetching dynamically\n",
    "SHUFFLE_BUFFER_SIZE = 1024 # Shuffle the training data by a chunck of 1024 observations\n",
    "SEED = 7\n",
    "N_LABELS = 0\n",
    "DATASET_PATH = \"dataset/\"\n",
    "\n",
    "class_names = ''"
   ]
  },
  {
   "cell_type": "code",
   "execution_count": 65,
   "id": "a7cf30a4-19ec-4e3e-b81d-bd3ea55fbc7c",
   "metadata": {},
   "outputs": [],
   "source": [
    "# Execute only if required.\n",
    "# Check if all images are supported by Tensorflow and convert to jpeg if not supported\n",
    "\n",
    "from pathlib import Path\n",
    "import imghdr\n",
    "\n",
    "from PIL import Image\n",
    "\n",
    "def convert_to_jpeg(file):    \n",
    "    image = Image.open(file)\n",
    "    image_rgb = image.convert('RGB')\n",
    "    image_rgb.save(file)\n",
    "\n",
    "data_dir = DATASET_PATH\n",
    "image_extensions = [\".png\", \".jpg\"]  # add there all your images file extensions\n",
    "\n",
    "img_type_accepted_by_tf = [\"bmp\", \"gif\", \"jpeg\", \"png\"]\n",
    "for filepath in Path(data_dir).rglob(\"*\"):\n",
    "    if filepath.suffix.lower() in image_extensions:\n",
    "        img_type = imghdr.what(filepath)\n",
    "        if img_type is None:\n",
    "            print(f\"{filepath} is not an image\")\n",
    "            convert_to_jpeg(filepath)\n",
    "        elif img_type not in img_type_accepted_by_tf:\n",
    "            print(f\"{filepath} is a {img_type}, not accepted by TensorFlow\")\n",
    "            convert_to_jpeg(filepath)"
   ]
  },
  {
   "cell_type": "code",
   "execution_count": 82,
   "id": "efa0113a-ecb1-4f97-adad-a9684f6e0dad",
   "metadata": {},
   "outputs": [],
   "source": [
    "def readImagesFromDir(base_img_path=DATASET_PATH):\n",
    "    dirs = [d for d in listdir(base_img_path) if isdir(join(base_img_path, d)) and not d.startswith('.')]\n",
    "\n",
    "    print(dirs)\n",
    "\n",
    "    X, y = [], []\n",
    "\n",
    "    for d in dirs:\n",
    "        img_path = base_img_path + d + \"/\"\n",
    "        files = [f for f in listdir(img_path) if isfile(join(img_path, f))]\n",
    "        X = X + [os.path.join(img_path, f) for f in files if f.lower().endswith(('.png', '.jpg', '.jpeg'))]\n",
    "        y = y + [d for f in files if f.lower().endswith(('.png', '.jpg', '.jpeg'))]\n",
    "        #print(d)\n",
    "\n",
    "    data_dir = Path(base_img_path)\n",
    "    image_count = len(list(data_dir.glob('*/*.*')))\n",
    "    \n",
    "    return X, y\n",
    "\n",
    "\n",
    "def parse_function(filename, label):\n",
    "    \"\"\"Function that returns a tuple of normalized image array and labels array.\n",
    "    Args:\n",
    "        filename: string representing path to image\n",
    "        label: 0/1 one-dimensional array of size N_LABELS\n",
    "    \"\"\"\n",
    "    # Read an image from a file\n",
    "    image_string = tf.io.read_file(filename)\n",
    "    # Decode it into a dense vector\n",
    "    image_decoded = tf.io.decode_image(image_string, channels=CHANNELS, expand_animations = False)\n",
    "    #if (filename.lower().endswith(('.jpg', '.jpeg'))):\n",
    "    #    image_decoded = tf.image.decode_jpeg(image_string, channels=CHANNELS)\n",
    "    #if (filename.lower().endswith(('.png'))):\n",
    "    #    image_decoded = tf.image.decode_png(image_string, channels=CHANNELS)\n",
    "    # Resize it to fixed shape\n",
    "    image_resized = tf.image.resize(image_decoded, [IMG_SIZE, IMG_SIZE])\n",
    "    \n",
    "    image_cropped = tf.image.random_crop(image_resized, [IMG_SIZE, IMG_SIZE, CHANNELS])\n",
    "    image_rotated = tf.image.rot90(image_cropped, k=3)\n",
    "    image_flip = tf.image.flip_left_right(image_rotated)\n",
    "    \n",
    "    # Normalize it from [0, 255] to [0.0, 1.0]\n",
    "    image_normalized = image_flip / 255.0\n",
    "    \n",
    "    return image_normalized, label\n",
    "\n",
    "\n",
    "def create_dataset(filenames, labels, is_training=True):\n",
    "    \"\"\"Load and parse dataset.\n",
    "    Args:\n",
    "        filenames: list of image paths\n",
    "        labels: numpy array of shape (BATCH_SIZE, N_LABELS)\n",
    "        is_training: boolean to indicate training mode\n",
    "    \"\"\"\n",
    "    \n",
    "    # Create a first dataset of file paths and labels\n",
    "    dataset = tf.data.Dataset.from_tensor_slices((filenames, labels))\n",
    "    # Parse and preprocess observations in parallel\n",
    "    dataset = dataset.map(parse_function, num_parallel_calls=AUTOTUNE)\n",
    "    \n",
    "    if is_training == True:\n",
    "        # This is a small dataset, only load it once, and keep it in memory.\n",
    "        #dataset = dataset.cache()\n",
    "        # Shuffle the data each buffer size\n",
    "        dataset = dataset.shuffle(buffer_size=SHUFFLE_BUFFER_SIZE)\n",
    "        \n",
    "    # Batch the data for multiple steps\n",
    "    dataset = dataset.batch(BATCH_SIZE)\n",
    "    # Fetch batches in the background while the model is training.\n",
    "    dataset = dataset.prefetch(buffer_size=AUTOTUNE)\n",
    "    \n",
    "    return dataset"
   ]
  },
  {
   "cell_type": "code",
   "execution_count": 83,
   "id": "7e3c40e2-6c86-40e6-ac57-e5e4b3901f7c",
   "metadata": {},
   "outputs": [
    {
     "name": "stdout",
     "output_type": "stream",
     "text": [
      "['oranda', 'luohan', 'arrowana', 'betta_fish', 'common_goldfish']\n",
      "0. arrowana\n",
      "1. betta_fish\n",
      "2. common_goldfish\n",
      "3. luohan\n",
      "4. oranda\n",
      "(6786, 5)\n",
      "(1697, 5)\n"
     ]
    }
   ],
   "source": [
    "X, Y = readImagesFromDir()\n",
    "\n",
    "X_train, X_val, y_train, y_val = train_test_split(X, Y, test_size=0.2, random_state=SEED)\n",
    "\n",
    "lb = LabelBinarizer()\n",
    "lb.fit(y_train)\n",
    "class_names = lb.classes_\n",
    "# Loop over all labels and show them    \n",
    "N_LABELS = len(class_names)\n",
    "for (i, label) in enumerate(class_names):\n",
    "    print(\"{}. {}\".format(i, label))\n",
    "\n",
    "# transform the targets of the training and test sets\n",
    "y_train_bin = lb.transform(y_train)\n",
    "y_val_bin = lb.transform(y_val)\n",
    "\n",
    "print(y_train_bin.shape)\n",
    "print(y_val_bin.shape)\n"
   ]
  },
  {
   "cell_type": "code",
   "execution_count": 84,
   "id": "6274ce4e-0d5b-478b-a7f8-ed0c9934e679",
   "metadata": {},
   "outputs": [
    {
     "name": "stdout",
     "output_type": "stream",
     "text": [
      "images/oranda/frame41090.jpg [0 0 0 0 1]\n",
      "images/betta_fish/betta0052.jpg [0 1 0 0 0]\n",
      "images/arrowana/2017_fish_arowana-look-1260x900.jpg [1 0 0 0 0]\n",
      "images/oranda/frame34790.jpg [0 0 0 0 1]\n",
      "images/oranda/frame25630.jpg [0 0 0 0 1]\n",
      "images/common_goldfish/frame20030.jpg [0 0 1 0 0]\n",
      "images/oranda/frame36250.jpg [0 0 0 0 1]\n",
      "images/arrowana/istockphoto-469839146-612x612.jpg [1 0 0 0 0]\n",
      "images/oranda/frame26910.jpg [0 0 0 0 1]\n",
      "images/betta_fish/betta1008.jpg [0 1 0 0 0]\n"
     ]
    }
   ],
   "source": [
    "# Print examples of fish and their binary targets\n",
    "for i in range(10):\n",
    "    print(X_train[len(X_train)-1 - i], y_train_bin[len(y_train_bin)-1 - i])"
   ]
  },
  {
   "cell_type": "code",
   "execution_count": 85,
   "id": "b2de7661-221c-4b6c-a35a-e196ed4b774b",
   "metadata": {},
   "outputs": [
    {
     "name": "stdout",
     "output_type": "stream",
     "text": [
      "Shape of features array: (32, 227, 227, 3)\n",
      "Shape of labels array: (32, 5)\n",
      "Shape of features array: (32, 227, 227, 3)\n",
      "Shape of labels array: (32, 5)\n"
     ]
    }
   ],
   "source": [
    "train_ds = create_dataset(X_train, y_train_bin)\n",
    "val_ds = create_dataset(X_val, y_val_bin, is_training=False)\n",
    "\n",
    "for f, l in train_ds.take(1):\n",
    "    print(\"Shape of features array:\", f.numpy().shape)\n",
    "    print(\"Shape of labels array:\", l.numpy().shape)\n",
    "    \n",
    "for f, l in val_ds.take(1):\n",
    "    print(\"Shape of features array:\", f.numpy().shape)\n",
    "    print(\"Shape of labels array:\", l.numpy().shape)"
   ]
  },
  {
   "cell_type": "code",
   "execution_count": 86,
   "id": "84658303",
   "metadata": {},
   "outputs": [],
   "source": [
    "modelname   = 'Alexnet'\n",
    "\n",
    "optmz = optimizers.RMSprop(learning_rate=0.0001)  "
   ]
  },
  {
   "cell_type": "code",
   "execution_count": 87,
   "id": "f0487832",
   "metadata": {},
   "outputs": [],
   "source": [
    "def createAlexNetModel():\n",
    "    model = Sequential()\n",
    "    model.add(Conv2D(filters=96, kernel_size=(11,11),strides=(4,4), input_shape=(IMG_HEIGHT, IMG_WIDTH, CHANNELS)))\n",
    "    model.add(Activation('relu'))\n",
    "    model.add(BatchNormalization())\n",
    "    model.add(MaxPooling2D(pool_size=(3,3),strides=(2,2)))\n",
    "    model.add(BatchNormalization())\n",
    "    model.add(Conv2D(filters=256, kernel_size=(5,5),strides=(1,1), padding='same', kernel_initializer='he_uniform', kernel_regularizer=regularizers.l2(0.001)))\n",
    "    model.add(Activation('relu'))\n",
    "    model.add(MaxPooling2D(pool_size=(3,3),strides=(2,2)))\n",
    "    model.add(BatchNormalization())\n",
    "    model.add(Conv2D(filters=384, kernel_size=(3,3),strides=(1,1), padding='same', kernel_initializer='he_uniform', kernel_regularizer=regularizers.l2(0.001)))\n",
    "    model.add(Activation('relu'))\n",
    "    model.add(BatchNormalization())\n",
    "    model.add(Conv2D(filters=384, kernel_size=(3,3),strides=(1,1), padding='same', kernel_initializer='he_uniform', kernel_regularizer=regularizers.l2(0.001)))\n",
    "    model.add(Activation('relu'))\n",
    "    model.add(BatchNormalization())\n",
    "    model.add(Conv2D(filters=256, kernel_size=(3,3),strides=(1,1), padding='same', kernel_initializer='he_uniform', kernel_regularizer=regularizers.l2(0.001)))\n",
    "    model.add(Activation('relu'))\n",
    "    model.add(BatchNormalization())\n",
    "    model.add(MaxPooling2D(pool_size=(3,3),strides=(2,2)))\n",
    "    model.add(BatchNormalization())\n",
    "    model.add(Flatten())\n",
    "    model.add(Dense(4096, input_shape=(227*227*3,)))\n",
    "    model.add(Activation('relu'))\n",
    "    model.add(Dropout(0.4))\n",
    "    model.add(BatchNormalization())\n",
    "    model.add(Dense(4096, input_shape=(224*224*3,)))\n",
    "    model.add(Activation('relu'))\n",
    "    model.add(Dropout(0.4))\n",
    "    model.add(BatchNormalization())\n",
    "    model.add(Dense(1000))\n",
    "    model.add(Activation('relu'))\n",
    "    model.add(Dropout(0.4))\n",
    "    model.add(BatchNormalization())\n",
    "    model.add(Dense(N_LABELS))\n",
    "    model.add(Activation('softmax'))\n",
    "    #model.compile(loss='categorical_crossentropy', optimizer='adam', metrics=['accuracy'])\n",
    "    model.compile(loss='categorical_crossentropy', optimizer=optmz, metrics=['accuracy'])\n",
    "    return model\n"
   ]
  },
  {
   "cell_type": "code",
   "execution_count": 88,
   "id": "1992fcc3-9883-4096-be7a-112ab11798a9",
   "metadata": {},
   "outputs": [
    {
     "name": "stdout",
     "output_type": "stream",
     "text": [
      "Model: \"sequential_5\"\n",
      "_________________________________________________________________\n",
      " Layer (type)                Output Shape              Param #   \n",
      "=================================================================\n",
      " conv2d_36 (Conv2D)          (None, 55, 55, 96)        34944     \n",
      "                                                                 \n",
      " activation_37 (Activation)  (None, 55, 55, 96)        0         \n",
      "                                                                 \n",
      " batch_normalization_72 (Bat  (None, 55, 55, 96)       384       \n",
      " chNormalization)                                                \n",
      "                                                                 \n",
      " max_pooling2d_22 (MaxPoolin  (None, 27, 27, 96)       0         \n",
      " g2D)                                                            \n",
      "                                                                 \n",
      " batch_normalization_73 (Bat  (None, 27, 27, 96)       384       \n",
      " chNormalization)                                                \n",
      "                                                                 \n",
      " conv2d_37 (Conv2D)          (None, 27, 27, 256)       614656    \n",
      "                                                                 \n",
      " activation_38 (Activation)  (None, 27, 27, 256)       0         \n",
      "                                                                 \n",
      " max_pooling2d_23 (MaxPoolin  (None, 13, 13, 256)      0         \n",
      " g2D)                                                            \n",
      "                                                                 \n",
      " batch_normalization_74 (Bat  (None, 13, 13, 256)      1024      \n",
      " chNormalization)                                                \n",
      "                                                                 \n",
      " conv2d_38 (Conv2D)          (None, 13, 13, 384)       885120    \n",
      "                                                                 \n",
      " activation_39 (Activation)  (None, 13, 13, 384)       0         \n",
      "                                                                 \n",
      " batch_normalization_75 (Bat  (None, 13, 13, 384)      1536      \n",
      " chNormalization)                                                \n",
      "                                                                 \n",
      " conv2d_39 (Conv2D)          (None, 13, 13, 384)       1327488   \n",
      "                                                                 \n",
      " activation_40 (Activation)  (None, 13, 13, 384)       0         \n",
      "                                                                 \n",
      " batch_normalization_76 (Bat  (None, 13, 13, 384)      1536      \n",
      " chNormalization)                                                \n",
      "                                                                 \n",
      " conv2d_40 (Conv2D)          (None, 13, 13, 256)       884992    \n",
      "                                                                 \n",
      " activation_41 (Activation)  (None, 13, 13, 256)       0         \n",
      "                                                                 \n",
      " batch_normalization_77 (Bat  (None, 13, 13, 256)      1024      \n",
      " chNormalization)                                                \n",
      "                                                                 \n",
      " max_pooling2d_24 (MaxPoolin  (None, 6, 6, 256)        0         \n",
      " g2D)                                                            \n",
      "                                                                 \n",
      " batch_normalization_78 (Bat  (None, 6, 6, 256)        1024      \n",
      " chNormalization)                                                \n",
      "                                                                 \n",
      " flatten_7 (Flatten)         (None, 9216)              0         \n",
      "                                                                 \n",
      " dense_28 (Dense)            (None, 4096)              37752832  \n",
      "                                                                 \n",
      " activation_42 (Activation)  (None, 4096)              0         \n",
      "                                                                 \n",
      " dropout_21 (Dropout)        (None, 4096)              0         \n",
      "                                                                 \n",
      " batch_normalization_79 (Bat  (None, 4096)             16384     \n",
      " chNormalization)                                                \n",
      "                                                                 \n",
      " dense_29 (Dense)            (None, 4096)              16781312  \n",
      "                                                                 \n",
      " activation_43 (Activation)  (None, 4096)              0         \n",
      "                                                                 \n",
      " dropout_22 (Dropout)        (None, 4096)              0         \n",
      "                                                                 \n",
      " batch_normalization_80 (Bat  (None, 4096)             16384     \n",
      " chNormalization)                                                \n",
      "                                                                 \n",
      " dense_30 (Dense)            (None, 1000)              4097000   \n",
      "                                                                 \n",
      " activation_44 (Activation)  (None, 1000)              0         \n",
      "                                                                 \n",
      " dropout_23 (Dropout)        (None, 1000)              0         \n",
      "                                                                 \n",
      " batch_normalization_81 (Bat  (None, 1000)             4000      \n",
      " chNormalization)                                                \n",
      "                                                                 \n",
      " dense_31 (Dense)            (None, 5)                 5005      \n",
      "                                                                 \n",
      " activation_45 (Activation)  (None, 5)                 0         \n",
      "                                                                 \n",
      "=================================================================\n",
      "Total params: 62,427,029\n",
      "Trainable params: 62,405,189\n",
      "Non-trainable params: 21,840\n",
      "_________________________________________________________________\n"
     ]
    }
   ],
   "source": [
    "model       = createAlexNetModel() # This is meant for training\n",
    "modelGo     = createAlexNetModel() # This is used for final testing\n",
    "\n",
    "model.summary()"
   ]
  },
  {
   "cell_type": "code",
   "execution_count": 89,
   "id": "dced975a",
   "metadata": {},
   "outputs": [
    {
     "name": "stdout",
     "output_type": "stream",
     "text": [
      "Path to model: models/Alexnet_2022-09-16_22-57-59.hdf5\n",
      "Path to log:   models/Alexnet_2022-09-16_22-57-59.csv\n"
     ]
    }
   ],
   "source": [
    "                                                                                # Step 1\n",
    "modelname       = modelname+\"_\"+str(datetime.datetime.now())[:-7].replace(' ','_').replace(\":\",'-')\n",
    "folderpath      = 'models/'\n",
    "model_file      = folderpath + modelname + \".hdf5\"\n",
    "checkpoint      = ModelCheckpoint(model_file, \n",
    "                                  monitor='val_accuracy', \n",
    "                                  verbose=0, \n",
    "                                  save_best_only=True, \n",
    "                                  mode='max')\n",
    "\n",
    "csv_logger      = CSVLogger(folderpath+modelname +'.csv')                       # Step 2\n",
    "callbacks_list  = [checkpoint,csv_logger]                                       # Step 3\n",
    "\n",
    "print(\"Path to model:\", model_file)\n",
    "print(\"Path to log:  \", folderpath+modelname+'.csv')"
   ]
  },
  {
   "cell_type": "code",
   "execution_count": 90,
   "id": "6b8e5e56",
   "metadata": {},
   "outputs": [
    {
     "name": "stdout",
     "output_type": "stream",
     "text": [
      "Path to plot: models/Alexnet_2022-09-16_22-57-59_plot.png\n"
     ]
    }
   ],
   "source": [
    "plotpath  = folderpath+modelname+'_plot.png'\n",
    "plot_model(model, \n",
    "           to_file=plotpath, \n",
    "           show_shapes=True, \n",
    "           show_layer_names=False,\n",
    "           rankdir='TB')\n",
    "print(\"Path to plot:\", plotpath)"
   ]
  },
  {
   "cell_type": "code",
   "execution_count": 6,
   "id": "9ca1b24f",
   "metadata": {},
   "outputs": [],
   "source": [
    "'''\n",
    "data_dir = pathlib.Path(\"dataset\")\n",
    "fish_images_dict = {\n",
    "    'arowana': list(data_dir.glob('arowana/*.jpg')),\n",
    "    'betta': list(data_dir.glob('betta/*.jpg')),\n",
    "    'goldfish': list(data_dir.glob('goldfish/*.jpg')),\n",
    "    'luohan': list(data_dir.glob('luohan/*.jpg'))\n",
    "}\n",
    "labelname = ['arowana','betta','goldfish','luohan']\n",
    "'''"
   ]
  },
  {
   "cell_type": "code",
   "execution_count": 7,
   "id": "e62ba204",
   "metadata": {},
   "outputs": [
    {
     "name": "stderr",
     "output_type": "stream",
     "text": [
      "C:\\Anaconda3\\envs\\PRMLS\\lib\\site-packages\\PIL\\Image.py:959: UserWarning: Palette images with Transparency expressed in bytes should be converted to RGBA images\n",
      "  warnings.warn(\n"
     ]
    }
   ],
   "source": [
    "'''\n",
    "X, y = [], []\n",
    "for fish_name, images in fish_images_dict.items():\n",
    "    for image in images:\n",
    "        resized_img = tf.keras.preprocessing.image.load_img(\n",
    "                image,\n",
    "                grayscale=False,\n",
    "                color_mode='rgb',\n",
    "                target_size=(227,227),\n",
    "                #keep_aspect_ratio=True,\n",
    "                interpolation='nearest'\n",
    "            )\n",
    "        input_arr = tf.keras.preprocessing.image.img_to_array(resized_img)\n",
    "        X.append(input_arr)\n",
    "        y.append(labelname.index(fish_name))\n",
    "'''"
   ]
  },
  {
   "cell_type": "code",
   "execution_count": 8,
   "id": "9edd04e6",
   "metadata": {
    "collapsed": false,
    "jupyter": {
     "outputs_hidden": false
    },
    "pycharm": {
     "name": "#%%\n"
    }
   },
   "outputs": [],
   "source": [
    "'''\n",
    "X = np.array(X)\n",
    "oy = np.array(y)\n",
    "y = to_categorical(oy)\n",
    "from sklearn.model_selection import train_test_split\n",
    "X_train, X_test, y_train, y_test = train_test_split(X, y,train_size=3000,test_size=1000, random_state=42)\n",
    "'''"
   ]
  },
  {
   "cell_type": "code",
   "execution_count": 9,
   "id": "11efe5c0",
   "metadata": {
    "collapsed": false,
    "jupyter": {
     "outputs_hidden": false
    },
    "pycharm": {
     "name": "#%%\n"
    }
   },
   "outputs": [
    {
     "data": {
      "text/plain": [
       "(3000, 4)"
      ]
     },
     "execution_count": 9,
     "metadata": {},
     "output_type": "execute_result"
    }
   ],
   "source": [
    "'''\n",
    "X_train.shape\n",
    "y_train.shape\n",
    "'''"
   ]
  },
  {
   "cell_type": "code",
   "execution_count": null,
   "id": "a305afdc-f47f-479f-ac11-efcca94d6ab2",
   "metadata": {},
   "outputs": [],
   "source": [
    "'''\n",
    "model.fit(X_train,                            # Training data\n",
    "          y_train,                            # Training label\n",
    "          validation_data=(X_test, y_test),   # Validation data and label\n",
    "          epochs=50,                       # The amount of epochs to be trained\n",
    "          batch_size=32,\n",
    "          shuffle=True,                     # To shuffle the training data\n",
    "          callbacks=callbacks_list)         # Callbacks to execute the checkpoints\n",
    "'''"
   ]
  },
  {
   "cell_type": "code",
   "execution_count": 91,
   "id": "b0b245d2",
   "metadata": {},
   "outputs": [
    {
     "name": "stdout",
     "output_type": "stream",
     "text": [
      "Epoch 1/50\n",
      "114/213 [===============>..............] - ETA: 3s - loss: 3.2420 - accuracy: 0.7961"
     ]
    },
    {
     "name": "stderr",
     "output_type": "stream",
     "text": [
      "2022-09-16 22:58:11.914781: W tensorflow/core/lib/png/png_io.cc:88] PNG warning: iCCP: known incorrect sRGB profile\n"
     ]
    },
    {
     "name": "stdout",
     "output_type": "stream",
     "text": [
      "213/213 [==============================] - 11s 44ms/step - loss: 3.1772 - accuracy: 0.8087 - val_loss: 9.7467 - val_accuracy: 0.4025\n",
      "Epoch 2/50\n",
      "115/213 [===============>..............] - ETA: 3s - loss: 2.9939 - accuracy: 0.8527"
     ]
    },
    {
     "name": "stderr",
     "output_type": "stream",
     "text": [
      "2022-09-16 22:58:23.078736: W tensorflow/core/lib/png/png_io.cc:88] PNG warning: iCCP: known incorrect sRGB profile\n"
     ]
    },
    {
     "name": "stdout",
     "output_type": "stream",
     "text": [
      "213/213 [==============================] - 10s 39ms/step - loss: 2.9724 - accuracy: 0.8537 - val_loss: 5.3373 - val_accuracy: 0.6812\n",
      "Epoch 3/50\n",
      "115/213 [===============>..............] - ETA: 3s - loss: 2.8448 - accuracy: 0.8761"
     ]
    },
    {
     "name": "stderr",
     "output_type": "stream",
     "text": [
      "2022-09-16 22:58:31.700506: W tensorflow/core/lib/png/png_io.cc:88] PNG warning: iCCP: known incorrect sRGB profile\n"
     ]
    },
    {
     "name": "stdout",
     "output_type": "stream",
     "text": [
      "213/213 [==============================] - 8s 38ms/step - loss: 2.8200 - accuracy: 0.8800 - val_loss: 2.7153 - val_accuracy: 0.8733\n",
      "Epoch 4/50\n",
      "113/213 [==============>...............] - ETA: 3s - loss: 2.6952 - accuracy: 0.9010"
     ]
    },
    {
     "name": "stderr",
     "output_type": "stream",
     "text": [
      "2022-09-16 22:58:40.124332: W tensorflow/core/lib/png/png_io.cc:88] PNG warning: iCCP: known incorrect sRGB profile\n"
     ]
    },
    {
     "name": "stdout",
     "output_type": "stream",
     "text": [
      "213/213 [==============================] - 8s 34ms/step - loss: 2.6576 - accuracy: 0.9051 - val_loss: 3.8182 - val_accuracy: 0.5062\n",
      "Epoch 5/50\n",
      "113/213 [==============>...............] - ETA: 3s - loss: 2.5600 - accuracy: 0.9110"
     ]
    },
    {
     "name": "stderr",
     "output_type": "stream",
     "text": [
      "2022-09-16 22:58:47.856752: W tensorflow/core/lib/png/png_io.cc:88] PNG warning: iCCP: known incorrect sRGB profile\n"
     ]
    },
    {
     "name": "stdout",
     "output_type": "stream",
     "text": [
      "213/213 [==============================] - 8s 35ms/step - loss: 2.5270 - accuracy: 0.9150 - val_loss: 3.0031 - val_accuracy: 0.6989\n",
      "Epoch 6/50\n",
      "114/213 [===============>..............] - ETA: 3s - loss: 2.4146 - accuracy: 0.9296"
     ]
    },
    {
     "name": "stderr",
     "output_type": "stream",
     "text": [
      "2022-09-16 22:58:55.696396: W tensorflow/core/lib/png/png_io.cc:88] PNG warning: iCCP: known incorrect sRGB profile\n"
     ]
    },
    {
     "name": "stdout",
     "output_type": "stream",
     "text": [
      "213/213 [==============================] - 8s 35ms/step - loss: 2.3988 - accuracy: 0.9282 - val_loss: 3.6448 - val_accuracy: 0.4714\n",
      "Epoch 7/50\n",
      "115/213 [===============>..............] - ETA: 3s - loss: 2.3001 - accuracy: 0.9421"
     ]
    },
    {
     "name": "stderr",
     "output_type": "stream",
     "text": [
      "2022-09-16 22:59:03.445971: W tensorflow/core/lib/png/png_io.cc:88] PNG warning: iCCP: known incorrect sRGB profile\n"
     ]
    },
    {
     "name": "stdout",
     "output_type": "stream",
     "text": [
      "213/213 [==============================] - 8s 34ms/step - loss: 2.2772 - accuracy: 0.9403 - val_loss: 2.8470 - val_accuracy: 0.5940\n",
      "Epoch 8/50\n",
      "114/213 [===============>..............] - ETA: 3s - loss: 2.1937 - accuracy: 0.9424"
     ]
    },
    {
     "name": "stderr",
     "output_type": "stream",
     "text": [
      "2022-09-16 22:59:11.425665: W tensorflow/core/lib/png/png_io.cc:88] PNG warning: iCCP: known incorrect sRGB profile\n"
     ]
    },
    {
     "name": "stdout",
     "output_type": "stream",
     "text": [
      "213/213 [==============================] - 8s 36ms/step - loss: 2.1606 - accuracy: 0.9471 - val_loss: 2.3424 - val_accuracy: 0.8633\n",
      "Epoch 9/50\n",
      "115/213 [===============>..............] - ETA: 3s - loss: 2.0651 - accuracy: 0.9546"
     ]
    },
    {
     "name": "stderr",
     "output_type": "stream",
     "text": [
      "2022-09-16 22:59:19.266095: W tensorflow/core/lib/png/png_io.cc:88] PNG warning: iCCP: known incorrect sRGB profile\n"
     ]
    },
    {
     "name": "stdout",
     "output_type": "stream",
     "text": [
      "213/213 [==============================] - 8s 34ms/step - loss: 2.0447 - accuracy: 0.9527 - val_loss: 5.4429 - val_accuracy: 0.2887\n",
      "Epoch 10/50\n",
      "115/213 [===============>..............] - ETA: 3s - loss: 1.9973 - accuracy: 0.9503"
     ]
    },
    {
     "name": "stderr",
     "output_type": "stream",
     "text": [
      "2022-09-16 22:59:27.014082: W tensorflow/core/lib/png/png_io.cc:88] PNG warning: iCCP: known incorrect sRGB profile\n"
     ]
    },
    {
     "name": "stdout",
     "output_type": "stream",
     "text": [
      "213/213 [==============================] - 8s 34ms/step - loss: 1.9590 - accuracy: 0.9551 - val_loss: 2.6251 - val_accuracy: 0.7130\n",
      "Epoch 11/50\n",
      "114/213 [===============>..............] - ETA: 3s - loss: 1.8489 - accuracy: 0.9649"
     ]
    },
    {
     "name": "stderr",
     "output_type": "stream",
     "text": [
      "2022-09-16 22:59:34.693930: W tensorflow/core/lib/png/png_io.cc:88] PNG warning: iCCP: known incorrect sRGB profile\n"
     ]
    },
    {
     "name": "stdout",
     "output_type": "stream",
     "text": [
      "213/213 [==============================] - 8s 35ms/step - loss: 1.8372 - accuracy: 0.9636 - val_loss: 2.1975 - val_accuracy: 0.7761\n",
      "Epoch 12/50\n",
      "115/213 [===============>..............] - ETA: 3s - loss: 1.7446 - accuracy: 0.9688"
     ]
    },
    {
     "name": "stderr",
     "output_type": "stream",
     "text": [
      "2022-09-16 22:59:42.478066: W tensorflow/core/lib/png/png_io.cc:88] PNG warning: iCCP: known incorrect sRGB profile\n"
     ]
    },
    {
     "name": "stdout",
     "output_type": "stream",
     "text": [
      "213/213 [==============================] - 8s 34ms/step - loss: 1.7265 - accuracy: 0.9677 - val_loss: 7.0464 - val_accuracy: 0.2840\n",
      "Epoch 13/50\n",
      "115/213 [===============>..............] - ETA: 3s - loss: 1.6494 - accuracy: 0.9753"
     ]
    },
    {
     "name": "stderr",
     "output_type": "stream",
     "text": [
      "2022-09-16 22:59:50.184220: W tensorflow/core/lib/png/png_io.cc:88] PNG warning: iCCP: known incorrect sRGB profile\n"
     ]
    },
    {
     "name": "stdout",
     "output_type": "stream",
     "text": [
      "213/213 [==============================] - 8s 34ms/step - loss: 1.6303 - accuracy: 0.9751 - val_loss: 6.4417 - val_accuracy: 0.2817\n",
      "Epoch 14/50\n",
      "115/213 [===============>..............] - ETA: 3s - loss: 1.5987 - accuracy: 0.9652"
     ]
    },
    {
     "name": "stderr",
     "output_type": "stream",
     "text": [
      "2022-09-16 22:59:57.908426: W tensorflow/core/lib/png/png_io.cc:88] PNG warning: iCCP: known incorrect sRGB profile\n"
     ]
    },
    {
     "name": "stdout",
     "output_type": "stream",
     "text": [
      "213/213 [==============================] - 8s 35ms/step - loss: 1.5594 - accuracy: 0.9696 - val_loss: 3.7332 - val_accuracy: 0.4478\n",
      "Epoch 15/50\n",
      "115/213 [===============>..............] - ETA: 3s - loss: 1.4827 - accuracy: 0.9777"
     ]
    },
    {
     "name": "stderr",
     "output_type": "stream",
     "text": [
      "2022-09-16 23:00:05.687675: W tensorflow/core/lib/png/png_io.cc:88] PNG warning: iCCP: known incorrect sRGB profile\n"
     ]
    },
    {
     "name": "stdout",
     "output_type": "stream",
     "text": [
      "213/213 [==============================] - 8s 34ms/step - loss: 1.4590 - accuracy: 0.9783 - val_loss: 3.7522 - val_accuracy: 0.2852\n",
      "Epoch 16/50\n",
      "115/213 [===============>..............] - ETA: 3s - loss: 1.3909 - accuracy: 0.9783"
     ]
    },
    {
     "name": "stderr",
     "output_type": "stream",
     "text": [
      "2022-09-16 23:00:13.340560: W tensorflow/core/lib/png/png_io.cc:88] PNG warning: iCCP: known incorrect sRGB profile\n"
     ]
    },
    {
     "name": "stdout",
     "output_type": "stream",
     "text": [
      "213/213 [==============================] - 8s 34ms/step - loss: 1.3795 - accuracy: 0.9770 - val_loss: 5.5611 - val_accuracy: 0.2864\n",
      "Epoch 17/50\n",
      "114/213 [===============>..............] - ETA: 3s - loss: 1.3283 - accuracy: 0.9748"
     ]
    },
    {
     "name": "stderr",
     "output_type": "stream",
     "text": [
      "2022-09-16 23:00:21.085320: W tensorflow/core/lib/png/png_io.cc:88] PNG warning: iCCP: known incorrect sRGB profile\n"
     ]
    },
    {
     "name": "stdout",
     "output_type": "stream",
     "text": [
      "213/213 [==============================] - 8s 38ms/step - loss: 1.2971 - accuracy: 0.9791 - val_loss: 1.5605 - val_accuracy: 0.9169\n",
      "Epoch 18/50\n",
      "115/213 [===============>..............] - ETA: 3s - loss: 1.2352 - accuracy: 0.9810"
     ]
    },
    {
     "name": "stderr",
     "output_type": "stream",
     "text": [
      "2022-09-16 23:00:29.561917: W tensorflow/core/lib/png/png_io.cc:88] PNG warning: iCCP: known incorrect sRGB profile\n"
     ]
    },
    {
     "name": "stdout",
     "output_type": "stream",
     "text": [
      "213/213 [==============================] - 8s 35ms/step - loss: 1.2259 - accuracy: 0.9798 - val_loss: 1.5530 - val_accuracy: 0.8821\n",
      "Epoch 19/50\n",
      "115/213 [===============>..............] - ETA: 3s - loss: 1.1658 - accuracy: 0.9829"
     ]
    },
    {
     "name": "stderr",
     "output_type": "stream",
     "text": [
      "2022-09-16 23:00:37.384251: W tensorflow/core/lib/png/png_io.cc:88] PNG warning: iCCP: known incorrect sRGB profile\n"
     ]
    },
    {
     "name": "stdout",
     "output_type": "stream",
     "text": [
      "213/213 [==============================] - 8s 35ms/step - loss: 1.1491 - accuracy: 0.9814 - val_loss: 6.1055 - val_accuracy: 0.3235\n",
      "Epoch 20/50\n",
      "115/213 [===============>..............] - ETA: 3s - loss: 1.0966 - accuracy: 0.9861"
     ]
    },
    {
     "name": "stderr",
     "output_type": "stream",
     "text": [
      "2022-09-16 23:00:45.084409: W tensorflow/core/lib/png/png_io.cc:88] PNG warning: iCCP: known incorrect sRGB profile\n"
     ]
    },
    {
     "name": "stdout",
     "output_type": "stream",
     "text": [
      "213/213 [==============================] - 8s 34ms/step - loss: 1.0913 - accuracy: 0.9841 - val_loss: 1.6348 - val_accuracy: 0.8197\n",
      "Epoch 21/50\n",
      "115/213 [===============>..............] - ETA: 3s - loss: 1.0318 - accuracy: 0.9861"
     ]
    },
    {
     "name": "stderr",
     "output_type": "stream",
     "text": [
      "2022-09-16 23:00:52.828164: W tensorflow/core/lib/png/png_io.cc:88] PNG warning: iCCP: known incorrect sRGB profile\n"
     ]
    },
    {
     "name": "stdout",
     "output_type": "stream",
     "text": [
      "213/213 [==============================] - 8s 34ms/step - loss: 1.0207 - accuracy: 0.9841 - val_loss: 5.9910 - val_accuracy: 0.2852\n",
      "Epoch 22/50\n",
      "115/213 [===============>..............] - ETA: 3s - loss: 0.9698 - accuracy: 0.9891"
     ]
    },
    {
     "name": "stderr",
     "output_type": "stream",
     "text": [
      "2022-09-16 23:01:00.597816: W tensorflow/core/lib/png/png_io.cc:88] PNG warning: iCCP: known incorrect sRGB profile\n"
     ]
    },
    {
     "name": "stdout",
     "output_type": "stream",
     "text": [
      "213/213 [==============================] - 8s 37ms/step - loss: 0.9582 - accuracy: 0.9881 - val_loss: 1.1452 - val_accuracy: 0.9476\n",
      "Epoch 23/50\n",
      "115/213 [===============>..............] - ETA: 3s - loss: 0.9286 - accuracy: 0.9791"
     ]
    },
    {
     "name": "stderr",
     "output_type": "stream",
     "text": [
      "2022-09-16 23:01:08.915807: W tensorflow/core/lib/png/png_io.cc:88] PNG warning: iCCP: known incorrect sRGB profile\n"
     ]
    },
    {
     "name": "stdout",
     "output_type": "stream",
     "text": [
      "213/213 [==============================] - 8s 35ms/step - loss: 0.9087 - accuracy: 0.9829 - val_loss: 2.9690 - val_accuracy: 0.7036\n",
      "Epoch 24/50\n",
      "115/213 [===============>..............] - ETA: 3s - loss: 0.8542 - accuracy: 0.9902"
     ]
    },
    {
     "name": "stderr",
     "output_type": "stream",
     "text": [
      "2022-09-16 23:01:16.607201: W tensorflow/core/lib/png/png_io.cc:88] PNG warning: iCCP: known incorrect sRGB profile\n"
     ]
    },
    {
     "name": "stdout",
     "output_type": "stream",
     "text": [
      "213/213 [==============================] - 7s 33ms/step - loss: 0.8461 - accuracy: 0.9888 - val_loss: 1.0934 - val_accuracy: 0.8857\n",
      "Epoch 25/50\n",
      "115/213 [===============>..............] - ETA: 2s - loss: 0.8051 - accuracy: 0.9872"
     ]
    },
    {
     "name": "stderr",
     "output_type": "stream",
     "text": [
      "2022-09-16 23:01:23.635940: W tensorflow/core/lib/png/png_io.cc:88] PNG warning: iCCP: known incorrect sRGB profile\n"
     ]
    },
    {
     "name": "stdout",
     "output_type": "stream",
     "text": [
      "213/213 [==============================] - 7s 31ms/step - loss: 0.7929 - accuracy: 0.9878 - val_loss: 1.0382 - val_accuracy: 0.9334\n",
      "Epoch 26/50\n",
      "115/213 [===============>..............] - ETA: 2s - loss: 0.7738 - accuracy: 0.9823"
     ]
    },
    {
     "name": "stderr",
     "output_type": "stream",
     "text": [
      "2022-09-16 23:01:30.593807: W tensorflow/core/lib/png/png_io.cc:88] PNG warning: iCCP: known incorrect sRGB profile\n"
     ]
    },
    {
     "name": "stdout",
     "output_type": "stream",
     "text": [
      "213/213 [==============================] - 8s 33ms/step - loss: 0.7547 - accuracy: 0.9850 - val_loss: 0.8433 - val_accuracy: 0.9658\n",
      "Epoch 27/50\n",
      "115/213 [===============>..............] - ETA: 2s - loss: 0.7052 - accuracy: 0.9878"
     ]
    },
    {
     "name": "stderr",
     "output_type": "stream",
     "text": [
      "2022-09-16 23:01:38.114981: W tensorflow/core/lib/png/png_io.cc:88] PNG warning: iCCP: known incorrect sRGB profile\n"
     ]
    },
    {
     "name": "stdout",
     "output_type": "stream",
     "text": [
      "213/213 [==============================] - 7s 31ms/step - loss: 0.6933 - accuracy: 0.9864 - val_loss: 5.6625 - val_accuracy: 0.3076\n",
      "Epoch 28/50\n",
      "115/213 [===============>..............] - ETA: 2s - loss: 0.6472 - accuracy: 0.9902"
     ]
    },
    {
     "name": "stderr",
     "output_type": "stream",
     "text": [
      "2022-09-16 23:01:45.035115: W tensorflow/core/lib/png/png_io.cc:88] PNG warning: iCCP: known incorrect sRGB profile\n"
     ]
    },
    {
     "name": "stdout",
     "output_type": "stream",
     "text": [
      "213/213 [==============================] - 7s 31ms/step - loss: 0.6461 - accuracy: 0.9881 - val_loss: 0.8908 - val_accuracy: 0.9387\n",
      "Epoch 29/50\n",
      "115/213 [===============>..............] - ETA: 2s - loss: 0.6111 - accuracy: 0.9927"
     ]
    },
    {
     "name": "stderr",
     "output_type": "stream",
     "text": [
      "2022-09-16 23:01:51.932651: W tensorflow/core/lib/png/png_io.cc:88] PNG warning: iCCP: known incorrect sRGB profile\n"
     ]
    },
    {
     "name": "stdout",
     "output_type": "stream",
     "text": [
      "213/213 [==============================] - 7s 31ms/step - loss: 0.5997 - accuracy: 0.9931 - val_loss: 0.8896 - val_accuracy: 0.9399\n",
      "Epoch 30/50\n",
      "115/213 [===============>..............] - ETA: 3s - loss: 0.5831 - accuracy: 0.9861"
     ]
    },
    {
     "name": "stderr",
     "output_type": "stream",
     "text": [
      "2022-09-16 23:01:59.288911: W tensorflow/core/lib/png/png_io.cc:88] PNG warning: iCCP: known incorrect sRGB profile\n"
     ]
    },
    {
     "name": "stdout",
     "output_type": "stream",
     "text": [
      "213/213 [==============================] - 8s 34ms/step - loss: 0.5732 - accuracy: 0.9873 - val_loss: 3.8046 - val_accuracy: 0.2982\n",
      "Epoch 31/50\n",
      "116/213 [===============>..............] - ETA: 3s - loss: 0.5414 - accuracy: 0.9916"
     ]
    },
    {
     "name": "stderr",
     "output_type": "stream",
     "text": [
      "2022-09-16 23:02:06.980764: W tensorflow/core/lib/png/png_io.cc:88] PNG warning: iCCP: known incorrect sRGB profile\n"
     ]
    },
    {
     "name": "stdout",
     "output_type": "stream",
     "text": [
      "213/213 [==============================] - 7s 32ms/step - loss: 0.5382 - accuracy: 0.9907 - val_loss: 2.0154 - val_accuracy: 0.4031\n",
      "Epoch 32/50\n",
      "115/213 [===============>..............] - ETA: 2s - loss: 0.5217 - accuracy: 0.9897"
     ]
    },
    {
     "name": "stderr",
     "output_type": "stream",
     "text": [
      "2022-09-16 23:02:13.945070: W tensorflow/core/lib/png/png_io.cc:88] PNG warning: iCCP: known incorrect sRGB profile\n"
     ]
    },
    {
     "name": "stdout",
     "output_type": "stream",
     "text": [
      "213/213 [==============================] - 7s 31ms/step - loss: 0.5096 - accuracy: 0.9897 - val_loss: 3.2259 - val_accuracy: 0.7060\n",
      "Epoch 33/50\n",
      "115/213 [===============>..............] - ETA: 2s - loss: 0.4806 - accuracy: 0.9889"
     ]
    },
    {
     "name": "stderr",
     "output_type": "stream",
     "text": [
      "2022-09-16 23:02:20.883835: W tensorflow/core/lib/png/png_io.cc:88] PNG warning: iCCP: known incorrect sRGB profile\n"
     ]
    },
    {
     "name": "stdout",
     "output_type": "stream",
     "text": [
      "213/213 [==============================] - 7s 32ms/step - loss: 0.4758 - accuracy: 0.9884 - val_loss: 0.7217 - val_accuracy: 0.9464\n",
      "Epoch 34/50\n",
      "113/213 [==============>...............] - ETA: 3s - loss: 0.4758 - accuracy: 0.9864"
     ]
    },
    {
     "name": "stderr",
     "output_type": "stream",
     "text": [
      "2022-09-16 23:02:28.272227: W tensorflow/core/lib/png/png_io.cc:88] PNG warning: iCCP: known incorrect sRGB profile\n"
     ]
    },
    {
     "name": "stdout",
     "output_type": "stream",
     "text": [
      "213/213 [==============================] - 7s 33ms/step - loss: 0.4638 - accuracy: 0.9873 - val_loss: 1.0317 - val_accuracy: 0.8144\n",
      "Epoch 35/50\n",
      "115/213 [===============>..............] - ETA: 2s - loss: 0.4455 - accuracy: 0.9886"
     ]
    },
    {
     "name": "stderr",
     "output_type": "stream",
     "text": [
      "2022-09-16 23:02:35.503654: W tensorflow/core/lib/png/png_io.cc:88] PNG warning: iCCP: known incorrect sRGB profile\n"
     ]
    },
    {
     "name": "stdout",
     "output_type": "stream",
     "text": [
      "213/213 [==============================] - 7s 31ms/step - loss: 0.4327 - accuracy: 0.9894 - val_loss: 1.7770 - val_accuracy: 0.7177\n",
      "Epoch 36/50\n",
      "116/213 [===============>..............] - ETA: 2s - loss: 0.4083 - accuracy: 0.9933"
     ]
    },
    {
     "name": "stderr",
     "output_type": "stream",
     "text": [
      "2022-09-16 23:02:42.623584: W tensorflow/core/lib/png/png_io.cc:88] PNG warning: iCCP: known incorrect sRGB profile\n"
     ]
    },
    {
     "name": "stdout",
     "output_type": "stream",
     "text": [
      "213/213 [==============================] - 7s 32ms/step - loss: 0.4099 - accuracy: 0.9912 - val_loss: 3.2790 - val_accuracy: 0.4484\n",
      "Epoch 37/50\n",
      "115/213 [===============>..............] - ETA: 2s - loss: 0.3929 - accuracy: 0.9918"
     ]
    },
    {
     "name": "stderr",
     "output_type": "stream",
     "text": [
      "2022-09-16 23:02:49.620842: W tensorflow/core/lib/png/png_io.cc:88] PNG warning: iCCP: known incorrect sRGB profile\n"
     ]
    },
    {
     "name": "stdout",
     "output_type": "stream",
     "text": [
      "213/213 [==============================] - 7s 32ms/step - loss: 0.3859 - accuracy: 0.9923 - val_loss: 0.6832 - val_accuracy: 0.9334\n",
      "Epoch 38/50\n",
      "115/213 [===============>..............] - ETA: 2s - loss: 0.3842 - accuracy: 0.9856"
     ]
    },
    {
     "name": "stderr",
     "output_type": "stream",
     "text": [
      "2022-09-16 23:02:57.081907: W tensorflow/core/lib/png/png_io.cc:88] PNG warning: iCCP: known incorrect sRGB profile\n"
     ]
    },
    {
     "name": "stdout",
     "output_type": "stream",
     "text": [
      "213/213 [==============================] - 8s 34ms/step - loss: 0.3774 - accuracy: 0.9881 - val_loss: 2.8624 - val_accuracy: 0.7065\n",
      "Epoch 39/50\n",
      "116/213 [===============>..............] - ETA: 2s - loss: 0.3528 - accuracy: 0.9898"
     ]
    },
    {
     "name": "stderr",
     "output_type": "stream",
     "text": [
      "2022-09-16 23:03:04.704162: W tensorflow/core/lib/png/png_io.cc:88] PNG warning: iCCP: known incorrect sRGB profile\n"
     ]
    },
    {
     "name": "stdout",
     "output_type": "stream",
     "text": [
      "213/213 [==============================] - 7s 33ms/step - loss: 0.3549 - accuracy: 0.9901 - val_loss: 0.5906 - val_accuracy: 0.9534\n",
      "Epoch 40/50\n",
      "113/213 [==============>...............] - ETA: 2s - loss: 0.3323 - accuracy: 0.9920"
     ]
    },
    {
     "name": "stderr",
     "output_type": "stream",
     "text": [
      "2022-09-16 23:03:11.990294: W tensorflow/core/lib/png/png_io.cc:88] PNG warning: iCCP: known incorrect sRGB profile\n"
     ]
    },
    {
     "name": "stdout",
     "output_type": "stream",
     "text": [
      "213/213 [==============================] - 7s 33ms/step - loss: 0.3322 - accuracy: 0.9909 - val_loss: 0.6252 - val_accuracy: 0.9405\n",
      "Epoch 41/50\n",
      "115/213 [===============>..............] - ETA: 2s - loss: 0.3114 - accuracy: 0.9913"
     ]
    },
    {
     "name": "stderr",
     "output_type": "stream",
     "text": [
      "2022-09-16 23:03:19.197016: W tensorflow/core/lib/png/png_io.cc:88] PNG warning: iCCP: known incorrect sRGB profile\n"
     ]
    },
    {
     "name": "stdout",
     "output_type": "stream",
     "text": [
      "213/213 [==============================] - 7s 31ms/step - loss: 0.3052 - accuracy: 0.9931 - val_loss: 4.6124 - val_accuracy: 0.2964\n",
      "Epoch 42/50\n",
      "115/213 [===============>..............] - ETA: 3s - loss: 0.2973 - accuracy: 0.9921"
     ]
    },
    {
     "name": "stderr",
     "output_type": "stream",
     "text": [
      "2022-09-16 23:03:26.779823: W tensorflow/core/lib/png/png_io.cc:88] PNG warning: iCCP: known incorrect sRGB profile\n"
     ]
    },
    {
     "name": "stdout",
     "output_type": "stream",
     "text": [
      "213/213 [==============================] - 8s 35ms/step - loss: 0.3008 - accuracy: 0.9904 - val_loss: 2.7900 - val_accuracy: 0.6724\n",
      "Epoch 43/50\n",
      "115/213 [===============>..............] - ETA: 2s - loss: 0.2823 - accuracy: 0.9894"
     ]
    },
    {
     "name": "stderr",
     "output_type": "stream",
     "text": [
      "2022-09-16 23:03:34.136589: W tensorflow/core/lib/png/png_io.cc:88] PNG warning: iCCP: known incorrect sRGB profile\n"
     ]
    },
    {
     "name": "stdout",
     "output_type": "stream",
     "text": [
      "213/213 [==============================] - 7s 31ms/step - loss: 0.2809 - accuracy: 0.9909 - val_loss: 0.4929 - val_accuracy: 0.9564\n",
      "Epoch 44/50\n",
      "114/213 [===============>..............] - ETA: 2s - loss: 0.2634 - accuracy: 0.9940"
     ]
    },
    {
     "name": "stderr",
     "output_type": "stream",
     "text": [
      "2022-09-16 23:03:41.298770: W tensorflow/core/lib/png/png_io.cc:88] PNG warning: iCCP: known incorrect sRGB profile\n"
     ]
    },
    {
     "name": "stdout",
     "output_type": "stream",
     "text": [
      "213/213 [==============================] - 9s 39ms/step - loss: 0.2578 - accuracy: 0.9941 - val_loss: 0.6910 - val_accuracy: 0.9364\n",
      "Epoch 45/50\n",
      "114/213 [===============>..............] - ETA: 3s - loss: 0.2521 - accuracy: 0.9931"
     ]
    },
    {
     "name": "stderr",
     "output_type": "stream",
     "text": [
      "2022-09-16 23:03:50.280070: W tensorflow/core/lib/png/png_io.cc:88] PNG warning: iCCP: known incorrect sRGB profile\n"
     ]
    },
    {
     "name": "stdout",
     "output_type": "stream",
     "text": [
      "213/213 [==============================] - 8s 34ms/step - loss: 0.2501 - accuracy: 0.9923 - val_loss: 0.6175 - val_accuracy: 0.9210\n",
      "Epoch 46/50\n",
      "114/213 [===============>..............] - ETA: 3s - loss: 0.2427 - accuracy: 0.9923"
     ]
    },
    {
     "name": "stderr",
     "output_type": "stream",
     "text": [
      "2022-09-16 23:03:57.853614: W tensorflow/core/lib/png/png_io.cc:88] PNG warning: iCCP: known incorrect sRGB profile\n"
     ]
    },
    {
     "name": "stdout",
     "output_type": "stream",
     "text": [
      "213/213 [==============================] - 7s 33ms/step - loss: 0.2490 - accuracy: 0.9904 - val_loss: 0.5515 - val_accuracy: 0.9352\n",
      "Epoch 47/50\n",
      "115/213 [===============>..............] - ETA: 3s - loss: 0.2323 - accuracy: 0.9927"
     ]
    },
    {
     "name": "stderr",
     "output_type": "stream",
     "text": [
      "2022-09-16 23:04:05.433739: W tensorflow/core/lib/png/png_io.cc:88] PNG warning: iCCP: known incorrect sRGB profile\n"
     ]
    },
    {
     "name": "stdout",
     "output_type": "stream",
     "text": [
      "213/213 [==============================] - 7s 32ms/step - loss: 0.2324 - accuracy: 0.9917 - val_loss: 0.8092 - val_accuracy: 0.8362\n",
      "Epoch 48/50\n",
      "115/213 [===============>..............] - ETA: 2s - loss: 0.2178 - accuracy: 0.9929"
     ]
    },
    {
     "name": "stderr",
     "output_type": "stream",
     "text": [
      "2022-09-16 23:04:12.365647: W tensorflow/core/lib/png/png_io.cc:88] PNG warning: iCCP: known incorrect sRGB profile\n"
     ]
    },
    {
     "name": "stdout",
     "output_type": "stream",
     "text": [
      "213/213 [==============================] - 7s 30ms/step - loss: 0.2219 - accuracy: 0.9913 - val_loss: 2.9507 - val_accuracy: 0.4284\n",
      "Epoch 49/50\n",
      "115/213 [===============>..............] - ETA: 2s - loss: 0.2186 - accuracy: 0.9913"
     ]
    },
    {
     "name": "stderr",
     "output_type": "stream",
     "text": [
      "2022-09-16 23:04:19.286117: W tensorflow/core/lib/png/png_io.cc:88] PNG warning: iCCP: known incorrect sRGB profile\n"
     ]
    },
    {
     "name": "stdout",
     "output_type": "stream",
     "text": [
      "213/213 [==============================] - 7s 31ms/step - loss: 0.2128 - accuracy: 0.9922 - val_loss: 1.7376 - val_accuracy: 0.7024\n",
      "Epoch 50/50\n",
      "113/213 [==============>...............] - ETA: 3s - loss: 0.1944 - accuracy: 0.9945"
     ]
    },
    {
     "name": "stderr",
     "output_type": "stream",
     "text": [
      "2022-09-16 23:04:26.375927: W tensorflow/core/lib/png/png_io.cc:88] PNG warning: iCCP: known incorrect sRGB profile\n"
     ]
    },
    {
     "name": "stdout",
     "output_type": "stream",
     "text": [
      "213/213 [==============================] - 8s 34ms/step - loss: 0.1951 - accuracy: 0.9935 - val_loss: 0.3423 - val_accuracy: 0.9570\n"
     ]
    }
   ],
   "source": [
    "EPOCHS = 50\n",
    "history = model.fit(train_ds,                            # Training set with data and label\n",
    "                    validation_data=val_ds,   # Validation set with data and label\n",
    "                    epochs=EPOCHS,                       # The amount of epochs to be trained\n",
    "                    batch_size=BATCH_SIZE,\n",
    "                    shuffle=True,                     # To shuffle the training data\n",
    "                    callbacks=callbacks_list)         # Callbacks to execute the checkpoints"
   ]
  },
  {
   "cell_type": "code",
   "execution_count": 92,
   "id": "5935bf6f-d613-430c-8bf4-8f1dd944d225",
   "metadata": {},
   "outputs": [
    {
     "data": {
      "image/png": "[encoded data removed]",
      "text/plain": [
       "<Figure size 800x800 with 2 Axes>"
      ]
     },
     "metadata": {},
     "output_type": "display_data"
    }
   ],
   "source": [
    "# Plot the accuracy and error on training and test sets\n",
    "\n",
    "acc = history.history['accuracy']\n",
    "val_acc = history.history['val_accuracy']\n",
    "\n",
    "loss = history.history['loss']\n",
    "val_loss = history.history['val_loss']\n",
    "\n",
    "epochs_range = range(EPOCHS)\n",
    "\n",
    "plt.figure(figsize=(8, 8))\n",
    "plt.subplot(1, 2, 1)\n",
    "plt.plot(epochs_range, acc, label='Training Accuracy')\n",
    "plt.plot(epochs_range, val_acc, label='Validation Accuracy')\n",
    "plt.legend(loc='lower right')\n",
    "plt.title('Training and Validation Accuracy')\n",
    "\n",
    "plt.subplot(1, 2, 2)\n",
    "plt.plot(epochs_range, loss, label='Training Loss')\n",
    "plt.plot(epochs_range, val_loss, label='Validation Loss')\n",
    "plt.legend(loc='upper right')\n",
    "plt.title('Training and Validation Loss')\n",
    "plt.show()"
   ]
  },
  {
   "cell_type": "code",
   "execution_count": 93,
   "id": "298b829c",
   "metadata": {},
   "outputs": [
    {
     "name": "stdout",
     "output_type": "stream",
     "text": [
      "54/54 [==============================] - 1s 12ms/step\n",
      "Prediction completes.\n"
     ]
    }
   ],
   "source": [
    "                                                                                # Step 1\n",
    "modelGo.load_weights(model_file)\n",
    "modelGo.compile(loss='categorical_crossentropy', \n",
    "                optimizer='adam', \n",
    "                metrics=['accuracy'])\n",
    "\n",
    "predicts    = modelGo.predict(val_ds)                                            # Step 2\n",
    "print(\"Prediction completes.\")"
   ]
  },
  {
   "cell_type": "code",
   "execution_count": 94,
   "id": "1a828a8d",
   "metadata": {},
   "outputs": [
    {
     "name": "stdout",
     "output_type": "stream",
     "text": [
      "Best accuracy (on testing dataset): 96.58%\n",
      "                 precision    recall  f1-score   support\n",
      "\n",
      "       arrowana     0.9045    0.9171    0.9108       217\n",
      "     betta_fish     0.9672    0.9267    0.9465       191\n",
      "common_goldfish     0.9790    0.9976    0.9882       421\n",
      "         luohan     0.8913    0.8865    0.8889       185\n",
      "         oranda     0.9971    0.9941    0.9956       683\n",
      "\n",
      "       accuracy                         0.9658      1697\n",
      "      macro avg     0.9478    0.9444    0.9460      1697\n",
      "   weighted avg     0.9659    0.9658    0.9658      1697\n",
      "\n"
     ]
    }
   ],
   "source": [
    "                                                                                # Step 1\n",
    "                                                                                # Step 2\n",
    "predout     = np.argmax(predicts, axis=1)\n",
    "testout     = np.argmax(y_val_bin, axis=1)\n",
    "\n",
    "testScores  = metrics.accuracy_score(testout,predout)                           # Step 3\n",
    "\n",
    "                                                                                # Step 4\n",
    "print(\"Best accuracy (on testing dataset): %.2f%%\" % (testScores*100))\n",
    "print(metrics.classification_report(testout,\n",
    "                                    predout,\n",
    "                                    target_names=class_names,\n",
    "                                    digits=4))\n",
    "\n",
    "report = metrics.classification_report(testout,\n",
    "                                    predout,\n",
    "                                    target_names=class_names,\n",
    "                                    digits=4,\n",
    "                                    output_dict=True)\n",
    "\n",
    "df = pd.DataFrame(report).transpose()\n",
    "df.to_csv(folderpath+modelname+'_report.csv')"
   ]
  },
  {
   "cell_type": "code",
   "execution_count": 97,
   "id": "42557859",
   "metadata": {},
   "outputs": [
    {
     "name": "stdout",
     "output_type": "stream",
     "text": [
      "1/1 [==============================] - 0s 17ms/step\n",
      "1/1 [==============================] - 0s 18ms/step - loss: 0.1680 - accuracy: 0.0000e+00\n",
      "[0. 0. 1. 0. 0.]\n",
      "This image most likely belongs to common_goldfish with a 40.46 percent confidence.\n"
     ]
    }
   ],
   "source": [
    "from keras.models import load_model\n",
    "from sklearn.metrics import accuracy_score\n",
    "from sklearn.metrics import classification_report\n",
    "\n",
    "fish_img = \"validate/Screenshot 2022-09-08 210113.jpg\"\n",
    "#fish_img = \"validate/0221faa8b79c4b2eb4dfee6f46912d74.jpg\"\n",
    "#fish_img = \"validate/word-image.jpeg\"\n",
    "#fish_path = tf.keras.utils.get_file('Fish', origin=fish_url)\n",
    "\n",
    "img = tf.keras.utils.load_img(\n",
    "    fish_img, target_size=(IMG_HEIGHT, IMG_WIDTH)\n",
    ")\n",
    "img_array = tf.keras.utils.img_to_array(img)\n",
    "img_array = tf.expand_dims(img_array, 0) # Create a batch\n",
    "#img_array = np.array([img_array])\n",
    "\n",
    "#saved_model = load_model('fish_model.h5')\n",
    "saved_model = load_model(model_file)\n",
    "\n",
    "predictions = model.predict(img_array)\n",
    "score = tf.nn.softmax(predictions[0])\n",
    "\n",
    "model.evaluate(img_array)\n",
    "\n",
    "print(predictions[0])\n",
    "\n",
    "print(\n",
    "    \"This image most likely belongs to {} with a {:.2f} percent confidence.\"\n",
    "    .format(class_names[np.argmax(score)], 100 * np.max(score))\n",
    ")"
   ]
  }
 ],
 "metadata": {
  "kernelspec": {
   "display_name": "Python 3 (ipykernel)",
   "language": "python",
   "name": "python3"
  },
  "language_info": {
   "codemirror_mode": {
    "name": "ipython",
    "version": 3
   },
   "file_extension": ".py",
   "mimetype": "text/x-python",
   "name": "python",
   "nbconvert_exporter": "python",
   "pygments_lexer": "ipython3",
   "version": "3.9.13"
  }
 },
 "nbformat": 4,
 "nbformat_minor": 5
}
