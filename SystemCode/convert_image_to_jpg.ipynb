{
 "cells": [
  {
   "cell_type": "code",
   "execution_count": null,
   "id": "4dedfc6d-c81c-44d5-bf97-c862638e5717",
   "metadata": {},
   "outputs": [],
   "source": [
    "# Execute only if required.\n",
    "# Check for error of images and convert to jpeg if there is error\n",
    "\n",
    "from pathlib import Path\n",
    "import imghdr\n",
    "\n",
    "from PIL import Image\n",
    "\n",
    "def convert_image(file):    \n",
    "    image = Image.open(file)\n",
    "    image_rgb = image.convert('RGB')\n",
    "    image_rgb.save(file)\n",
    "\n",
    "data_dir = \"dataset/\"\n",
    "image_extensions = [\".png\", \".jpg\"]  # add there all your images file extensions\n",
    "\n",
    "img_type_accepted_by_tf = [\"bmp\", \"gif\", \"jpeg\", \"png\"]\n",
    "for filepath in Path(data_dir).rglob(\"*\"):\n",
    "    if filepath.suffix.lower() in image_extensions:\n",
    "        img_type = imghdr.what(filepath)\n",
    "        if img_type is None:\n",
    "            print(f\"{filepath} is not an image\")\n",
    "            convert_image(filepath)\n",
    "        elif img_type not in img_type_accepted_by_tf:\n",
    "            print(f\"{filepath} is a {img_type}, not accepted by TensorFlow\")\n",
    "            convert_image(filepath)"
   ]
  }
 ],
 "metadata": {
  "kernelspec": {
   "display_name": "Python 3 (ipykernel)",
   "language": "python",
   "name": "python3"
  },
  "language_info": {
   "codemirror_mode": {
    "name": "ipython",
    "version": 3
   },
   "file_extension": ".py",
   "mimetype": "text/x-python",
   "name": "python",
   "nbconvert_exporter": "python",
   "pygments_lexer": "ipython3",
   "version": "3.9.13"
  }
 },
 "nbformat": 4,
 "nbformat_minor": 5
}
